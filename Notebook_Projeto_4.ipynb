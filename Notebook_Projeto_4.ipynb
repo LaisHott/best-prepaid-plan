{
  "cells": [
    {
      "cell_type": "markdown",
      "metadata": {
        "id": "view-in-github",
        "colab_type": "text"
      },
      "source": [
        "<a href=\"https://colab.research.google.com/github/LaisHott/best-prepaid-plan/blob/main/Notebook_Projeto_4.ipynb\" target=\"_parent\"><img src=\"https://colab.research.google.com/assets/colab-badge.svg\" alt=\"Open In Colab\"/></a>"
      ]
    },
    {
      "cell_type": "markdown",
      "metadata": {
        "id": "I7dbmrIaJhTD"
      },
      "source": [
        "# Qual é o melhor plano?\n",
        "\n",
        "Você trabalha como analista para a empresa de telecomunicações Megaline. A empresa oferece aos seus cliente planos pré-pagos, Surf e Ultimate. O departamento comercial quer saber quais dos planos dão mais receita para ajustar o orçamento de publicidade.\n",
        "\n",
        "Você vai realizar uma primeira análise dos planos baseados em uma pequena seleção de clientes. Você terá dados de 500 clientes da Megaline: que clientes são, de onde eles são, qual plano usam, o número de chamadas que eles fizeram e mensagens que eles enviaram em 2018. O seu trabalho é analisar o comportamento dos clientes e determinar quais planos pré-pagos dão mais receita."
      ]
    },
    {
      "cell_type": "markdown",
      "metadata": {
        "id": "ERN_1wM3JhTD"
      },
      "source": [
        "- O objetivo deste projeto é analisar o comportamento dos clientes da empresa de telecomunicações Megaline, especificamente em relação aos planos pré-pagos oferecidos: Surf e Ultimate. A meta é determinar qual dos planos gera mais receita, a fim de fornecer informações valiosas ao departamento comercial para ajustar o orçamento de publicidade.\n",
        "\n",
        "- Para realizar essa análise, foram fornecidos dados de 500 clientes da Megaline, que incluem informações como identificação dos clientes, localização geográfica, plano utilizado, número de chamadas realizadas e quantidade de mensagens enviadas em 2018.\n",
        "    - Explorar e compreender os dados fornecidos\n",
        "    - Realizar a limpeza e correção dos dados\n",
        "    - Integrar os dados relevantes das diferentes tabelas\n",
        "    - Comparar o comportamento dos clientes em relação aos planos\n",
        "    - Realizar testes estatísticos\n"
      ]
    },
    {
      "cell_type": "markdown",
      "metadata": {
        "id": "csOu41N1JhTF"
      },
      "source": [
        "## Inicialização"
      ]
    },
    {
      "cell_type": "code",
      "execution_count": null,
      "metadata": {
        "id": "GQxo868dJhTF"
      },
      "outputs": [],
      "source": [
        "# Carregando todas as bibliotecas\n",
        "import pandas as pd\n",
        "import matplotlib.pyplot as plt\n",
        "import numpy as np\n",
        "import seaborn as sns\n",
        "from scipy import stats\n",
        "import math"
      ]
    },
    {
      "cell_type": "markdown",
      "metadata": {
        "id": "lShc8bQgJhTG"
      },
      "source": [
        "## Carregar dados"
      ]
    },
    {
      "cell_type": "code",
      "execution_count": null,
      "metadata": {
        "id": "4Q9TNclbJhTH"
      },
      "outputs": [],
      "source": [
        "# Carregue os arquivos de dados em diferentes DataFrames\n",
        "calls = pd.read_csv('/datasets/megaline_calls.csv')"
      ]
    },
    {
      "cell_type": "code",
      "execution_count": null,
      "metadata": {
        "id": "-MK30P78JhTH"
      },
      "outputs": [],
      "source": [
        "internet = pd.read_csv('/datasets/megaline_internet.csv')"
      ]
    },
    {
      "cell_type": "code",
      "execution_count": null,
      "metadata": {
        "id": "KjyELcp8JhTK"
      },
      "outputs": [],
      "source": [
        "messages = pd.read_csv('/datasets/megaline_messages.csv')"
      ]
    },
    {
      "cell_type": "code",
      "execution_count": null,
      "metadata": {
        "id": "6HH-8ScAJhTK"
      },
      "outputs": [],
      "source": [
        "plans = pd.read_csv('/datasets/megaline_plans.csv')"
      ]
    },
    {
      "cell_type": "code",
      "execution_count": null,
      "metadata": {
        "id": "rJh3BmZwJhTK"
      },
      "outputs": [],
      "source": [
        "users = pd.read_csv('/datasets/megaline_users.csv')"
      ]
    },
    {
      "cell_type": "markdown",
      "metadata": {
        "id": "T8Td1lqKJhTL"
      },
      "source": [
        "## Preparar os dados"
      ]
    },
    {
      "cell_type": "markdown",
      "metadata": {
        "id": "7Ctt78lGJhTL"
      },
      "source": [
        "- Ao analisar os dados para o projeto, identificamos que eles estão divididos em várias tabelas. Nesta etapa, realizamos a exploração inicial de cada tabela e fizemos as correções necessárias, se aplicável. Vamos descrever as ações realizadas em relação a cada tabela:"
      ]
    },
    {
      "cell_type": "markdown",
      "metadata": {
        "id": "WOKfVLgWJhTL"
      },
      "source": [
        "## Planos"
      ]
    },
    {
      "cell_type": "code",
      "execution_count": null,
      "metadata": {
        "id": "tkneBAH_JhTL",
        "outputId": "23b3f7f6-a295-41a7-ccf0-ec49a5b0c0da"
      },
      "outputs": [
        {
          "name": "stdout",
          "output_type": "stream",
          "text": [
            "<class 'pandas.core.frame.DataFrame'>\n",
            "RangeIndex: 2 entries, 0 to 1\n",
            "Data columns (total 8 columns):\n",
            " #   Column                 Non-Null Count  Dtype  \n",
            "---  ------                 --------------  -----  \n",
            " 0   messages_included      2 non-null      int64  \n",
            " 1   mb_per_month_included  2 non-null      int64  \n",
            " 2   minutes_included       2 non-null      int64  \n",
            " 3   usd_monthly_pay        2 non-null      int64  \n",
            " 4   usd_per_gb             2 non-null      int64  \n",
            " 5   usd_per_message        2 non-null      float64\n",
            " 6   usd_per_minute         2 non-null      float64\n",
            " 7   plan_name              2 non-null      object \n",
            "dtypes: float64(2), int64(5), object(1)\n",
            "memory usage: 256.0+ bytes\n"
          ]
        }
      ],
      "source": [
        "# Imprima as informações gerais/resumidas sobre o DataFrame dos planos\n",
        "plans.info()"
      ]
    },
    {
      "cell_type": "code",
      "execution_count": null,
      "metadata": {
        "id": "9iCLFDjwJhTM",
        "outputId": "1ce064df-5fc2-4f4b-e207-9c1fa45ce489"
      },
      "outputs": [
        {
          "data": {
            "text/html": [
              "<div>\n",
              "<style scoped>\n",
              "    .dataframe tbody tr th:only-of-type {\n",
              "        vertical-align: middle;\n",
              "    }\n",
              "\n",
              "    .dataframe tbody tr th {\n",
              "        vertical-align: top;\n",
              "    }\n",
              "\n",
              "    .dataframe thead th {\n",
              "        text-align: right;\n",
              "    }\n",
              "</style>\n",
              "<table border=\"1\" class=\"dataframe\">\n",
              "  <thead>\n",
              "    <tr style=\"text-align: right;\">\n",
              "      <th></th>\n",
              "      <th>messages_included</th>\n",
              "      <th>mb_per_month_included</th>\n",
              "      <th>minutes_included</th>\n",
              "      <th>usd_monthly_pay</th>\n",
              "      <th>usd_per_gb</th>\n",
              "      <th>usd_per_message</th>\n",
              "      <th>usd_per_minute</th>\n",
              "      <th>plan_name</th>\n",
              "    </tr>\n",
              "  </thead>\n",
              "  <tbody>\n",
              "    <tr>\n",
              "      <th>0</th>\n",
              "      <td>50</td>\n",
              "      <td>15360</td>\n",
              "      <td>500</td>\n",
              "      <td>20</td>\n",
              "      <td>10</td>\n",
              "      <td>0.03</td>\n",
              "      <td>0.03</td>\n",
              "      <td>surf</td>\n",
              "    </tr>\n",
              "    <tr>\n",
              "      <th>1</th>\n",
              "      <td>1000</td>\n",
              "      <td>30720</td>\n",
              "      <td>3000</td>\n",
              "      <td>70</td>\n",
              "      <td>7</td>\n",
              "      <td>0.01</td>\n",
              "      <td>0.01</td>\n",
              "      <td>ultimate</td>\n",
              "    </tr>\n",
              "  </tbody>\n",
              "</table>\n",
              "</div>"
            ],
            "text/plain": [
              "   messages_included  mb_per_month_included  minutes_included  \\\n",
              "0                 50                  15360               500   \n",
              "1               1000                  30720              3000   \n",
              "\n",
              "   usd_monthly_pay  usd_per_gb  usd_per_message  usd_per_minute plan_name  \n",
              "0               20          10             0.03            0.03      surf  \n",
              "1               70           7             0.01            0.01  ultimate  "
            ]
          },
          "execution_count": 8,
          "metadata": {},
          "output_type": "execute_result"
        }
      ],
      "source": [
        "# Imprimir uma amostra de dados para os planos\n",
        "plans.head()"
      ]
    },
    {
      "cell_type": "code",
      "execution_count": null,
      "metadata": {
        "id": "AuSVm4uCJhTN",
        "outputId": "e9566c54-e1a4-4cd7-e4c4-7aaaff484cdd"
      },
      "outputs": [
        {
          "data": {
            "text/plain": [
              "messages_included        0\n",
              "mb_per_month_included    0\n",
              "minutes_included         0\n",
              "usd_monthly_pay          0\n",
              "usd_per_gb               0\n",
              "usd_per_message          0\n",
              "usd_per_minute           0\n",
              "plan_name                0\n",
              "dtype: int64"
            ]
          },
          "execution_count": 9,
          "metadata": {},
          "output_type": "execute_result"
        }
      ],
      "source": [
        "#Verificando presença de dados ausentes\n",
        "plans.isna().sum()"
      ]
    },
    {
      "cell_type": "code",
      "execution_count": null,
      "metadata": {
        "id": "cX0hjB0lJhTN",
        "outputId": "4a6792bf-51dd-4f59-d5f8-bc5d93b408bb"
      },
      "outputs": [
        {
          "data": {
            "text/plain": [
              "0"
            ]
          },
          "execution_count": 10,
          "metadata": {},
          "output_type": "execute_result"
        }
      ],
      "source": [
        "#Verificando presença de duplicatas\n",
        "plans.duplicated().sum()"
      ]
    },
    {
      "cell_type": "code",
      "execution_count": null,
      "metadata": {
        "scrolled": false,
        "id": "IrPOwxbWJhTO",
        "outputId": "62c91e1a-f031-4858-8610-c944c1837bb1"
      },
      "outputs": [
        {
          "data": {
            "text/html": [
              "<div>\n",
              "<style scoped>\n",
              "    .dataframe tbody tr th:only-of-type {\n",
              "        vertical-align: middle;\n",
              "    }\n",
              "\n",
              "    .dataframe tbody tr th {\n",
              "        vertical-align: top;\n",
              "    }\n",
              "\n",
              "    .dataframe thead th {\n",
              "        text-align: right;\n",
              "    }\n",
              "</style>\n",
              "<table border=\"1\" class=\"dataframe\">\n",
              "  <thead>\n",
              "    <tr style=\"text-align: right;\">\n",
              "      <th></th>\n",
              "      <th>messages_included</th>\n",
              "      <th>mb_per_month_included</th>\n",
              "      <th>minutes_included</th>\n",
              "      <th>usd_monthly_pay</th>\n",
              "      <th>usd_per_gb</th>\n",
              "      <th>usd_per_message</th>\n",
              "      <th>usd_per_minute</th>\n",
              "    </tr>\n",
              "  </thead>\n",
              "  <tbody>\n",
              "    <tr>\n",
              "      <th>count</th>\n",
              "      <td>2.000000</td>\n",
              "      <td>2.000000</td>\n",
              "      <td>2.000000</td>\n",
              "      <td>2.000000</td>\n",
              "      <td>2.00000</td>\n",
              "      <td>2.000000</td>\n",
              "      <td>2.000000</td>\n",
              "    </tr>\n",
              "    <tr>\n",
              "      <th>mean</th>\n",
              "      <td>525.000000</td>\n",
              "      <td>23040.000000</td>\n",
              "      <td>1750.000000</td>\n",
              "      <td>45.000000</td>\n",
              "      <td>8.50000</td>\n",
              "      <td>0.020000</td>\n",
              "      <td>0.020000</td>\n",
              "    </tr>\n",
              "    <tr>\n",
              "      <th>std</th>\n",
              "      <td>671.751442</td>\n",
              "      <td>10861.160159</td>\n",
              "      <td>1767.766953</td>\n",
              "      <td>35.355339</td>\n",
              "      <td>2.12132</td>\n",
              "      <td>0.014142</td>\n",
              "      <td>0.014142</td>\n",
              "    </tr>\n",
              "    <tr>\n",
              "      <th>min</th>\n",
              "      <td>50.000000</td>\n",
              "      <td>15360.000000</td>\n",
              "      <td>500.000000</td>\n",
              "      <td>20.000000</td>\n",
              "      <td>7.00000</td>\n",
              "      <td>0.010000</td>\n",
              "      <td>0.010000</td>\n",
              "    </tr>\n",
              "    <tr>\n",
              "      <th>25%</th>\n",
              "      <td>287.500000</td>\n",
              "      <td>19200.000000</td>\n",
              "      <td>1125.000000</td>\n",
              "      <td>32.500000</td>\n",
              "      <td>7.75000</td>\n",
              "      <td>0.015000</td>\n",
              "      <td>0.015000</td>\n",
              "    </tr>\n",
              "    <tr>\n",
              "      <th>50%</th>\n",
              "      <td>525.000000</td>\n",
              "      <td>23040.000000</td>\n",
              "      <td>1750.000000</td>\n",
              "      <td>45.000000</td>\n",
              "      <td>8.50000</td>\n",
              "      <td>0.020000</td>\n",
              "      <td>0.020000</td>\n",
              "    </tr>\n",
              "    <tr>\n",
              "      <th>75%</th>\n",
              "      <td>762.500000</td>\n",
              "      <td>26880.000000</td>\n",
              "      <td>2375.000000</td>\n",
              "      <td>57.500000</td>\n",
              "      <td>9.25000</td>\n",
              "      <td>0.025000</td>\n",
              "      <td>0.025000</td>\n",
              "    </tr>\n",
              "    <tr>\n",
              "      <th>max</th>\n",
              "      <td>1000.000000</td>\n",
              "      <td>30720.000000</td>\n",
              "      <td>3000.000000</td>\n",
              "      <td>70.000000</td>\n",
              "      <td>10.00000</td>\n",
              "      <td>0.030000</td>\n",
              "      <td>0.030000</td>\n",
              "    </tr>\n",
              "  </tbody>\n",
              "</table>\n",
              "</div>"
            ],
            "text/plain": [
              "       messages_included  mb_per_month_included  minutes_included  \\\n",
              "count           2.000000               2.000000          2.000000   \n",
              "mean          525.000000           23040.000000       1750.000000   \n",
              "std           671.751442           10861.160159       1767.766953   \n",
              "min            50.000000           15360.000000        500.000000   \n",
              "25%           287.500000           19200.000000       1125.000000   \n",
              "50%           525.000000           23040.000000       1750.000000   \n",
              "75%           762.500000           26880.000000       2375.000000   \n",
              "max          1000.000000           30720.000000       3000.000000   \n",
              "\n",
              "       usd_monthly_pay  usd_per_gb  usd_per_message  usd_per_minute  \n",
              "count         2.000000     2.00000         2.000000        2.000000  \n",
              "mean         45.000000     8.50000         0.020000        0.020000  \n",
              "std          35.355339     2.12132         0.014142        0.014142  \n",
              "min          20.000000     7.00000         0.010000        0.010000  \n",
              "25%          32.500000     7.75000         0.015000        0.015000  \n",
              "50%          45.000000     8.50000         0.020000        0.020000  \n",
              "75%          57.500000     9.25000         0.025000        0.025000  \n",
              "max          70.000000    10.00000         0.030000        0.030000  "
            ]
          },
          "execution_count": 11,
          "metadata": {},
          "output_type": "execute_result"
        }
      ],
      "source": [
        "#Analisando estatísticas resumidas\n",
        "plans.describe()"
      ]
    },
    {
      "cell_type": "markdown",
      "metadata": {
        "id": "-fsHAITuJhTO"
      },
      "source": [
        "- Durante a análise do DataFrame, verificamos que os tipos de dados em cada coluna estão corretos e adequados para as informações que elas representam. Não foram encontrados dados ausentes no DataFrame, indicando que todas as informações estão presentes para cada plano. Além disso, não foram identificados dados duplicados, o que sugere que cada plano é representado apenas uma vez no conjunto de dados.\n",
        "- Ao examinar as colunas do DataFrame, não encontramos a presença de outliers evidentes. Isso sugere que os valores nesses campos estão dentro de um intervalo razoável e não apresentam desvios significativos."
      ]
    },
    {
      "cell_type": "markdown",
      "metadata": {
        "id": "2SimA6FaJhTP"
      },
      "source": [
        "### Enriqueça os dados"
      ]
    },
    {
      "cell_type": "markdown",
      "metadata": {
        "id": "zBttzh-HJhTP"
      },
      "source": [
        "- Vamos adicionar alguns fatores aos dados que podem ser úteis."
      ]
    },
    {
      "cell_type": "code",
      "execution_count": null,
      "metadata": {
        "scrolled": true,
        "id": "HXKVks7EJhTP",
        "outputId": "53d1bb9c-50c2-45c5-ea5c-d953282ac97a"
      },
      "outputs": [
        {
          "data": {
            "text/html": [
              "<div>\n",
              "<style scoped>\n",
              "    .dataframe tbody tr th:only-of-type {\n",
              "        vertical-align: middle;\n",
              "    }\n",
              "\n",
              "    .dataframe tbody tr th {\n",
              "        vertical-align: top;\n",
              "    }\n",
              "\n",
              "    .dataframe thead th {\n",
              "        text-align: right;\n",
              "    }\n",
              "</style>\n",
              "<table border=\"1\" class=\"dataframe\">\n",
              "  <thead>\n",
              "    <tr style=\"text-align: right;\">\n",
              "      <th></th>\n",
              "      <th>messages_included</th>\n",
              "      <th>mb_per_month_included</th>\n",
              "      <th>minutes_included</th>\n",
              "      <th>usd_monthly_pay</th>\n",
              "      <th>usd_per_gb</th>\n",
              "      <th>usd_per_message</th>\n",
              "      <th>usd_per_minute</th>\n",
              "      <th>plan_name</th>\n",
              "    </tr>\n",
              "  </thead>\n",
              "  <tbody>\n",
              "    <tr>\n",
              "      <th>0</th>\n",
              "      <td>50</td>\n",
              "      <td>15360</td>\n",
              "      <td>500</td>\n",
              "      <td>20</td>\n",
              "      <td>10</td>\n",
              "      <td>0.03</td>\n",
              "      <td>0.03</td>\n",
              "      <td>surf</td>\n",
              "    </tr>\n",
              "    <tr>\n",
              "      <th>1</th>\n",
              "      <td>1000</td>\n",
              "      <td>30720</td>\n",
              "      <td>3000</td>\n",
              "      <td>70</td>\n",
              "      <td>7</td>\n",
              "      <td>0.01</td>\n",
              "      <td>0.01</td>\n",
              "      <td>ultimate</td>\n",
              "    </tr>\n",
              "  </tbody>\n",
              "</table>\n",
              "</div>"
            ],
            "text/plain": [
              "   messages_included  mb_per_month_included  minutes_included  \\\n",
              "0                 50                  15360               500   \n",
              "1               1000                  30720              3000   \n",
              "\n",
              "   usd_monthly_pay  usd_per_gb  usd_per_message  usd_per_minute plan_name  \n",
              "0               20          10             0.03            0.03      surf  \n",
              "1               70           7             0.01            0.01  ultimate  "
            ]
          },
          "execution_count": 12,
          "metadata": {},
          "output_type": "execute_result"
        }
      ],
      "source": [
        "# Verificar se os valores estão dentro dos limites razoáveis\n",
        "limit_plans = plans[(plans['minutes_included'] >= 0) & (plans['messages_included'] >= 0) &\n",
        "                    (plans['mb_per_month_included'] >= 0)]\n",
        "limit_plans"
      ]
    },
    {
      "cell_type": "markdown",
      "metadata": {
        "id": "GLGgeHMDJhTP"
      },
      "source": [
        "- Ao analisar os valores presentes nas colunas do DataFrame, verificamos se eles estão dentro dos limites razoáveis para os planos. Nesse processo, buscamos identificar quaisquer valores negativos ou extremamente altos/baixos que possam não fazer sentido no contexto dos planos. No entanto, não foram encontrados tais valores, o que sugere que os dados estão dentro das expectativas e não apresentam discrepâncias significativas. Isso é um indicativo positivo, pois os valores estão alinhados com as informações esperadas para cada plano."
      ]
    },
    {
      "cell_type": "code",
      "execution_count": null,
      "metadata": {
        "id": "KFi0aomaJhTQ",
        "outputId": "6b1c33a8-7f7c-41a2-aefd-d3790b383d15"
      },
      "outputs": [
        {
          "data": {
            "text/html": [
              "<div>\n",
              "<style scoped>\n",
              "    .dataframe tbody tr th:only-of-type {\n",
              "        vertical-align: middle;\n",
              "    }\n",
              "\n",
              "    .dataframe tbody tr th {\n",
              "        vertical-align: top;\n",
              "    }\n",
              "\n",
              "    .dataframe thead th {\n",
              "        text-align: right;\n",
              "    }\n",
              "</style>\n",
              "<table border=\"1\" class=\"dataframe\">\n",
              "  <thead>\n",
              "    <tr style=\"text-align: right;\">\n",
              "      <th></th>\n",
              "      <th>messages_included</th>\n",
              "      <th>mb_per_month_included</th>\n",
              "      <th>minutes_included</th>\n",
              "      <th>usd_monthly_pay</th>\n",
              "      <th>usd_per_gb</th>\n",
              "      <th>usd_per_message</th>\n",
              "      <th>usd_per_minute</th>\n",
              "      <th>plan_name</th>\n",
              "    </tr>\n",
              "  </thead>\n",
              "  <tbody>\n",
              "    <tr>\n",
              "      <th>0</th>\n",
              "      <td>50</td>\n",
              "      <td>15360</td>\n",
              "      <td>500</td>\n",
              "      <td>20</td>\n",
              "      <td>10</td>\n",
              "      <td>0.03</td>\n",
              "      <td>0.03</td>\n",
              "      <td>surf</td>\n",
              "    </tr>\n",
              "    <tr>\n",
              "      <th>1</th>\n",
              "      <td>1000</td>\n",
              "      <td>30720</td>\n",
              "      <td>3000</td>\n",
              "      <td>70</td>\n",
              "      <td>7</td>\n",
              "      <td>0.01</td>\n",
              "      <td>0.01</td>\n",
              "      <td>ultimate</td>\n",
              "    </tr>\n",
              "  </tbody>\n",
              "</table>\n",
              "</div>"
            ],
            "text/plain": [
              "   messages_included  mb_per_month_included  minutes_included  \\\n",
              "0                 50                  15360               500   \n",
              "1               1000                  30720              3000   \n",
              "\n",
              "   usd_monthly_pay  usd_per_gb  usd_per_message  usd_per_minute plan_name  \n",
              "0               20          10             0.03            0.03      surf  \n",
              "1               70           7             0.01            0.01  ultimate  "
            ]
          },
          "execution_count": 13,
          "metadata": {},
          "output_type": "execute_result"
        }
      ],
      "source": [
        "# Analisando se os preços estão definidos corretamente\n",
        "price_plans = plans[(plans['usd_per_minute'] >= 0) & (plans['usd_per_message'] >= 0) & (plans['usd_per_gb'] >= 0)]\n",
        "price_plans"
      ]
    },
    {
      "cell_type": "markdown",
      "metadata": {
        "id": "kPm60kYZJhTQ"
      },
      "source": [
        "- Ao verificar os preços definidos, analisamos se estão corretamente atribuídos a cada plano. Essa verificação envolve confirmar se os preços mensais e as taxas por minuto, mensagem e dados estão alinhados com as informações fornecidas sobre os planos Surf e Ultimate. Neste caso, identificamos que os preços estão adequadamente definidos e correspondem às informações fornecidas."
      ]
    },
    {
      "cell_type": "code",
      "execution_count": null,
      "metadata": {
        "id": "EpPM77JqJhTQ",
        "outputId": "4c52f579-ca8b-4f76-f371-7cc923bab551"
      },
      "outputs": [
        {
          "data": {
            "text/html": [
              "<div>\n",
              "<style scoped>\n",
              "    .dataframe tbody tr th:only-of-type {\n",
              "        vertical-align: middle;\n",
              "    }\n",
              "\n",
              "    .dataframe tbody tr th {\n",
              "        vertical-align: top;\n",
              "    }\n",
              "\n",
              "    .dataframe thead th {\n",
              "        text-align: right;\n",
              "    }\n",
              "</style>\n",
              "<table border=\"1\" class=\"dataframe\">\n",
              "  <thead>\n",
              "    <tr style=\"text-align: right;\">\n",
              "      <th></th>\n",
              "      <th>messages_included</th>\n",
              "      <th>mb_per_month_included</th>\n",
              "      <th>minutes_included</th>\n",
              "      <th>usd_monthly_pay</th>\n",
              "      <th>usd_per_gb</th>\n",
              "      <th>usd_per_message</th>\n",
              "      <th>usd_per_minute</th>\n",
              "      <th>plan_name</th>\n",
              "    </tr>\n",
              "  </thead>\n",
              "  <tbody>\n",
              "    <tr>\n",
              "      <th>0</th>\n",
              "      <td>50</td>\n",
              "      <td>15360</td>\n",
              "      <td>500</td>\n",
              "      <td>20</td>\n",
              "      <td>10</td>\n",
              "      <td>0.03</td>\n",
              "      <td>0.03</td>\n",
              "      <td>surf</td>\n",
              "    </tr>\n",
              "    <tr>\n",
              "      <th>1</th>\n",
              "      <td>1000</td>\n",
              "      <td>30720</td>\n",
              "      <td>3000</td>\n",
              "      <td>70</td>\n",
              "      <td>7</td>\n",
              "      <td>0.01</td>\n",
              "      <td>0.01</td>\n",
              "      <td>ultimate</td>\n",
              "    </tr>\n",
              "  </tbody>\n",
              "</table>\n",
              "</div>"
            ],
            "text/plain": [
              "   messages_included  mb_per_month_included  minutes_included  \\\n",
              "0                 50                  15360               500   \n",
              "1               1000                  30720              3000   \n",
              "\n",
              "   usd_monthly_pay  usd_per_gb  usd_per_message  usd_per_minute plan_name  \n",
              "0               20          10             0.03            0.03      surf  \n",
              "1               70           7             0.01            0.01  ultimate  "
            ]
          },
          "execution_count": 14,
          "metadata": {},
          "output_type": "execute_result"
        }
      ],
      "source": [
        "# Analisando se os limites dos pacotes estão coerentes\n",
        "limit_pack_plans = plans[(plans['minutes_included'] > 0) & (plans['messages_included'] > 0) & (plans['mb_per_month_included'] > 0)]\n",
        "limit_pack_plans"
      ]
    },
    {
      "cell_type": "markdown",
      "metadata": {
        "id": "AQeIybckJhTQ"
      },
      "source": [
        "- Ao analisar os limites dos pacotes, verificamos se estão coerentes com as expectativas. Esses limites incluem a quantidade de minutos, mensagens e dados incluídos em cada plano. Verificamos se esses limites estão alinhados com as informações fornecidas para os planos Surf e Ultimate. Após a análise, constatamos que os limites estão coerentes e correspondem às informações fornecidas."
      ]
    },
    {
      "cell_type": "code",
      "execution_count": null,
      "metadata": {
        "scrolled": true,
        "id": "vz-v39K1JhTQ",
        "outputId": "483c8c68-9311-4be6-ad76-ce352f03f16e"
      },
      "outputs": [
        {
          "data": {
            "text/html": [
              "<div>\n",
              "<style scoped>\n",
              "    .dataframe tbody tr th:only-of-type {\n",
              "        vertical-align: middle;\n",
              "    }\n",
              "\n",
              "    .dataframe tbody tr th {\n",
              "        vertical-align: top;\n",
              "    }\n",
              "\n",
              "    .dataframe thead th {\n",
              "        text-align: right;\n",
              "    }\n",
              "</style>\n",
              "<table border=\"1\" class=\"dataframe\">\n",
              "  <thead>\n",
              "    <tr style=\"text-align: right;\">\n",
              "      <th></th>\n",
              "      <th>messages_included</th>\n",
              "      <th>mb_per_month_included</th>\n",
              "      <th>minutes_included</th>\n",
              "      <th>usd_monthly_pay</th>\n",
              "      <th>usd_per_gb</th>\n",
              "      <th>usd_per_message</th>\n",
              "      <th>usd_per_minute</th>\n",
              "      <th>plan_name</th>\n",
              "    </tr>\n",
              "  </thead>\n",
              "  <tbody>\n",
              "    <tr>\n",
              "      <th>0</th>\n",
              "      <td>50</td>\n",
              "      <td>15360</td>\n",
              "      <td>500</td>\n",
              "      <td>20</td>\n",
              "      <td>10</td>\n",
              "      <td>0.03</td>\n",
              "      <td>0.03</td>\n",
              "      <td>surf</td>\n",
              "    </tr>\n",
              "    <tr>\n",
              "      <th>1</th>\n",
              "      <td>1000</td>\n",
              "      <td>30720</td>\n",
              "      <td>3000</td>\n",
              "      <td>70</td>\n",
              "      <td>7</td>\n",
              "      <td>0.01</td>\n",
              "      <td>0.01</td>\n",
              "      <td>ultimate</td>\n",
              "    </tr>\n",
              "  </tbody>\n",
              "</table>\n",
              "</div>"
            ],
            "text/plain": [
              "   messages_included  mb_per_month_included  minutes_included  \\\n",
              "0                 50                  15360               500   \n",
              "1               1000                  30720              3000   \n",
              "\n",
              "   usd_monthly_pay  usd_per_gb  usd_per_message  usd_per_minute plan_name  \n",
              "0               20          10             0.03            0.03      surf  \n",
              "1               70           7             0.01            0.01  ultimate  "
            ]
          },
          "execution_count": 15,
          "metadata": {},
          "output_type": "execute_result"
        }
      ],
      "source": [
        "# Verificar se não há informações conflitantes\n",
        "df_conflict = plans[(plans['usd_monthly_pay'] >= plans['usd_per_minute']) &\n",
        "                    (plans['usd_monthly_pay'] >= plans['usd_per_message']) &\n",
        "                    (plans['usd_monthly_pay'] >= plans['usd_per_gb'])]\n",
        "df_conflict"
      ]
    },
    {
      "cell_type": "code",
      "execution_count": null,
      "metadata": {
        "id": "qUaVkPBsJhTR"
      },
      "outputs": [],
      "source": [
        "# Verificar se os preços estão corretamente associados\n",
        "invalid_prices = plans[(plans['usd_per_minute'] > plans['usd_monthly_pay']) |\n",
        "                          (plans['usd_per_message'] > plans['usd_monthly_pay']) |\n",
        "                          (plans['usd_per_gb'] > plans['usd_monthly_pay'])]\n"
      ]
    },
    {
      "cell_type": "code",
      "execution_count": null,
      "metadata": {
        "id": "HJjSbjj8JhTS",
        "outputId": "74755460-f11c-4071-8090-42d622f90de4"
      },
      "outputs": [
        {
          "name": "stdout",
          "output_type": "stream",
          "text": [
            "Preços válidos\n"
          ]
        }
      ],
      "source": [
        "if not invalid_prices.empty:\n",
        "    print(\"Valores inválidos nos preços:\")\n",
        "    print(invalid_prices)\n",
        "else:\n",
        "      print('Preços válidos')"
      ]
    },
    {
      "cell_type": "markdown",
      "metadata": {
        "id": "fUqQE4mkJhTY"
      },
      "source": [
        "Por fim, realizamos a verificação da correta associação dos preços aos planos. Essa etapa é importante para garantir que cada plano tenha o preço adequado atribuído a ele, evitando erros de associação que possam resultar em cálculos incorretos ou análises equivocadas."
      ]
    },
    {
      "cell_type": "markdown",
      "metadata": {
        "id": "4Ob-JfQeJhTZ"
      },
      "source": [
        "- Os passos realizados para enriquecer os dados envolveram a verificação dos tipos de dados, a ausência de dados ausentes ou duplicados, a análise estatística resumida, a verificação dos limites dos pacotes e a correta associação dos preços aos planos. Essas etapas garantiram a qualidade e confiabilidade dos dados, preparando-os para análises mais aprofundadas e tomadas de decisões embasadas nos valores financeiros atribuídos a cada plano.\n"
      ]
    },
    {
      "cell_type": "markdown",
      "metadata": {
        "id": "WG0bxrzNJhTa"
      },
      "source": [
        "## Usuários"
      ]
    },
    {
      "cell_type": "code",
      "execution_count": null,
      "metadata": {
        "id": "E5E7yrU5JhTa",
        "outputId": "0b999cd6-5287-49b9-a80c-2f2e642b92cc"
      },
      "outputs": [
        {
          "name": "stdout",
          "output_type": "stream",
          "text": [
            "<class 'pandas.core.frame.DataFrame'>\n",
            "RangeIndex: 500 entries, 0 to 499\n",
            "Data columns (total 8 columns):\n",
            " #   Column      Non-Null Count  Dtype \n",
            "---  ------      --------------  ----- \n",
            " 0   user_id     500 non-null    int64 \n",
            " 1   first_name  500 non-null    object\n",
            " 2   last_name   500 non-null    object\n",
            " 3   age         500 non-null    int64 \n",
            " 4   city        500 non-null    object\n",
            " 5   reg_date    500 non-null    object\n",
            " 6   plan        500 non-null    object\n",
            " 7   churn_date  34 non-null     object\n",
            "dtypes: int64(2), object(6)\n",
            "memory usage: 31.4+ KB\n"
          ]
        }
      ],
      "source": [
        "# Imprima as informações gerais/resumidas sobre o DataFrame dos usuários\n",
        "users.info()"
      ]
    },
    {
      "cell_type": "code",
      "execution_count": null,
      "metadata": {
        "scrolled": true,
        "id": "6xz1nd98JhTa",
        "outputId": "2d459e23-ed24-4e88-e579-faea68d7b226"
      },
      "outputs": [
        {
          "data": {
            "text/html": [
              "<div>\n",
              "<style scoped>\n",
              "    .dataframe tbody tr th:only-of-type {\n",
              "        vertical-align: middle;\n",
              "    }\n",
              "\n",
              "    .dataframe tbody tr th {\n",
              "        vertical-align: top;\n",
              "    }\n",
              "\n",
              "    .dataframe thead th {\n",
              "        text-align: right;\n",
              "    }\n",
              "</style>\n",
              "<table border=\"1\" class=\"dataframe\">\n",
              "  <thead>\n",
              "    <tr style=\"text-align: right;\">\n",
              "      <th></th>\n",
              "      <th>user_id</th>\n",
              "      <th>first_name</th>\n",
              "      <th>last_name</th>\n",
              "      <th>age</th>\n",
              "      <th>city</th>\n",
              "      <th>reg_date</th>\n",
              "      <th>plan</th>\n",
              "      <th>churn_date</th>\n",
              "    </tr>\n",
              "  </thead>\n",
              "  <tbody>\n",
              "    <tr>\n",
              "      <th>0</th>\n",
              "      <td>1000</td>\n",
              "      <td>Anamaria</td>\n",
              "      <td>Bauer</td>\n",
              "      <td>45</td>\n",
              "      <td>Atlanta-Sandy Springs-Roswell, GA MSA</td>\n",
              "      <td>2018-12-24</td>\n",
              "      <td>ultimate</td>\n",
              "      <td>NaN</td>\n",
              "    </tr>\n",
              "    <tr>\n",
              "      <th>1</th>\n",
              "      <td>1001</td>\n",
              "      <td>Mickey</td>\n",
              "      <td>Wilkerson</td>\n",
              "      <td>28</td>\n",
              "      <td>Seattle-Tacoma-Bellevue, WA MSA</td>\n",
              "      <td>2018-08-13</td>\n",
              "      <td>surf</td>\n",
              "      <td>NaN</td>\n",
              "    </tr>\n",
              "    <tr>\n",
              "      <th>2</th>\n",
              "      <td>1002</td>\n",
              "      <td>Carlee</td>\n",
              "      <td>Hoffman</td>\n",
              "      <td>36</td>\n",
              "      <td>Las Vegas-Henderson-Paradise, NV MSA</td>\n",
              "      <td>2018-10-21</td>\n",
              "      <td>surf</td>\n",
              "      <td>NaN</td>\n",
              "    </tr>\n",
              "    <tr>\n",
              "      <th>3</th>\n",
              "      <td>1003</td>\n",
              "      <td>Reynaldo</td>\n",
              "      <td>Jenkins</td>\n",
              "      <td>52</td>\n",
              "      <td>Tulsa, OK MSA</td>\n",
              "      <td>2018-01-28</td>\n",
              "      <td>surf</td>\n",
              "      <td>NaN</td>\n",
              "    </tr>\n",
              "    <tr>\n",
              "      <th>4</th>\n",
              "      <td>1004</td>\n",
              "      <td>Leonila</td>\n",
              "      <td>Thompson</td>\n",
              "      <td>40</td>\n",
              "      <td>Seattle-Tacoma-Bellevue, WA MSA</td>\n",
              "      <td>2018-05-23</td>\n",
              "      <td>surf</td>\n",
              "      <td>NaN</td>\n",
              "    </tr>\n",
              "  </tbody>\n",
              "</table>\n",
              "</div>"
            ],
            "text/plain": [
              "   user_id first_name  last_name  age                                   city  \\\n",
              "0     1000   Anamaria      Bauer   45  Atlanta-Sandy Springs-Roswell, GA MSA   \n",
              "1     1001     Mickey  Wilkerson   28        Seattle-Tacoma-Bellevue, WA MSA   \n",
              "2     1002     Carlee    Hoffman   36   Las Vegas-Henderson-Paradise, NV MSA   \n",
              "3     1003   Reynaldo    Jenkins   52                          Tulsa, OK MSA   \n",
              "4     1004    Leonila   Thompson   40        Seattle-Tacoma-Bellevue, WA MSA   \n",
              "\n",
              "     reg_date      plan churn_date  \n",
              "0  2018-12-24  ultimate        NaN  \n",
              "1  2018-08-13      surf        NaN  \n",
              "2  2018-10-21      surf        NaN  \n",
              "3  2018-01-28      surf        NaN  \n",
              "4  2018-05-23      surf        NaN  "
            ]
          },
          "execution_count": 19,
          "metadata": {},
          "output_type": "execute_result"
        }
      ],
      "source": [
        "# Imprimir uma amostra de dados para usuários\n",
        "users.head()"
      ]
    },
    {
      "cell_type": "code",
      "execution_count": null,
      "metadata": {
        "id": "WfQ9hL8yJhTa",
        "outputId": "61d45e0b-5ad8-48bb-cf7f-d7a1bb0d138e"
      },
      "outputs": [
        {
          "data": {
            "text/plain": [
              "user_id         0\n",
              "first_name      0\n",
              "last_name       0\n",
              "age             0\n",
              "city            0\n",
              "reg_date        0\n",
              "plan            0\n",
              "churn_date    466\n",
              "dtype: int64"
            ]
          },
          "execution_count": 20,
          "metadata": {},
          "output_type": "execute_result"
        }
      ],
      "source": [
        "#Verificando dados ausentes\n",
        "users.isna().sum()"
      ]
    },
    {
      "cell_type": "code",
      "execution_count": null,
      "metadata": {
        "id": "_CGabn8gJhTb",
        "outputId": "46b98790-8e10-45e7-e629-1d5297abd042"
      },
      "outputs": [
        {
          "data": {
            "text/plain": [
              "user_id        0.0\n",
              "first_name     0.0\n",
              "last_name      0.0\n",
              "age            0.0\n",
              "city           0.0\n",
              "reg_date       0.0\n",
              "plan           0.0\n",
              "churn_date    93.2\n",
              "dtype: float64"
            ]
          },
          "execution_count": 21,
          "metadata": {},
          "output_type": "execute_result"
        }
      ],
      "source": [
        "#Verificando % dados ausentes\n",
        "users.isna().sum()/users.shape[0]*100"
      ]
    },
    {
      "cell_type": "code",
      "execution_count": null,
      "metadata": {
        "id": "_jOrLanbJhTb",
        "outputId": "7d0c76cb-9b65-4064-b4cd-b560c6851ff0"
      },
      "outputs": [
        {
          "data": {
            "text/html": [
              "<div>\n",
              "<style scoped>\n",
              "    .dataframe tbody tr th:only-of-type {\n",
              "        vertical-align: middle;\n",
              "    }\n",
              "\n",
              "    .dataframe tbody tr th {\n",
              "        vertical-align: top;\n",
              "    }\n",
              "\n",
              "    .dataframe thead th {\n",
              "        text-align: right;\n",
              "    }\n",
              "</style>\n",
              "<table border=\"1\" class=\"dataframe\">\n",
              "  <thead>\n",
              "    <tr style=\"text-align: right;\">\n",
              "      <th></th>\n",
              "      <th>user_id</th>\n",
              "      <th>age</th>\n",
              "    </tr>\n",
              "  </thead>\n",
              "  <tbody>\n",
              "    <tr>\n",
              "      <th>count</th>\n",
              "      <td>500.000000</td>\n",
              "      <td>500.000000</td>\n",
              "    </tr>\n",
              "    <tr>\n",
              "      <th>mean</th>\n",
              "      <td>1249.500000</td>\n",
              "      <td>45.486000</td>\n",
              "    </tr>\n",
              "    <tr>\n",
              "      <th>std</th>\n",
              "      <td>144.481833</td>\n",
              "      <td>16.972269</td>\n",
              "    </tr>\n",
              "    <tr>\n",
              "      <th>min</th>\n",
              "      <td>1000.000000</td>\n",
              "      <td>18.000000</td>\n",
              "    </tr>\n",
              "    <tr>\n",
              "      <th>25%</th>\n",
              "      <td>1124.750000</td>\n",
              "      <td>30.000000</td>\n",
              "    </tr>\n",
              "    <tr>\n",
              "      <th>50%</th>\n",
              "      <td>1249.500000</td>\n",
              "      <td>46.000000</td>\n",
              "    </tr>\n",
              "    <tr>\n",
              "      <th>75%</th>\n",
              "      <td>1374.250000</td>\n",
              "      <td>61.000000</td>\n",
              "    </tr>\n",
              "    <tr>\n",
              "      <th>max</th>\n",
              "      <td>1499.000000</td>\n",
              "      <td>75.000000</td>\n",
              "    </tr>\n",
              "  </tbody>\n",
              "</table>\n",
              "</div>"
            ],
            "text/plain": [
              "           user_id         age\n",
              "count   500.000000  500.000000\n",
              "mean   1249.500000   45.486000\n",
              "std     144.481833   16.972269\n",
              "min    1000.000000   18.000000\n",
              "25%    1124.750000   30.000000\n",
              "50%    1249.500000   46.000000\n",
              "75%    1374.250000   61.000000\n",
              "max    1499.000000   75.000000"
            ]
          },
          "execution_count": 22,
          "metadata": {},
          "output_type": "execute_result"
        }
      ],
      "source": [
        "#Analisando resumo estatístico\n",
        "users.describe()"
      ]
    },
    {
      "cell_type": "code",
      "execution_count": null,
      "metadata": {
        "id": "j0A70ZQ4JhTb",
        "outputId": "66872572-6648-4f5c-cc2a-8d3e8e099d7d"
      },
      "outputs": [
        {
          "data": {
            "text/html": [
              "<div>\n",
              "<style scoped>\n",
              "    .dataframe tbody tr th:only-of-type {\n",
              "        vertical-align: middle;\n",
              "    }\n",
              "\n",
              "    .dataframe tbody tr th {\n",
              "        vertical-align: top;\n",
              "    }\n",
              "\n",
              "    .dataframe thead th {\n",
              "        text-align: right;\n",
              "    }\n",
              "</style>\n",
              "<table border=\"1\" class=\"dataframe\">\n",
              "  <thead>\n",
              "    <tr style=\"text-align: right;\">\n",
              "      <th></th>\n",
              "      <th>user_id</th>\n",
              "      <th>first_name</th>\n",
              "      <th>last_name</th>\n",
              "      <th>age</th>\n",
              "      <th>city</th>\n",
              "      <th>reg_date</th>\n",
              "      <th>plan</th>\n",
              "      <th>churn_date</th>\n",
              "    </tr>\n",
              "  </thead>\n",
              "  <tbody>\n",
              "    <tr>\n",
              "      <th>0</th>\n",
              "      <td>1000</td>\n",
              "      <td>Anamaria</td>\n",
              "      <td>Bauer</td>\n",
              "      <td>45</td>\n",
              "      <td>Atlanta-Sandy Springs-Roswell, GA MSA</td>\n",
              "      <td>2018-12-24</td>\n",
              "      <td>ultimate</td>\n",
              "      <td>NaN</td>\n",
              "    </tr>\n",
              "    <tr>\n",
              "      <th>1</th>\n",
              "      <td>1001</td>\n",
              "      <td>Mickey</td>\n",
              "      <td>Wilkerson</td>\n",
              "      <td>28</td>\n",
              "      <td>Seattle-Tacoma-Bellevue, WA MSA</td>\n",
              "      <td>2018-08-13</td>\n",
              "      <td>surf</td>\n",
              "      <td>NaN</td>\n",
              "    </tr>\n",
              "    <tr>\n",
              "      <th>2</th>\n",
              "      <td>1002</td>\n",
              "      <td>Carlee</td>\n",
              "      <td>Hoffman</td>\n",
              "      <td>36</td>\n",
              "      <td>Las Vegas-Henderson-Paradise, NV MSA</td>\n",
              "      <td>2018-10-21</td>\n",
              "      <td>surf</td>\n",
              "      <td>NaN</td>\n",
              "    </tr>\n",
              "    <tr>\n",
              "      <th>3</th>\n",
              "      <td>1003</td>\n",
              "      <td>Reynaldo</td>\n",
              "      <td>Jenkins</td>\n",
              "      <td>52</td>\n",
              "      <td>Tulsa, OK MSA</td>\n",
              "      <td>2018-01-28</td>\n",
              "      <td>surf</td>\n",
              "      <td>NaN</td>\n",
              "    </tr>\n",
              "    <tr>\n",
              "      <th>4</th>\n",
              "      <td>1004</td>\n",
              "      <td>Leonila</td>\n",
              "      <td>Thompson</td>\n",
              "      <td>40</td>\n",
              "      <td>Seattle-Tacoma-Bellevue, WA MSA</td>\n",
              "      <td>2018-05-23</td>\n",
              "      <td>surf</td>\n",
              "      <td>NaN</td>\n",
              "    </tr>\n",
              "    <tr>\n",
              "      <th>...</th>\n",
              "      <td>...</td>\n",
              "      <td>...</td>\n",
              "      <td>...</td>\n",
              "      <td>...</td>\n",
              "      <td>...</td>\n",
              "      <td>...</td>\n",
              "      <td>...</td>\n",
              "      <td>...</td>\n",
              "    </tr>\n",
              "    <tr>\n",
              "      <th>495</th>\n",
              "      <td>1495</td>\n",
              "      <td>Fidel</td>\n",
              "      <td>Sharpe</td>\n",
              "      <td>67</td>\n",
              "      <td>New York-Newark-Jersey City, NY-NJ-PA MSA</td>\n",
              "      <td>2018-09-04</td>\n",
              "      <td>surf</td>\n",
              "      <td>NaN</td>\n",
              "    </tr>\n",
              "    <tr>\n",
              "      <th>496</th>\n",
              "      <td>1496</td>\n",
              "      <td>Ariel</td>\n",
              "      <td>Shepherd</td>\n",
              "      <td>49</td>\n",
              "      <td>New Orleans-Metairie, LA MSA</td>\n",
              "      <td>2018-02-20</td>\n",
              "      <td>surf</td>\n",
              "      <td>NaN</td>\n",
              "    </tr>\n",
              "    <tr>\n",
              "      <th>497</th>\n",
              "      <td>1497</td>\n",
              "      <td>Donte</td>\n",
              "      <td>Barrera</td>\n",
              "      <td>49</td>\n",
              "      <td>Los Angeles-Long Beach-Anaheim, CA MSA</td>\n",
              "      <td>2018-12-10</td>\n",
              "      <td>ultimate</td>\n",
              "      <td>NaN</td>\n",
              "    </tr>\n",
              "    <tr>\n",
              "      <th>498</th>\n",
              "      <td>1498</td>\n",
              "      <td>Scot</td>\n",
              "      <td>Williamson</td>\n",
              "      <td>51</td>\n",
              "      <td>New York-Newark-Jersey City, NY-NJ-PA MSA</td>\n",
              "      <td>2018-02-04</td>\n",
              "      <td>surf</td>\n",
              "      <td>NaN</td>\n",
              "    </tr>\n",
              "    <tr>\n",
              "      <th>499</th>\n",
              "      <td>1499</td>\n",
              "      <td>Shena</td>\n",
              "      <td>Dickson</td>\n",
              "      <td>37</td>\n",
              "      <td>Orlando-Kissimmee-Sanford, FL MSA</td>\n",
              "      <td>2018-05-06</td>\n",
              "      <td>surf</td>\n",
              "      <td>NaN</td>\n",
              "    </tr>\n",
              "  </tbody>\n",
              "</table>\n",
              "<p>466 rows × 8 columns</p>\n",
              "</div>"
            ],
            "text/plain": [
              "     user_id first_name   last_name  age  \\\n",
              "0       1000   Anamaria       Bauer   45   \n",
              "1       1001     Mickey   Wilkerson   28   \n",
              "2       1002     Carlee     Hoffman   36   \n",
              "3       1003   Reynaldo     Jenkins   52   \n",
              "4       1004    Leonila    Thompson   40   \n",
              "..       ...        ...         ...  ...   \n",
              "495     1495      Fidel      Sharpe   67   \n",
              "496     1496      Ariel    Shepherd   49   \n",
              "497     1497      Donte     Barrera   49   \n",
              "498     1498       Scot  Williamson   51   \n",
              "499     1499      Shena     Dickson   37   \n",
              "\n",
              "                                          city    reg_date      plan  \\\n",
              "0        Atlanta-Sandy Springs-Roswell, GA MSA  2018-12-24  ultimate   \n",
              "1              Seattle-Tacoma-Bellevue, WA MSA  2018-08-13      surf   \n",
              "2         Las Vegas-Henderson-Paradise, NV MSA  2018-10-21      surf   \n",
              "3                                Tulsa, OK MSA  2018-01-28      surf   \n",
              "4              Seattle-Tacoma-Bellevue, WA MSA  2018-05-23      surf   \n",
              "..                                         ...         ...       ...   \n",
              "495  New York-Newark-Jersey City, NY-NJ-PA MSA  2018-09-04      surf   \n",
              "496               New Orleans-Metairie, LA MSA  2018-02-20      surf   \n",
              "497     Los Angeles-Long Beach-Anaheim, CA MSA  2018-12-10  ultimate   \n",
              "498  New York-Newark-Jersey City, NY-NJ-PA MSA  2018-02-04      surf   \n",
              "499          Orlando-Kissimmee-Sanford, FL MSA  2018-05-06      surf   \n",
              "\n",
              "    churn_date  \n",
              "0          NaN  \n",
              "1          NaN  \n",
              "2          NaN  \n",
              "3          NaN  \n",
              "4          NaN  \n",
              "..         ...  \n",
              "495        NaN  \n",
              "496        NaN  \n",
              "497        NaN  \n",
              "498        NaN  \n",
              "499        NaN  \n",
              "\n",
              "[466 rows x 8 columns]"
            ]
          },
          "execution_count": 23,
          "metadata": {},
          "output_type": "execute_result"
        }
      ],
      "source": [
        "#Analisando os valores ausentes da coluna churn_date\n",
        "users.loc[users['churn_date'].isnull()]"
      ]
    },
    {
      "cell_type": "code",
      "execution_count": null,
      "metadata": {
        "id": "PJn2VVziJhTb",
        "outputId": "214ae10b-f8e8-4fad-e66a-1d64bc0d73be"
      },
      "outputs": [
        {
          "data": {
            "text/plain": [
              "0"
            ]
          },
          "execution_count": 24,
          "metadata": {},
          "output_type": "execute_result"
        }
      ],
      "source": [
        "#Verificando se existem dados duplicados\n",
        "users.duplicated().sum()"
      ]
    },
    {
      "cell_type": "markdown",
      "metadata": {
        "id": "sLAuytL-JhTc"
      },
      "source": [
        "Após a análise das informações gerais e da amostra de dados para o preço dos planos, observamos os seguintes pontos relevantes:\n",
        "\n",
        "**Dados ausentes:**\n",
        "    Identificamos a presença de dados ausentes na coluna `churn_date`, que representa a data em que o usuário parou de usar o serviço. Podemos considerar que a presença de valores ausentes na coluna `churn_date`\n",
        " indica que o cliente não realizou o churn até o momento dos dados disponíveis. Para abordar esse caso podemos criar uma coluna booleana para indicar se um cliente deu churn ou não, independentemente da data. Essa abordagem permite ter uma coluna completa e evitar problemas com valores ausentes. Essa nova coluna pode ser chamada de `churn` e ter valores True para os clientes que fizeram churn e False para os clientes que permaneceram no plano.\n",
        "\n",
        "\n",
        "**Tipo de dado:**\n",
        "    Identificamos inconsistências nos tipos de dados nas colunas `reg_date` e `churn_date`, que atualmente são do tipo \"object\". Para corrigir essa questão, é recomendado converter essas colunas para o tipo de dado \"datetime\". Essa conversão permitirá realizar operações e cálculos relacionados a datas de forma mais precisa e facilitará a análise temporal dos dados.\n",
        "\n",
        "- Ao realizar essas alterações, estaremos corrigindo os problemas identificados e garantindo a integridade e qualidade dos dados relacionados ao preço dos planos. Essas correções são importantes para garantir uma análise precisa e confiável dos dados, fornecendo insights relevantes para a tomada de decisões estratégicas."
      ]
    },
    {
      "cell_type": "markdown",
      "metadata": {
        "id": "agDf2ytaJhTd"
      },
      "source": [
        "### Corrigir dados"
      ]
    },
    {
      "cell_type": "markdown",
      "metadata": {
        "id": "NyU1zMQ1JhTe"
      },
      "source": [
        "Corrigindo problemas óbvios com os dados de acordo com as observações iniciais"
      ]
    },
    {
      "cell_type": "code",
      "execution_count": null,
      "metadata": {
        "id": "TKqwZZswJhTe"
      },
      "outputs": [],
      "source": [
        "# Criar coluna 'churn' indicando se o cliente fez churn ou não\n",
        "users['churn'] = ~users['churn_date'].isnull()"
      ]
    },
    {
      "cell_type": "code",
      "execution_count": null,
      "metadata": {
        "id": "0deaAA0oJhTe",
        "outputId": "e0f14394-56c4-47c9-e4ad-ac796fa63d74"
      },
      "outputs": [
        {
          "data": {
            "text/html": [
              "<div>\n",
              "<style scoped>\n",
              "    .dataframe tbody tr th:only-of-type {\n",
              "        vertical-align: middle;\n",
              "    }\n",
              "\n",
              "    .dataframe tbody tr th {\n",
              "        vertical-align: top;\n",
              "    }\n",
              "\n",
              "    .dataframe thead th {\n",
              "        text-align: right;\n",
              "    }\n",
              "</style>\n",
              "<table border=\"1\" class=\"dataframe\">\n",
              "  <thead>\n",
              "    <tr style=\"text-align: right;\">\n",
              "      <th></th>\n",
              "      <th>user_id</th>\n",
              "      <th>first_name</th>\n",
              "      <th>last_name</th>\n",
              "      <th>age</th>\n",
              "      <th>city</th>\n",
              "      <th>reg_date</th>\n",
              "      <th>plan</th>\n",
              "      <th>churn_date</th>\n",
              "      <th>churn</th>\n",
              "    </tr>\n",
              "  </thead>\n",
              "  <tbody>\n",
              "    <tr>\n",
              "      <th>0</th>\n",
              "      <td>1000</td>\n",
              "      <td>Anamaria</td>\n",
              "      <td>Bauer</td>\n",
              "      <td>45</td>\n",
              "      <td>Atlanta-Sandy Springs-Roswell, GA MSA</td>\n",
              "      <td>2018-12-24</td>\n",
              "      <td>ultimate</td>\n",
              "      <td>NaN</td>\n",
              "      <td>False</td>\n",
              "    </tr>\n",
              "    <tr>\n",
              "      <th>1</th>\n",
              "      <td>1001</td>\n",
              "      <td>Mickey</td>\n",
              "      <td>Wilkerson</td>\n",
              "      <td>28</td>\n",
              "      <td>Seattle-Tacoma-Bellevue, WA MSA</td>\n",
              "      <td>2018-08-13</td>\n",
              "      <td>surf</td>\n",
              "      <td>NaN</td>\n",
              "      <td>False</td>\n",
              "    </tr>\n",
              "    <tr>\n",
              "      <th>2</th>\n",
              "      <td>1002</td>\n",
              "      <td>Carlee</td>\n",
              "      <td>Hoffman</td>\n",
              "      <td>36</td>\n",
              "      <td>Las Vegas-Henderson-Paradise, NV MSA</td>\n",
              "      <td>2018-10-21</td>\n",
              "      <td>surf</td>\n",
              "      <td>NaN</td>\n",
              "      <td>False</td>\n",
              "    </tr>\n",
              "    <tr>\n",
              "      <th>3</th>\n",
              "      <td>1003</td>\n",
              "      <td>Reynaldo</td>\n",
              "      <td>Jenkins</td>\n",
              "      <td>52</td>\n",
              "      <td>Tulsa, OK MSA</td>\n",
              "      <td>2018-01-28</td>\n",
              "      <td>surf</td>\n",
              "      <td>NaN</td>\n",
              "      <td>False</td>\n",
              "    </tr>\n",
              "    <tr>\n",
              "      <th>4</th>\n",
              "      <td>1004</td>\n",
              "      <td>Leonila</td>\n",
              "      <td>Thompson</td>\n",
              "      <td>40</td>\n",
              "      <td>Seattle-Tacoma-Bellevue, WA MSA</td>\n",
              "      <td>2018-05-23</td>\n",
              "      <td>surf</td>\n",
              "      <td>NaN</td>\n",
              "      <td>False</td>\n",
              "    </tr>\n",
              "  </tbody>\n",
              "</table>\n",
              "</div>"
            ],
            "text/plain": [
              "   user_id first_name  last_name  age                                   city  \\\n",
              "0     1000   Anamaria      Bauer   45  Atlanta-Sandy Springs-Roswell, GA MSA   \n",
              "1     1001     Mickey  Wilkerson   28        Seattle-Tacoma-Bellevue, WA MSA   \n",
              "2     1002     Carlee    Hoffman   36   Las Vegas-Henderson-Paradise, NV MSA   \n",
              "3     1003   Reynaldo    Jenkins   52                          Tulsa, OK MSA   \n",
              "4     1004    Leonila   Thompson   40        Seattle-Tacoma-Bellevue, WA MSA   \n",
              "\n",
              "     reg_date      plan churn_date  churn  \n",
              "0  2018-12-24  ultimate        NaN  False  \n",
              "1  2018-08-13      surf        NaN  False  \n",
              "2  2018-10-21      surf        NaN  False  \n",
              "3  2018-01-28      surf        NaN  False  \n",
              "4  2018-05-23      surf        NaN  False  "
            ]
          },
          "execution_count": 26,
          "metadata": {},
          "output_type": "execute_result"
        }
      ],
      "source": [
        "# Visualizar os dados atualizados\n",
        "users.head()"
      ]
    },
    {
      "cell_type": "markdown",
      "metadata": {
        "id": "V97LJzo9JhTg"
      },
      "source": [
        "- Dessa forma, teremos uma nova coluna `churn` que representa se um cliente fez churn ou não."
      ]
    },
    {
      "cell_type": "code",
      "execution_count": null,
      "metadata": {
        "id": "x5gT8PaEJhTg",
        "outputId": "6dda61b5-2775-4fe9-ac6a-5fbd8b1e68e9"
      },
      "outputs": [
        {
          "data": {
            "text/plain": [
              "user_id         0\n",
              "first_name      0\n",
              "last_name       0\n",
              "age             0\n",
              "city            0\n",
              "reg_date        0\n",
              "plan            0\n",
              "churn_date    466\n",
              "churn           0\n",
              "dtype: int64"
            ]
          },
          "execution_count": 27,
          "metadata": {},
          "output_type": "execute_result"
        }
      ],
      "source": [
        "#Verificando a substituição\n",
        "users.isna().sum()"
      ]
    },
    {
      "cell_type": "markdown",
      "metadata": {
        "id": "PspLezObJhTg"
      },
      "source": [
        "- Vamos criar uma função para converter o tipo de dado em tipo datetime a fim de evitar repetição uma vez que será necessário mais conversões mais adiante."
      ]
    },
    {
      "cell_type": "code",
      "execution_count": null,
      "metadata": {
        "id": "FJIx6WSqJhTg"
      },
      "outputs": [],
      "source": [
        "#Função para converter o tipo de dado e verificar a conversão ao final\n",
        "def converter_para_datetime(df, colunas):\n",
        "    for coluna in colunas:\n",
        "        df[coluna] = pd.to_datetime(df[coluna], format=\"%Y-%m-%d\", errors='coerce')\n",
        "    return df.dtypes[colunas]"
      ]
    },
    {
      "cell_type": "code",
      "execution_count": null,
      "metadata": {
        "id": "ty2iQ2VEJhTh",
        "outputId": "ab9614ca-5c44-4fdb-c1ed-c6079a650d8f"
      },
      "outputs": [
        {
          "data": {
            "text/plain": [
              "reg_date      datetime64[ns]\n",
              "churn_date    datetime64[ns]\n",
              "dtype: object"
            ]
          },
          "execution_count": 29,
          "metadata": {},
          "output_type": "execute_result"
        }
      ],
      "source": [
        "converter_para_datetime(users,['reg_date', 'churn_date'])"
      ]
    },
    {
      "cell_type": "code",
      "execution_count": null,
      "metadata": {
        "id": "iJ8imX7rJhTh",
        "outputId": "b0abe716-9f96-497f-ff1f-0c1f2a72126b"
      },
      "outputs": [
        {
          "name": "stdout",
          "output_type": "stream",
          "text": [
            "<class 'pandas.core.frame.DataFrame'>\n",
            "RangeIndex: 500 entries, 0 to 499\n",
            "Data columns (total 9 columns):\n",
            " #   Column      Non-Null Count  Dtype         \n",
            "---  ------      --------------  -----         \n",
            " 0   user_id     500 non-null    int64         \n",
            " 1   first_name  500 non-null    object        \n",
            " 2   last_name   500 non-null    object        \n",
            " 3   age         500 non-null    int64         \n",
            " 4   city        500 non-null    object        \n",
            " 5   reg_date    500 non-null    datetime64[ns]\n",
            " 6   plan        500 non-null    object        \n",
            " 7   churn_date  34 non-null     datetime64[ns]\n",
            " 8   churn       500 non-null    bool          \n",
            "dtypes: bool(1), datetime64[ns](2), int64(2), object(4)\n",
            "memory usage: 31.9+ KB\n"
          ]
        }
      ],
      "source": [
        "#Verificando as colunas após a conversão do tipo de dado\n",
        "users.info()"
      ]
    },
    {
      "cell_type": "markdown",
      "metadata": {
        "id": "oZhq0MRvJhTh"
      },
      "source": [
        "### Enriquecer Dados"
      ]
    },
    {
      "cell_type": "markdown",
      "metadata": {
        "id": "MqHTcdjZJhTi"
      },
      "source": [
        "Vamos adicionar alguns fatores aos dados que podem ser úteis."
      ]
    },
    {
      "cell_type": "code",
      "execution_count": null,
      "metadata": {
        "id": "aleXis52JhTi",
        "outputId": "748c6b19-ce61-4d6e-be37-3adb4c7c31d6"
      },
      "outputs": [
        {
          "data": {
            "text/plain": [
              "array([45, 28, 36, 52, 40, 31, 73, 42, 53, 19, 59, 50, 61, 26, 30, 70, 34,\n",
              "       56, 37, 74, 64, 49, 38, 57, 22, 67, 20, 32, 72, 58, 25, 23, 55, 47,\n",
              "       27, 33, 18, 41, 60, 46, 66, 29, 69, 35, 51, 48, 44, 65, 21, 54, 75,\n",
              "       39, 68, 71, 63, 24, 43, 62])"
            ]
          },
          "execution_count": 31,
          "metadata": {},
          "output_type": "execute_result"
        }
      ],
      "source": [
        "#Verificando valores únicos da coluna age\n",
        "users['age'].unique()"
      ]
    },
    {
      "cell_type": "markdown",
      "metadata": {
        "id": "TgeFZZYCJhTi"
      },
      "source": [
        "- Outro fator interessante para enriquecer nossos dados é a categorização das idades em faixas etárias. Isso nos permite analisar o comportamento dos clientes com base em diferentes grupos etários e identificar possíveis padrões ou tendências."
      ]
    },
    {
      "cell_type": "code",
      "execution_count": null,
      "metadata": {
        "id": "VR9D5FhBJhTi"
      },
      "outputs": [],
      "source": [
        "# Criar um dicionário com as faixas etárias e seus limites\n",
        "faixas_etarias = {\n",
        "    'Menor de idade': (0, 17),\n",
        "    'Jovem': (18, 24),\n",
        "    'Adulto': (25, 54),\n",
        "    'Idoso': (55, 80)\n",
        "}"
      ]
    },
    {
      "cell_type": "code",
      "execution_count": null,
      "metadata": {
        "id": "w2xm_eL0JhTj"
      },
      "outputs": [],
      "source": [
        "# Função para categorizar a idade com base no dicionário de faixas etárias\n",
        "def categorizar_idade(idade):\n",
        "    for faixa, limites in faixas_etarias.items():\n",
        "        if limites[0] <= idade <= limites[1]:\n",
        "            return faixa\n",
        "    return 'Desconhecido'"
      ]
    },
    {
      "cell_type": "code",
      "execution_count": null,
      "metadata": {
        "id": "05OePXBZJhTj"
      },
      "outputs": [],
      "source": [
        "# Aplicar a função de categorização à coluna 'age'\n",
        "users['faixa_etaria'] = users['age'].apply(categorizar_idade)"
      ]
    },
    {
      "cell_type": "code",
      "execution_count": null,
      "metadata": {
        "scrolled": true,
        "id": "1wxXDoOkJhTj",
        "outputId": "866cb1af-2e9d-426b-c921-0695f58b875f"
      },
      "outputs": [
        {
          "data": {
            "text/html": [
              "<div>\n",
              "<style scoped>\n",
              "    .dataframe tbody tr th:only-of-type {\n",
              "        vertical-align: middle;\n",
              "    }\n",
              "\n",
              "    .dataframe tbody tr th {\n",
              "        vertical-align: top;\n",
              "    }\n",
              "\n",
              "    .dataframe thead th {\n",
              "        text-align: right;\n",
              "    }\n",
              "</style>\n",
              "<table border=\"1\" class=\"dataframe\">\n",
              "  <thead>\n",
              "    <tr style=\"text-align: right;\">\n",
              "      <th></th>\n",
              "      <th>user_id</th>\n",
              "      <th>first_name</th>\n",
              "      <th>last_name</th>\n",
              "      <th>age</th>\n",
              "      <th>city</th>\n",
              "      <th>reg_date</th>\n",
              "      <th>plan</th>\n",
              "      <th>churn_date</th>\n",
              "      <th>churn</th>\n",
              "      <th>faixa_etaria</th>\n",
              "    </tr>\n",
              "  </thead>\n",
              "  <tbody>\n",
              "    <tr>\n",
              "      <th>0</th>\n",
              "      <td>1000</td>\n",
              "      <td>Anamaria</td>\n",
              "      <td>Bauer</td>\n",
              "      <td>45</td>\n",
              "      <td>Atlanta-Sandy Springs-Roswell, GA MSA</td>\n",
              "      <td>2018-12-24</td>\n",
              "      <td>ultimate</td>\n",
              "      <td>NaT</td>\n",
              "      <td>False</td>\n",
              "      <td>Adulto</td>\n",
              "    </tr>\n",
              "    <tr>\n",
              "      <th>1</th>\n",
              "      <td>1001</td>\n",
              "      <td>Mickey</td>\n",
              "      <td>Wilkerson</td>\n",
              "      <td>28</td>\n",
              "      <td>Seattle-Tacoma-Bellevue, WA MSA</td>\n",
              "      <td>2018-08-13</td>\n",
              "      <td>surf</td>\n",
              "      <td>NaT</td>\n",
              "      <td>False</td>\n",
              "      <td>Adulto</td>\n",
              "    </tr>\n",
              "    <tr>\n",
              "      <th>2</th>\n",
              "      <td>1002</td>\n",
              "      <td>Carlee</td>\n",
              "      <td>Hoffman</td>\n",
              "      <td>36</td>\n",
              "      <td>Las Vegas-Henderson-Paradise, NV MSA</td>\n",
              "      <td>2018-10-21</td>\n",
              "      <td>surf</td>\n",
              "      <td>NaT</td>\n",
              "      <td>False</td>\n",
              "      <td>Adulto</td>\n",
              "    </tr>\n",
              "    <tr>\n",
              "      <th>3</th>\n",
              "      <td>1003</td>\n",
              "      <td>Reynaldo</td>\n",
              "      <td>Jenkins</td>\n",
              "      <td>52</td>\n",
              "      <td>Tulsa, OK MSA</td>\n",
              "      <td>2018-01-28</td>\n",
              "      <td>surf</td>\n",
              "      <td>NaT</td>\n",
              "      <td>False</td>\n",
              "      <td>Adulto</td>\n",
              "    </tr>\n",
              "    <tr>\n",
              "      <th>4</th>\n",
              "      <td>1004</td>\n",
              "      <td>Leonila</td>\n",
              "      <td>Thompson</td>\n",
              "      <td>40</td>\n",
              "      <td>Seattle-Tacoma-Bellevue, WA MSA</td>\n",
              "      <td>2018-05-23</td>\n",
              "      <td>surf</td>\n",
              "      <td>NaT</td>\n",
              "      <td>False</td>\n",
              "      <td>Adulto</td>\n",
              "    </tr>\n",
              "  </tbody>\n",
              "</table>\n",
              "</div>"
            ],
            "text/plain": [
              "   user_id first_name  last_name  age                                   city  \\\n",
              "0     1000   Anamaria      Bauer   45  Atlanta-Sandy Springs-Roswell, GA MSA   \n",
              "1     1001     Mickey  Wilkerson   28        Seattle-Tacoma-Bellevue, WA MSA   \n",
              "2     1002     Carlee    Hoffman   36   Las Vegas-Henderson-Paradise, NV MSA   \n",
              "3     1003   Reynaldo    Jenkins   52                          Tulsa, OK MSA   \n",
              "4     1004    Leonila   Thompson   40        Seattle-Tacoma-Bellevue, WA MSA   \n",
              "\n",
              "    reg_date      plan churn_date  churn faixa_etaria  \n",
              "0 2018-12-24  ultimate        NaT  False       Adulto  \n",
              "1 2018-08-13      surf        NaT  False       Adulto  \n",
              "2 2018-10-21      surf        NaT  False       Adulto  \n",
              "3 2018-01-28      surf        NaT  False       Adulto  \n",
              "4 2018-05-23      surf        NaT  False       Adulto  "
            ]
          },
          "execution_count": 35,
          "metadata": {},
          "output_type": "execute_result"
        }
      ],
      "source": [
        "users.head()"
      ]
    },
    {
      "cell_type": "markdown",
      "metadata": {
        "id": "jSbflNEPJhTk"
      },
      "source": [
        "- Com essas etapas de enriquecimento, melhoramos a qualidade e a utilidade dos dados no dataframe `usuarios`. Agora temos informações mais completas e relevantes para realizar análises mais aprofundadas e obter insights valiosos sobre o comportamento dos clientes e a performance do serviço oferecido."
      ]
    },
    {
      "cell_type": "markdown",
      "metadata": {
        "id": "b8Y2bfLTJhTm"
      },
      "source": [
        "## Chamadas"
      ]
    },
    {
      "cell_type": "code",
      "execution_count": null,
      "metadata": {
        "id": "dHjDy-khJhTm",
        "outputId": "fc95f8c6-23ba-4fe0-c7ae-a57c00b3c737"
      },
      "outputs": [
        {
          "name": "stdout",
          "output_type": "stream",
          "text": [
            "<class 'pandas.core.frame.DataFrame'>\n",
            "RangeIndex: 137735 entries, 0 to 137734\n",
            "Data columns (total 4 columns):\n",
            " #   Column     Non-Null Count   Dtype  \n",
            "---  ------     --------------   -----  \n",
            " 0   id         137735 non-null  object \n",
            " 1   user_id    137735 non-null  int64  \n",
            " 2   call_date  137735 non-null  object \n",
            " 3   duration   137735 non-null  float64\n",
            "dtypes: float64(1), int64(1), object(2)\n",
            "memory usage: 4.2+ MB\n"
          ]
        }
      ],
      "source": [
        "# Imprima as informações gerais/resumidas sobre o DataFrame das chamadas\n",
        "calls.info()"
      ]
    },
    {
      "cell_type": "code",
      "execution_count": null,
      "metadata": {
        "id": "FyFUha6-JhTm",
        "outputId": "4b68be38-91f0-4335-f82d-6005828e8f88"
      },
      "outputs": [
        {
          "data": {
            "text/html": [
              "<div>\n",
              "<style scoped>\n",
              "    .dataframe tbody tr th:only-of-type {\n",
              "        vertical-align: middle;\n",
              "    }\n",
              "\n",
              "    .dataframe tbody tr th {\n",
              "        vertical-align: top;\n",
              "    }\n",
              "\n",
              "    .dataframe thead th {\n",
              "        text-align: right;\n",
              "    }\n",
              "</style>\n",
              "<table border=\"1\" class=\"dataframe\">\n",
              "  <thead>\n",
              "    <tr style=\"text-align: right;\">\n",
              "      <th></th>\n",
              "      <th>id</th>\n",
              "      <th>user_id</th>\n",
              "      <th>call_date</th>\n",
              "      <th>duration</th>\n",
              "    </tr>\n",
              "  </thead>\n",
              "  <tbody>\n",
              "    <tr>\n",
              "      <th>0</th>\n",
              "      <td>1000_93</td>\n",
              "      <td>1000</td>\n",
              "      <td>2018-12-27</td>\n",
              "      <td>8.52</td>\n",
              "    </tr>\n",
              "    <tr>\n",
              "      <th>1</th>\n",
              "      <td>1000_145</td>\n",
              "      <td>1000</td>\n",
              "      <td>2018-12-27</td>\n",
              "      <td>13.66</td>\n",
              "    </tr>\n",
              "    <tr>\n",
              "      <th>2</th>\n",
              "      <td>1000_247</td>\n",
              "      <td>1000</td>\n",
              "      <td>2018-12-27</td>\n",
              "      <td>14.48</td>\n",
              "    </tr>\n",
              "    <tr>\n",
              "      <th>3</th>\n",
              "      <td>1000_309</td>\n",
              "      <td>1000</td>\n",
              "      <td>2018-12-28</td>\n",
              "      <td>5.76</td>\n",
              "    </tr>\n",
              "    <tr>\n",
              "      <th>4</th>\n",
              "      <td>1000_380</td>\n",
              "      <td>1000</td>\n",
              "      <td>2018-12-30</td>\n",
              "      <td>4.22</td>\n",
              "    </tr>\n",
              "  </tbody>\n",
              "</table>\n",
              "</div>"
            ],
            "text/plain": [
              "         id  user_id   call_date  duration\n",
              "0   1000_93     1000  2018-12-27      8.52\n",
              "1  1000_145     1000  2018-12-27     13.66\n",
              "2  1000_247     1000  2018-12-27     14.48\n",
              "3  1000_309     1000  2018-12-28      5.76\n",
              "4  1000_380     1000  2018-12-30      4.22"
            ]
          },
          "execution_count": 37,
          "metadata": {},
          "output_type": "execute_result"
        }
      ],
      "source": [
        "# Imprimir uma amostra de dados para chamadas\n",
        "calls.head()"
      ]
    },
    {
      "cell_type": "code",
      "execution_count": null,
      "metadata": {
        "id": "m7PjH8qqJhTm",
        "outputId": "56a782a2-b034-4b56-fe3a-38df547235c5"
      },
      "outputs": [
        {
          "data": {
            "text/plain": [
              "id           0\n",
              "user_id      0\n",
              "call_date    0\n",
              "duration     0\n",
              "dtype: int64"
            ]
          },
          "execution_count": 38,
          "metadata": {},
          "output_type": "execute_result"
        }
      ],
      "source": [
        "#Verificando dados ausentes\n",
        "calls.isna().sum()"
      ]
    },
    {
      "cell_type": "code",
      "execution_count": null,
      "metadata": {
        "scrolled": true,
        "id": "zIJ3fglDJhTn",
        "outputId": "a6d858fd-3d42-4dc6-bd19-4e4afe60184a"
      },
      "outputs": [
        {
          "data": {
            "text/plain": [
              "0"
            ]
          },
          "execution_count": 39,
          "metadata": {},
          "output_type": "execute_result"
        }
      ],
      "source": [
        "#Verificando dados duplicados\n",
        "calls.duplicated().sum()"
      ]
    },
    {
      "cell_type": "code",
      "execution_count": null,
      "metadata": {
        "id": "ga3l5pKCJhTn",
        "outputId": "ae87062f-4636-499b-bd20-f3f28d344d91"
      },
      "outputs": [
        {
          "data": {
            "text/html": [
              "<div>\n",
              "<style scoped>\n",
              "    .dataframe tbody tr th:only-of-type {\n",
              "        vertical-align: middle;\n",
              "    }\n",
              "\n",
              "    .dataframe tbody tr th {\n",
              "        vertical-align: top;\n",
              "    }\n",
              "\n",
              "    .dataframe thead th {\n",
              "        text-align: right;\n",
              "    }\n",
              "</style>\n",
              "<table border=\"1\" class=\"dataframe\">\n",
              "  <thead>\n",
              "    <tr style=\"text-align: right;\">\n",
              "      <th></th>\n",
              "      <th>user_id</th>\n",
              "      <th>duration</th>\n",
              "    </tr>\n",
              "  </thead>\n",
              "  <tbody>\n",
              "    <tr>\n",
              "      <th>count</th>\n",
              "      <td>137735.000000</td>\n",
              "      <td>137735.000000</td>\n",
              "    </tr>\n",
              "    <tr>\n",
              "      <th>mean</th>\n",
              "      <td>1247.658046</td>\n",
              "      <td>6.745927</td>\n",
              "    </tr>\n",
              "    <tr>\n",
              "      <th>std</th>\n",
              "      <td>139.416268</td>\n",
              "      <td>5.839241</td>\n",
              "    </tr>\n",
              "    <tr>\n",
              "      <th>min</th>\n",
              "      <td>1000.000000</td>\n",
              "      <td>0.000000</td>\n",
              "    </tr>\n",
              "    <tr>\n",
              "      <th>25%</th>\n",
              "      <td>1128.000000</td>\n",
              "      <td>1.290000</td>\n",
              "    </tr>\n",
              "    <tr>\n",
              "      <th>50%</th>\n",
              "      <td>1247.000000</td>\n",
              "      <td>5.980000</td>\n",
              "    </tr>\n",
              "    <tr>\n",
              "      <th>75%</th>\n",
              "      <td>1365.000000</td>\n",
              "      <td>10.690000</td>\n",
              "    </tr>\n",
              "    <tr>\n",
              "      <th>max</th>\n",
              "      <td>1499.000000</td>\n",
              "      <td>37.600000</td>\n",
              "    </tr>\n",
              "  </tbody>\n",
              "</table>\n",
              "</div>"
            ],
            "text/plain": [
              "             user_id       duration\n",
              "count  137735.000000  137735.000000\n",
              "mean     1247.658046       6.745927\n",
              "std       139.416268       5.839241\n",
              "min      1000.000000       0.000000\n",
              "25%      1128.000000       1.290000\n",
              "50%      1247.000000       5.980000\n",
              "75%      1365.000000      10.690000\n",
              "max      1499.000000      37.600000"
            ]
          },
          "execution_count": 40,
          "metadata": {},
          "output_type": "execute_result"
        }
      ],
      "source": [
        "#Verificando estatísticas\n",
        "calls.describe()"
      ]
    },
    {
      "cell_type": "markdown",
      "metadata": {
        "id": "TiYpY9VwJhTo"
      },
      "source": [
        "- Ao analisar as informações gerais e a amostra de dados impressa para o preço dos dados, identificamos que a coluna `call_date` está com o formato de dado \"object\", mesmo representando a data da chamada. Vamos precisar converter essa coluna para o tipo de dado \"datetime\" a fim de facilitar a manipulação e análise de datas.\n",
        "\n",
        "- Além disso, não foram encontrados dados ausentes ou duplicados na amostra de dados, o que é um bom sinal em termos de qualidade dos dados.\n"
      ]
    },
    {
      "cell_type": "markdown",
      "metadata": {
        "id": "EcO93UESJhTo"
      },
      "source": [
        "### Corrigir dados"
      ]
    },
    {
      "cell_type": "markdown",
      "metadata": {
        "id": "opoletz5JhTp"
      },
      "source": [
        "- Para corrigir o problema do formato da coluna `call_date`, é necessário realizar a conversão para o tipo de dado \"datetime\". Isso pode ser feito utilizando a função apropriada para converter o formato da data na coluna, garantindo assim que as operações e análises futuras que envolvam essa informação sejam realizadas corretamente.\n",
        "- Vamos usar a função já definida anteriormente passando os respectivos parametros."
      ]
    },
    {
      "cell_type": "code",
      "execution_count": null,
      "metadata": {
        "id": "WkxPVAOgJhTp",
        "outputId": "92b04d99-da5b-4f89-df44-3c3c4a99d801"
      },
      "outputs": [
        {
          "data": {
            "text/plain": [
              "call_date    datetime64[ns]\n",
              "dtype: object"
            ]
          },
          "execution_count": 41,
          "metadata": {},
          "output_type": "execute_result"
        }
      ],
      "source": [
        "#Corrigindo tipo de dado\n",
        "converter_para_datetime(calls,['call_date'])"
      ]
    },
    {
      "cell_type": "markdown",
      "metadata": {
        "id": "ON3uUx7hJhTp"
      },
      "source": [
        "### Enriquecer dados"
      ]
    },
    {
      "cell_type": "markdown",
      "metadata": {
        "id": "n-UvCaQTJhTp"
      },
      "source": [
        "Vamos adiconar alguns fatores que podem ser úteis."
      ]
    },
    {
      "cell_type": "markdown",
      "metadata": {
        "id": "fSZn38P3JhTp"
      },
      "source": [
        "- Podemos enriquecer os dados ao mesclar os dataframes \"calls\" e \"users\" para adicionar informações sobre o usuário que fez a chamada. Isso nos permitirá ter um contexto mais completo sobre as chamadas, incluindo detalhes como o plano do usuário, sua cidade, idade, entre outros."
      ]
    },
    {
      "cell_type": "code",
      "execution_count": null,
      "metadata": {
        "scrolled": true,
        "id": "K4B-Z7yFJhTq",
        "outputId": "ed97c376-1fc3-4f4a-af02-7542bfd6b2d3"
      },
      "outputs": [
        {
          "data": {
            "text/html": [
              "<div>\n",
              "<style scoped>\n",
              "    .dataframe tbody tr th:only-of-type {\n",
              "        vertical-align: middle;\n",
              "    }\n",
              "\n",
              "    .dataframe tbody tr th {\n",
              "        vertical-align: top;\n",
              "    }\n",
              "\n",
              "    .dataframe thead th {\n",
              "        text-align: right;\n",
              "    }\n",
              "</style>\n",
              "<table border=\"1\" class=\"dataframe\">\n",
              "  <thead>\n",
              "    <tr style=\"text-align: right;\">\n",
              "      <th></th>\n",
              "      <th>id</th>\n",
              "      <th>user_id</th>\n",
              "      <th>call_date</th>\n",
              "      <th>duration</th>\n",
              "      <th>first_name</th>\n",
              "      <th>last_name</th>\n",
              "      <th>age</th>\n",
              "      <th>city</th>\n",
              "      <th>reg_date</th>\n",
              "      <th>plan</th>\n",
              "      <th>churn_date</th>\n",
              "      <th>churn</th>\n",
              "      <th>faixa_etaria</th>\n",
              "    </tr>\n",
              "  </thead>\n",
              "  <tbody>\n",
              "    <tr>\n",
              "      <th>0</th>\n",
              "      <td>1000_93</td>\n",
              "      <td>1000</td>\n",
              "      <td>2018-12-27</td>\n",
              "      <td>8.52</td>\n",
              "      <td>Anamaria</td>\n",
              "      <td>Bauer</td>\n",
              "      <td>45</td>\n",
              "      <td>Atlanta-Sandy Springs-Roswell, GA MSA</td>\n",
              "      <td>2018-12-24</td>\n",
              "      <td>ultimate</td>\n",
              "      <td>NaT</td>\n",
              "      <td>False</td>\n",
              "      <td>Adulto</td>\n",
              "    </tr>\n",
              "    <tr>\n",
              "      <th>1</th>\n",
              "      <td>1000_145</td>\n",
              "      <td>1000</td>\n",
              "      <td>2018-12-27</td>\n",
              "      <td>13.66</td>\n",
              "      <td>Anamaria</td>\n",
              "      <td>Bauer</td>\n",
              "      <td>45</td>\n",
              "      <td>Atlanta-Sandy Springs-Roswell, GA MSA</td>\n",
              "      <td>2018-12-24</td>\n",
              "      <td>ultimate</td>\n",
              "      <td>NaT</td>\n",
              "      <td>False</td>\n",
              "      <td>Adulto</td>\n",
              "    </tr>\n",
              "    <tr>\n",
              "      <th>2</th>\n",
              "      <td>1000_247</td>\n",
              "      <td>1000</td>\n",
              "      <td>2018-12-27</td>\n",
              "      <td>14.48</td>\n",
              "      <td>Anamaria</td>\n",
              "      <td>Bauer</td>\n",
              "      <td>45</td>\n",
              "      <td>Atlanta-Sandy Springs-Roswell, GA MSA</td>\n",
              "      <td>2018-12-24</td>\n",
              "      <td>ultimate</td>\n",
              "      <td>NaT</td>\n",
              "      <td>False</td>\n",
              "      <td>Adulto</td>\n",
              "    </tr>\n",
              "    <tr>\n",
              "      <th>3</th>\n",
              "      <td>1000_309</td>\n",
              "      <td>1000</td>\n",
              "      <td>2018-12-28</td>\n",
              "      <td>5.76</td>\n",
              "      <td>Anamaria</td>\n",
              "      <td>Bauer</td>\n",
              "      <td>45</td>\n",
              "      <td>Atlanta-Sandy Springs-Roswell, GA MSA</td>\n",
              "      <td>2018-12-24</td>\n",
              "      <td>ultimate</td>\n",
              "      <td>NaT</td>\n",
              "      <td>False</td>\n",
              "      <td>Adulto</td>\n",
              "    </tr>\n",
              "    <tr>\n",
              "      <th>4</th>\n",
              "      <td>1000_380</td>\n",
              "      <td>1000</td>\n",
              "      <td>2018-12-30</td>\n",
              "      <td>4.22</td>\n",
              "      <td>Anamaria</td>\n",
              "      <td>Bauer</td>\n",
              "      <td>45</td>\n",
              "      <td>Atlanta-Sandy Springs-Roswell, GA MSA</td>\n",
              "      <td>2018-12-24</td>\n",
              "      <td>ultimate</td>\n",
              "      <td>NaT</td>\n",
              "      <td>False</td>\n",
              "      <td>Adulto</td>\n",
              "    </tr>\n",
              "  </tbody>\n",
              "</table>\n",
              "</div>"
            ],
            "text/plain": [
              "         id  user_id  call_date  duration first_name last_name  age  \\\n",
              "0   1000_93     1000 2018-12-27      8.52   Anamaria     Bauer   45   \n",
              "1  1000_145     1000 2018-12-27     13.66   Anamaria     Bauer   45   \n",
              "2  1000_247     1000 2018-12-27     14.48   Anamaria     Bauer   45   \n",
              "3  1000_309     1000 2018-12-28      5.76   Anamaria     Bauer   45   \n",
              "4  1000_380     1000 2018-12-30      4.22   Anamaria     Bauer   45   \n",
              "\n",
              "                                    city   reg_date      plan churn_date  \\\n",
              "0  Atlanta-Sandy Springs-Roswell, GA MSA 2018-12-24  ultimate        NaT   \n",
              "1  Atlanta-Sandy Springs-Roswell, GA MSA 2018-12-24  ultimate        NaT   \n",
              "2  Atlanta-Sandy Springs-Roswell, GA MSA 2018-12-24  ultimate        NaT   \n",
              "3  Atlanta-Sandy Springs-Roswell, GA MSA 2018-12-24  ultimate        NaT   \n",
              "4  Atlanta-Sandy Springs-Roswell, GA MSA 2018-12-24  ultimate        NaT   \n",
              "\n",
              "   churn faixa_etaria  \n",
              "0  False       Adulto  \n",
              "1  False       Adulto  \n",
              "2  False       Adulto  \n",
              "3  False       Adulto  \n",
              "4  False       Adulto  "
            ]
          },
          "execution_count": 42,
          "metadata": {},
          "output_type": "execute_result"
        }
      ],
      "source": [
        "#Merge dataframe calls com users\n",
        "enriched_calls = calls.merge(users, on='user_id', how='left')\n",
        "enriched_calls.head()"
      ]
    },
    {
      "cell_type": "markdown",
      "metadata": {
        "id": "EQ6T9qGiJhTq"
      },
      "source": [
        "- Vamos enriquecer os dados adicionando informações sobre a duração das chamadas por meio da criação de categorias. Ao criar categorias para a duração das chamadas, como curtas, médias e longas chamadas, poderemos identificar padrões de uso e comportamento dos usuários com base na duração das chamadas que realizaram."
      ]
    },
    {
      "cell_type": "code",
      "execution_count": null,
      "metadata": {
        "id": "h9_k91k3JhTq"
      },
      "outputs": [],
      "source": [
        "# Função para categorizar duração da chamada\n",
        "def categorize_duration(duration):\n",
        "    if duration < 5:\n",
        "        return 'Curta'\n",
        "    elif duration >= 5 and duration < 10:\n",
        "        return 'Média'\n",
        "    else:\n",
        "        return 'Longa'"
      ]
    },
    {
      "cell_type": "code",
      "execution_count": null,
      "metadata": {
        "id": "dIMlhimBJhTq"
      },
      "outputs": [],
      "source": [
        "#Criando nova coluna no dataframe de chamadas\n",
        "calls['duration_category'] = enriched_calls['duration'].apply(categorize_duration)"
      ]
    },
    {
      "cell_type": "code",
      "execution_count": null,
      "metadata": {
        "id": "SiUp5obcJhTq",
        "outputId": "40b09e14-4966-4ad6-cb8f-6a3047ac97c4"
      },
      "outputs": [
        {
          "data": {
            "text/plain": [
              "'Longa'"
            ]
          },
          "execution_count": 45,
          "metadata": {},
          "output_type": "execute_result"
        }
      ],
      "source": [
        "#Testando a função\n",
        "categorize_duration(14.48)"
      ]
    },
    {
      "cell_type": "code",
      "execution_count": null,
      "metadata": {
        "id": "zRSn3AJAJhTr",
        "outputId": "a0b8aa88-a2a4-4f8a-cb10-cfebe48a1467"
      },
      "outputs": [
        {
          "data": {
            "text/html": [
              "<div>\n",
              "<style scoped>\n",
              "    .dataframe tbody tr th:only-of-type {\n",
              "        vertical-align: middle;\n",
              "    }\n",
              "\n",
              "    .dataframe tbody tr th {\n",
              "        vertical-align: top;\n",
              "    }\n",
              "\n",
              "    .dataframe thead th {\n",
              "        text-align: right;\n",
              "    }\n",
              "</style>\n",
              "<table border=\"1\" class=\"dataframe\">\n",
              "  <thead>\n",
              "    <tr style=\"text-align: right;\">\n",
              "      <th></th>\n",
              "      <th>id</th>\n",
              "      <th>user_id</th>\n",
              "      <th>call_date</th>\n",
              "      <th>duration</th>\n",
              "      <th>duration_category</th>\n",
              "    </tr>\n",
              "  </thead>\n",
              "  <tbody>\n",
              "    <tr>\n",
              "      <th>0</th>\n",
              "      <td>1000_93</td>\n",
              "      <td>1000</td>\n",
              "      <td>2018-12-27</td>\n",
              "      <td>8.52</td>\n",
              "      <td>Média</td>\n",
              "    </tr>\n",
              "    <tr>\n",
              "      <th>1</th>\n",
              "      <td>1000_145</td>\n",
              "      <td>1000</td>\n",
              "      <td>2018-12-27</td>\n",
              "      <td>13.66</td>\n",
              "      <td>Longa</td>\n",
              "    </tr>\n",
              "    <tr>\n",
              "      <th>2</th>\n",
              "      <td>1000_247</td>\n",
              "      <td>1000</td>\n",
              "      <td>2018-12-27</td>\n",
              "      <td>14.48</td>\n",
              "      <td>Longa</td>\n",
              "    </tr>\n",
              "    <tr>\n",
              "      <th>3</th>\n",
              "      <td>1000_309</td>\n",
              "      <td>1000</td>\n",
              "      <td>2018-12-28</td>\n",
              "      <td>5.76</td>\n",
              "      <td>Média</td>\n",
              "    </tr>\n",
              "    <tr>\n",
              "      <th>4</th>\n",
              "      <td>1000_380</td>\n",
              "      <td>1000</td>\n",
              "      <td>2018-12-30</td>\n",
              "      <td>4.22</td>\n",
              "      <td>Curta</td>\n",
              "    </tr>\n",
              "  </tbody>\n",
              "</table>\n",
              "</div>"
            ],
            "text/plain": [
              "         id  user_id  call_date  duration duration_category\n",
              "0   1000_93     1000 2018-12-27      8.52             Média\n",
              "1  1000_145     1000 2018-12-27     13.66             Longa\n",
              "2  1000_247     1000 2018-12-27     14.48             Longa\n",
              "3  1000_309     1000 2018-12-28      5.76             Média\n",
              "4  1000_380     1000 2018-12-30      4.22             Curta"
            ]
          },
          "execution_count": 46,
          "metadata": {},
          "output_type": "execute_result"
        }
      ],
      "source": [
        "#Verificando a nova coluna criada\n",
        "calls.head()"
      ]
    },
    {
      "cell_type": "markdown",
      "metadata": {
        "id": "0EIicHsKJhTr"
      },
      "source": [
        "- Vamos enriquecer nossos dados adicionando informações temporais da coluna `call_date`\n",
        ". Podemos extrair informações como o dia da semana, o mês ou a estação do ano a partir da data das chamadas. Esses dados temporais nos permitirão identificar padrões de uso ao longo do tempo e obter insights sobre o comportamento dos usuários em diferentes períodos."
      ]
    },
    {
      "cell_type": "code",
      "execution_count": null,
      "metadata": {
        "id": "YnNFjpInJhTs"
      },
      "outputs": [],
      "source": [
        "#Adicionando informações temporais\n",
        "calls['weekday'] = enriched_calls['call_date'].dt.weekday\n",
        "calls['month'] = enriched_calls['call_date'].dt.month"
      ]
    },
    {
      "cell_type": "code",
      "execution_count": null,
      "metadata": {
        "scrolled": true,
        "id": "Jo9UuuzPJhTs",
        "outputId": "8213688e-45a5-4d1e-e90c-0c780305ef27"
      },
      "outputs": [
        {
          "data": {
            "text/html": [
              "<div>\n",
              "<style scoped>\n",
              "    .dataframe tbody tr th:only-of-type {\n",
              "        vertical-align: middle;\n",
              "    }\n",
              "\n",
              "    .dataframe tbody tr th {\n",
              "        vertical-align: top;\n",
              "    }\n",
              "\n",
              "    .dataframe thead th {\n",
              "        text-align: right;\n",
              "    }\n",
              "</style>\n",
              "<table border=\"1\" class=\"dataframe\">\n",
              "  <thead>\n",
              "    <tr style=\"text-align: right;\">\n",
              "      <th></th>\n",
              "      <th>id</th>\n",
              "      <th>user_id</th>\n",
              "      <th>call_date</th>\n",
              "      <th>duration</th>\n",
              "      <th>duration_category</th>\n",
              "      <th>weekday</th>\n",
              "      <th>month</th>\n",
              "    </tr>\n",
              "  </thead>\n",
              "  <tbody>\n",
              "    <tr>\n",
              "      <th>0</th>\n",
              "      <td>1000_93</td>\n",
              "      <td>1000</td>\n",
              "      <td>2018-12-27</td>\n",
              "      <td>8.52</td>\n",
              "      <td>Média</td>\n",
              "      <td>3</td>\n",
              "      <td>12</td>\n",
              "    </tr>\n",
              "    <tr>\n",
              "      <th>1</th>\n",
              "      <td>1000_145</td>\n",
              "      <td>1000</td>\n",
              "      <td>2018-12-27</td>\n",
              "      <td>13.66</td>\n",
              "      <td>Longa</td>\n",
              "      <td>3</td>\n",
              "      <td>12</td>\n",
              "    </tr>\n",
              "    <tr>\n",
              "      <th>2</th>\n",
              "      <td>1000_247</td>\n",
              "      <td>1000</td>\n",
              "      <td>2018-12-27</td>\n",
              "      <td>14.48</td>\n",
              "      <td>Longa</td>\n",
              "      <td>3</td>\n",
              "      <td>12</td>\n",
              "    </tr>\n",
              "    <tr>\n",
              "      <th>3</th>\n",
              "      <td>1000_309</td>\n",
              "      <td>1000</td>\n",
              "      <td>2018-12-28</td>\n",
              "      <td>5.76</td>\n",
              "      <td>Média</td>\n",
              "      <td>4</td>\n",
              "      <td>12</td>\n",
              "    </tr>\n",
              "    <tr>\n",
              "      <th>4</th>\n",
              "      <td>1000_380</td>\n",
              "      <td>1000</td>\n",
              "      <td>2018-12-30</td>\n",
              "      <td>4.22</td>\n",
              "      <td>Curta</td>\n",
              "      <td>6</td>\n",
              "      <td>12</td>\n",
              "    </tr>\n",
              "  </tbody>\n",
              "</table>\n",
              "</div>"
            ],
            "text/plain": [
              "         id  user_id  call_date  duration duration_category  weekday  month\n",
              "0   1000_93     1000 2018-12-27      8.52             Média        3     12\n",
              "1  1000_145     1000 2018-12-27     13.66             Longa        3     12\n",
              "2  1000_247     1000 2018-12-27     14.48             Longa        3     12\n",
              "3  1000_309     1000 2018-12-28      5.76             Média        4     12\n",
              "4  1000_380     1000 2018-12-30      4.22             Curta        6     12"
            ]
          },
          "execution_count": 48,
          "metadata": {},
          "output_type": "execute_result"
        }
      ],
      "source": [
        "#Verificando as novas informações\n",
        "calls.head()"
      ]
    },
    {
      "cell_type": "markdown",
      "metadata": {
        "id": "iyQqAF4mJhTt"
      },
      "source": [
        "## Mensagens"
      ]
    },
    {
      "cell_type": "code",
      "execution_count": null,
      "metadata": {
        "id": "zEEc42zrJhTt",
        "outputId": "d8e93689-ebb0-4f85-fde7-c14b5fd86e98"
      },
      "outputs": [
        {
          "name": "stdout",
          "output_type": "stream",
          "text": [
            "<class 'pandas.core.frame.DataFrame'>\n",
            "RangeIndex: 76051 entries, 0 to 76050\n",
            "Data columns (total 3 columns):\n",
            " #   Column        Non-Null Count  Dtype \n",
            "---  ------        --------------  ----- \n",
            " 0   id            76051 non-null  object\n",
            " 1   user_id       76051 non-null  int64 \n",
            " 2   message_date  76051 non-null  object\n",
            "dtypes: int64(1), object(2)\n",
            "memory usage: 1.7+ MB\n"
          ]
        }
      ],
      "source": [
        "# Imprima as informações gerais/resumidas sobre o DataFrame das mensagens\n",
        "messages.info()"
      ]
    },
    {
      "cell_type": "code",
      "execution_count": null,
      "metadata": {
        "scrolled": true,
        "id": "Hq9thGN0JhTt",
        "outputId": "a26c55c0-7a7e-4b20-ccc4-00b4bf69819d"
      },
      "outputs": [
        {
          "data": {
            "text/html": [
              "<div>\n",
              "<style scoped>\n",
              "    .dataframe tbody tr th:only-of-type {\n",
              "        vertical-align: middle;\n",
              "    }\n",
              "\n",
              "    .dataframe tbody tr th {\n",
              "        vertical-align: top;\n",
              "    }\n",
              "\n",
              "    .dataframe thead th {\n",
              "        text-align: right;\n",
              "    }\n",
              "</style>\n",
              "<table border=\"1\" class=\"dataframe\">\n",
              "  <thead>\n",
              "    <tr style=\"text-align: right;\">\n",
              "      <th></th>\n",
              "      <th>id</th>\n",
              "      <th>user_id</th>\n",
              "      <th>message_date</th>\n",
              "    </tr>\n",
              "  </thead>\n",
              "  <tbody>\n",
              "    <tr>\n",
              "      <th>0</th>\n",
              "      <td>1000_125</td>\n",
              "      <td>1000</td>\n",
              "      <td>2018-12-27</td>\n",
              "    </tr>\n",
              "    <tr>\n",
              "      <th>1</th>\n",
              "      <td>1000_160</td>\n",
              "      <td>1000</td>\n",
              "      <td>2018-12-31</td>\n",
              "    </tr>\n",
              "    <tr>\n",
              "      <th>2</th>\n",
              "      <td>1000_223</td>\n",
              "      <td>1000</td>\n",
              "      <td>2018-12-31</td>\n",
              "    </tr>\n",
              "    <tr>\n",
              "      <th>3</th>\n",
              "      <td>1000_251</td>\n",
              "      <td>1000</td>\n",
              "      <td>2018-12-27</td>\n",
              "    </tr>\n",
              "    <tr>\n",
              "      <th>4</th>\n",
              "      <td>1000_255</td>\n",
              "      <td>1000</td>\n",
              "      <td>2018-12-26</td>\n",
              "    </tr>\n",
              "  </tbody>\n",
              "</table>\n",
              "</div>"
            ],
            "text/plain": [
              "         id  user_id message_date\n",
              "0  1000_125     1000   2018-12-27\n",
              "1  1000_160     1000   2018-12-31\n",
              "2  1000_223     1000   2018-12-31\n",
              "3  1000_251     1000   2018-12-27\n",
              "4  1000_255     1000   2018-12-26"
            ]
          },
          "execution_count": 50,
          "metadata": {},
          "output_type": "execute_result"
        }
      ],
      "source": [
        "# Imprima uma amostra dos dados para as mensagens\n",
        "messages.head()"
      ]
    },
    {
      "cell_type": "code",
      "execution_count": null,
      "metadata": {
        "id": "NCmeYMKRJhTu",
        "outputId": "b7b18e71-0d95-4d18-e9de-419e9bafdc5e"
      },
      "outputs": [
        {
          "data": {
            "text/plain": [
              "id              0\n",
              "user_id         0\n",
              "message_date    0\n",
              "dtype: int64"
            ]
          },
          "execution_count": 51,
          "metadata": {},
          "output_type": "execute_result"
        }
      ],
      "source": [
        "#Verificando dados ausentes\n",
        "messages.isna().sum()"
      ]
    },
    {
      "cell_type": "code",
      "execution_count": null,
      "metadata": {
        "id": "aJqS18OLJhTu",
        "outputId": "36d952ec-fa7d-4249-88e2-f293f1813d5b"
      },
      "outputs": [
        {
          "data": {
            "text/plain": [
              "0"
            ]
          },
          "execution_count": 52,
          "metadata": {},
          "output_type": "execute_result"
        }
      ],
      "source": [
        "#Verificando dados duplicados\n",
        "messages.duplicated().sum()"
      ]
    },
    {
      "cell_type": "markdown",
      "metadata": {
        "id": "HegxXAlvJhTv"
      },
      "source": [
        "- Ao analisar as informações gerais e a amostra de dados impressa para a coluna `message_date`, podemos observar que o formato dos dados não está adequado, uma vez que eles representam a data das mensagens de texto. Para corrigir esse problema, será necessário converter o tipo de dados da coluna `message_date` para o formato datetime.\n",
        "- Para corrigir o problema do formato inadequado na coluna `message_date`, vamos realizar a conversão para o tipo de dados datetime usando a função criada anteriormente. Isso nos permitirá explorar melhor os dados relacionados às mensagens de texto e obter insights mais detalhados sobre o comportamento dos usuários nesse aspecto."
      ]
    },
    {
      "cell_type": "markdown",
      "metadata": {
        "id": "C5xi9YmqJhTv"
      },
      "source": [
        "### Corrigir dados"
      ]
    },
    {
      "cell_type": "markdown",
      "metadata": {
        "id": "T1qE7ykQJhTv"
      },
      "source": [
        "- Vamos corrigir problemas óbvios com os dados de acordo com as observações iniciais feitas acima."
      ]
    },
    {
      "cell_type": "code",
      "execution_count": null,
      "metadata": {
        "scrolled": true,
        "id": "lUAW7c4eJhTw",
        "outputId": "da8d35ba-c827-4e20-acc7-1775de9ef040"
      },
      "outputs": [
        {
          "data": {
            "text/plain": [
              "message_date    datetime64[ns]\n",
              "dtype: object"
            ]
          },
          "execution_count": 53,
          "metadata": {},
          "output_type": "execute_result"
        }
      ],
      "source": [
        "#Corrigindo o tipo de dado da coluna `message_date`\n",
        "converter_para_datetime(messages,['message_date'])"
      ]
    },
    {
      "cell_type": "markdown",
      "metadata": {
        "id": "Y4_Rnp8yJhTw"
      },
      "source": [
        "### Enriquecer dados"
      ]
    },
    {
      "cell_type": "markdown",
      "metadata": {
        "id": "ds8hRWqkJhTw"
      },
      "source": [
        "Vamos adicionar alguns fatores aos dados que podem ser úteis."
      ]
    },
    {
      "cell_type": "markdown",
      "metadata": {
        "id": "4MpRzwzOJhTw"
      },
      "source": [
        "- Vamos enriquecer nossos dados adicionando fatores temporais e também realizando agrupamentos por usuário. Iremos extrair informações de data da mensagem para obter insights sobre padrões temporais de envio de mensagem. Além disso, vamos realizar agrupamentos por usuário, o que nos permitirá analisar o comportamento individual de cada usuário em relação ao envio de mensagens."
      ]
    },
    {
      "cell_type": "code",
      "execution_count": null,
      "metadata": {
        "id": "qgDEn16QJhTw",
        "outputId": "ecb73131-a164-4a33-bab4-c146a2a03e7c"
      },
      "outputs": [
        {
          "data": {
            "text/html": [
              "<div>\n",
              "<style scoped>\n",
              "    .dataframe tbody tr th:only-of-type {\n",
              "        vertical-align: middle;\n",
              "    }\n",
              "\n",
              "    .dataframe tbody tr th {\n",
              "        vertical-align: top;\n",
              "    }\n",
              "\n",
              "    .dataframe thead th {\n",
              "        text-align: right;\n",
              "    }\n",
              "</style>\n",
              "<table border=\"1\" class=\"dataframe\">\n",
              "  <thead>\n",
              "    <tr style=\"text-align: right;\">\n",
              "      <th></th>\n",
              "      <th>id</th>\n",
              "      <th>user_id</th>\n",
              "      <th>message_date</th>\n",
              "      <th>day_of_week</th>\n",
              "      <th>month</th>\n",
              "    </tr>\n",
              "  </thead>\n",
              "  <tbody>\n",
              "    <tr>\n",
              "      <th>0</th>\n",
              "      <td>1000_125</td>\n",
              "      <td>1000</td>\n",
              "      <td>2018-12-27</td>\n",
              "      <td>3</td>\n",
              "      <td>12</td>\n",
              "    </tr>\n",
              "    <tr>\n",
              "      <th>1</th>\n",
              "      <td>1000_160</td>\n",
              "      <td>1000</td>\n",
              "      <td>2018-12-31</td>\n",
              "      <td>0</td>\n",
              "      <td>12</td>\n",
              "    </tr>\n",
              "    <tr>\n",
              "      <th>2</th>\n",
              "      <td>1000_223</td>\n",
              "      <td>1000</td>\n",
              "      <td>2018-12-31</td>\n",
              "      <td>0</td>\n",
              "      <td>12</td>\n",
              "    </tr>\n",
              "    <tr>\n",
              "      <th>3</th>\n",
              "      <td>1000_251</td>\n",
              "      <td>1000</td>\n",
              "      <td>2018-12-27</td>\n",
              "      <td>3</td>\n",
              "      <td>12</td>\n",
              "    </tr>\n",
              "    <tr>\n",
              "      <th>4</th>\n",
              "      <td>1000_255</td>\n",
              "      <td>1000</td>\n",
              "      <td>2018-12-26</td>\n",
              "      <td>2</td>\n",
              "      <td>12</td>\n",
              "    </tr>\n",
              "  </tbody>\n",
              "</table>\n",
              "</div>"
            ],
            "text/plain": [
              "         id  user_id message_date  day_of_week  month\n",
              "0  1000_125     1000   2018-12-27            3     12\n",
              "1  1000_160     1000   2018-12-31            0     12\n",
              "2  1000_223     1000   2018-12-31            0     12\n",
              "3  1000_251     1000   2018-12-27            3     12\n",
              "4  1000_255     1000   2018-12-26            2     12"
            ]
          },
          "execution_count": 54,
          "metadata": {},
          "output_type": "execute_result"
        }
      ],
      "source": [
        "# Extrair informações de data da mensagem\n",
        "messages['day_of_week'] = messages['message_date'].dt.dayofweek\n",
        "messages['month'] = messages['message_date'].dt.month\n",
        "messages.head()"
      ]
    },
    {
      "cell_type": "code",
      "execution_count": null,
      "metadata": {
        "id": "Cq7fosoaJhT1",
        "outputId": "6ac04f6f-e027-4311-bee0-c07cade1c726"
      },
      "outputs": [
        {
          "data": {
            "text/html": [
              "<div>\n",
              "<style scoped>\n",
              "    .dataframe tbody tr th:only-of-type {\n",
              "        vertical-align: middle;\n",
              "    }\n",
              "\n",
              "    .dataframe tbody tr th {\n",
              "        vertical-align: top;\n",
              "    }\n",
              "\n",
              "    .dataframe thead th {\n",
              "        text-align: right;\n",
              "    }\n",
              "</style>\n",
              "<table border=\"1\" class=\"dataframe\">\n",
              "  <thead>\n",
              "    <tr style=\"text-align: right;\">\n",
              "      <th></th>\n",
              "      <th>user_id</th>\n",
              "      <th>month</th>\n",
              "      <th>total_messages</th>\n",
              "    </tr>\n",
              "  </thead>\n",
              "  <tbody>\n",
              "    <tr>\n",
              "      <th>0</th>\n",
              "      <td>1000</td>\n",
              "      <td>12</td>\n",
              "      <td>11</td>\n",
              "    </tr>\n",
              "    <tr>\n",
              "      <th>1</th>\n",
              "      <td>1001</td>\n",
              "      <td>8</td>\n",
              "      <td>30</td>\n",
              "    </tr>\n",
              "    <tr>\n",
              "      <th>2</th>\n",
              "      <td>1001</td>\n",
              "      <td>9</td>\n",
              "      <td>44</td>\n",
              "    </tr>\n",
              "    <tr>\n",
              "      <th>3</th>\n",
              "      <td>1001</td>\n",
              "      <td>10</td>\n",
              "      <td>53</td>\n",
              "    </tr>\n",
              "    <tr>\n",
              "      <th>4</th>\n",
              "      <td>1001</td>\n",
              "      <td>11</td>\n",
              "      <td>36</td>\n",
              "    </tr>\n",
              "  </tbody>\n",
              "</table>\n",
              "</div>"
            ],
            "text/plain": [
              "   user_id  month  total_messages\n",
              "0     1000     12              11\n",
              "1     1001      8              30\n",
              "2     1001      9              44\n",
              "3     1001     10              53\n",
              "4     1001     11              36"
            ]
          },
          "execution_count": 55,
          "metadata": {},
          "output_type": "execute_result"
        }
      ],
      "source": [
        "# Agrupar mensagens por usuário e mês\n",
        "user_message_counts = messages.groupby(['user_id', 'month'])['id'].count().reset_index()\n",
        "user_message_counts.columns = ['user_id', 'month', 'total_messages']\n",
        "user_message_counts.head()\n"
      ]
    },
    {
      "cell_type": "markdown",
      "metadata": {
        "id": "nLACQ8R4JhT1"
      },
      "source": [
        "- Com esses fatores adicionais e os agrupamentos por usuário, poderemos obter insights mais detalhados sobre o uso do serviço de mensagens e tomar decisões mais embasadas em relação a estratégias de marketing, personalização de oferta e melhorias na experiência do usuário."
      ]
    },
    {
      "cell_type": "markdown",
      "metadata": {
        "id": "glzO2i3mJhT2"
      },
      "source": [
        "## Internet"
      ]
    },
    {
      "cell_type": "code",
      "execution_count": null,
      "metadata": {
        "id": "B5ywwABdJhT3",
        "outputId": "d4699b62-302a-4a56-de41-d49ccc010ee1"
      },
      "outputs": [
        {
          "name": "stdout",
          "output_type": "stream",
          "text": [
            "<class 'pandas.core.frame.DataFrame'>\n",
            "RangeIndex: 104825 entries, 0 to 104824\n",
            "Data columns (total 4 columns):\n",
            " #   Column        Non-Null Count   Dtype  \n",
            "---  ------        --------------   -----  \n",
            " 0   id            104825 non-null  object \n",
            " 1   user_id       104825 non-null  int64  \n",
            " 2   session_date  104825 non-null  object \n",
            " 3   mb_used       104825 non-null  float64\n",
            "dtypes: float64(1), int64(1), object(2)\n",
            "memory usage: 3.2+ MB\n"
          ]
        }
      ],
      "source": [
        "# Imprime as informações gerais/resumidas sobre o DataFrame da Internet\n",
        "internet.info()"
      ]
    },
    {
      "cell_type": "code",
      "execution_count": null,
      "metadata": {
        "scrolled": true,
        "id": "ZQocrAO1JhT3",
        "outputId": "2b9b4dea-255d-464c-ead0-ca7137ced692"
      },
      "outputs": [
        {
          "data": {
            "text/html": [
              "<div>\n",
              "<style scoped>\n",
              "    .dataframe tbody tr th:only-of-type {\n",
              "        vertical-align: middle;\n",
              "    }\n",
              "\n",
              "    .dataframe tbody tr th {\n",
              "        vertical-align: top;\n",
              "    }\n",
              "\n",
              "    .dataframe thead th {\n",
              "        text-align: right;\n",
              "    }\n",
              "</style>\n",
              "<table border=\"1\" class=\"dataframe\">\n",
              "  <thead>\n",
              "    <tr style=\"text-align: right;\">\n",
              "      <th></th>\n",
              "      <th>id</th>\n",
              "      <th>user_id</th>\n",
              "      <th>session_date</th>\n",
              "      <th>mb_used</th>\n",
              "    </tr>\n",
              "  </thead>\n",
              "  <tbody>\n",
              "    <tr>\n",
              "      <th>0</th>\n",
              "      <td>1000_13</td>\n",
              "      <td>1000</td>\n",
              "      <td>2018-12-29</td>\n",
              "      <td>89.86</td>\n",
              "    </tr>\n",
              "    <tr>\n",
              "      <th>1</th>\n",
              "      <td>1000_204</td>\n",
              "      <td>1000</td>\n",
              "      <td>2018-12-31</td>\n",
              "      <td>0.00</td>\n",
              "    </tr>\n",
              "    <tr>\n",
              "      <th>2</th>\n",
              "      <td>1000_379</td>\n",
              "      <td>1000</td>\n",
              "      <td>2018-12-28</td>\n",
              "      <td>660.40</td>\n",
              "    </tr>\n",
              "    <tr>\n",
              "      <th>3</th>\n",
              "      <td>1000_413</td>\n",
              "      <td>1000</td>\n",
              "      <td>2018-12-26</td>\n",
              "      <td>270.99</td>\n",
              "    </tr>\n",
              "    <tr>\n",
              "      <th>4</th>\n",
              "      <td>1000_442</td>\n",
              "      <td>1000</td>\n",
              "      <td>2018-12-27</td>\n",
              "      <td>880.22</td>\n",
              "    </tr>\n",
              "  </tbody>\n",
              "</table>\n",
              "</div>"
            ],
            "text/plain": [
              "         id  user_id session_date  mb_used\n",
              "0   1000_13     1000   2018-12-29    89.86\n",
              "1  1000_204     1000   2018-12-31     0.00\n",
              "2  1000_379     1000   2018-12-28   660.40\n",
              "3  1000_413     1000   2018-12-26   270.99\n",
              "4  1000_442     1000   2018-12-27   880.22"
            ]
          },
          "execution_count": 57,
          "metadata": {},
          "output_type": "execute_result"
        }
      ],
      "source": [
        "# Imprime uma amostra de dados para o tráfego da Internet\n",
        "internet.head()"
      ]
    },
    {
      "cell_type": "code",
      "execution_count": null,
      "metadata": {
        "id": "JqYsKJl7JhT4",
        "outputId": "bb2d2b51-9d86-4bab-ce66-5249aadcecbd"
      },
      "outputs": [
        {
          "data": {
            "text/plain": [
              "id              0\n",
              "user_id         0\n",
              "session_date    0\n",
              "mb_used         0\n",
              "dtype: int64"
            ]
          },
          "execution_count": 58,
          "metadata": {},
          "output_type": "execute_result"
        }
      ],
      "source": [
        "#Verificando dados ausentes\n",
        "internet.isna().sum()"
      ]
    },
    {
      "cell_type": "code",
      "execution_count": null,
      "metadata": {
        "id": "SHQHtptzJhT4",
        "outputId": "066e918c-292e-4983-f857-9b7ca6ebe3b3"
      },
      "outputs": [
        {
          "data": {
            "text/plain": [
              "0"
            ]
          },
          "execution_count": 59,
          "metadata": {},
          "output_type": "execute_result"
        }
      ],
      "source": [
        "#Verificando dados duplicados\n",
        "internet.duplicated().sum()"
      ]
    },
    {
      "cell_type": "markdown",
      "metadata": {
        "id": "1wyjxrIjJhT4"
      },
      "source": [
        "- Ao analisar as informações gerais e a amostra de dados impressa, podemos observar que existe um problema com a coluna `session_date`, que está em formato \"object\". No entanto, essa coluna representa a data das sessões web. Para corrigir esse problema, precisamos converter o tipo de dado da coluna session_date para um formato de data adequado, como o tipo \"datetime\". Dessa forma, poderemos realizar análises mais precisas e explorar os padrões temporais das sessões web."
      ]
    },
    {
      "cell_type": "markdown",
      "metadata": {
        "id": "UzR8DW6IJhT5"
      },
      "source": [
        "### Corrigir dados"
      ]
    },
    {
      "cell_type": "markdown",
      "metadata": {
        "id": "GPHCSHVpJhT5"
      },
      "source": [
        "Vamos corrigir problemas óbvios com os dados de acordo com as observações iniciais."
      ]
    },
    {
      "cell_type": "code",
      "execution_count": null,
      "metadata": {
        "id": "5dFEPKtjJhT5",
        "outputId": "dfccb1c7-c69d-4e1b-9e6b-f1b2990a234f"
      },
      "outputs": [
        {
          "data": {
            "text/plain": [
              "session_date    datetime64[ns]\n",
              "dtype: object"
            ]
          },
          "execution_count": 60,
          "metadata": {},
          "output_type": "execute_result"
        }
      ],
      "source": [
        "#Corrigir tipo de dado da coluna `session_date`\n",
        "converter_para_datetime(internet,['session_date'])"
      ]
    },
    {
      "cell_type": "markdown",
      "metadata": {
        "id": "YpdOuIn0JhT5"
      },
      "source": [
        "### Enriquecer dados"
      ]
    },
    {
      "cell_type": "markdown",
      "metadata": {
        "id": "mFa-7uFGJhT5"
      },
      "source": [
        "Iremos adicionar fatores aos dados que acreditamos ser úteis."
      ]
    },
    {
      "cell_type": "markdown",
      "metadata": {
        "id": "tOkFASwKJhT6"
      },
      "source": [
        "- Vamos adicionar informações das datas das sessões. Essas informações podem nos ajudar a identificar padrões de uso, comportamento do usuário e sazonalidade nos dados. E agregando dados por usuário. Essas métricas agregadas podem fornecer insights valiosos sobre o comportamento e o padrão de uso de cada usuário."
      ]
    },
    {
      "cell_type": "code",
      "execution_count": null,
      "metadata": {
        "scrolled": true,
        "id": "3Ktix97PJhT6",
        "outputId": "b0b2c43f-cdfa-404b-dbe1-fa456a0247e1"
      },
      "outputs": [
        {
          "data": {
            "text/html": [
              "<div>\n",
              "<style scoped>\n",
              "    .dataframe tbody tr th:only-of-type {\n",
              "        vertical-align: middle;\n",
              "    }\n",
              "\n",
              "    .dataframe tbody tr th {\n",
              "        vertical-align: top;\n",
              "    }\n",
              "\n",
              "    .dataframe thead th {\n",
              "        text-align: right;\n",
              "    }\n",
              "</style>\n",
              "<table border=\"1\" class=\"dataframe\">\n",
              "  <thead>\n",
              "    <tr style=\"text-align: right;\">\n",
              "      <th></th>\n",
              "      <th>id</th>\n",
              "      <th>user_id</th>\n",
              "      <th>session_date</th>\n",
              "      <th>mb_used</th>\n",
              "      <th>session_day_of_week</th>\n",
              "      <th>session_month</th>\n",
              "    </tr>\n",
              "  </thead>\n",
              "  <tbody>\n",
              "    <tr>\n",
              "      <th>0</th>\n",
              "      <td>1000_13</td>\n",
              "      <td>1000</td>\n",
              "      <td>2018-12-29</td>\n",
              "      <td>89.86</td>\n",
              "      <td>5</td>\n",
              "      <td>12</td>\n",
              "    </tr>\n",
              "    <tr>\n",
              "      <th>1</th>\n",
              "      <td>1000_204</td>\n",
              "      <td>1000</td>\n",
              "      <td>2018-12-31</td>\n",
              "      <td>0.00</td>\n",
              "      <td>0</td>\n",
              "      <td>12</td>\n",
              "    </tr>\n",
              "    <tr>\n",
              "      <th>2</th>\n",
              "      <td>1000_379</td>\n",
              "      <td>1000</td>\n",
              "      <td>2018-12-28</td>\n",
              "      <td>660.40</td>\n",
              "      <td>4</td>\n",
              "      <td>12</td>\n",
              "    </tr>\n",
              "    <tr>\n",
              "      <th>3</th>\n",
              "      <td>1000_413</td>\n",
              "      <td>1000</td>\n",
              "      <td>2018-12-26</td>\n",
              "      <td>270.99</td>\n",
              "      <td>2</td>\n",
              "      <td>12</td>\n",
              "    </tr>\n",
              "    <tr>\n",
              "      <th>4</th>\n",
              "      <td>1000_442</td>\n",
              "      <td>1000</td>\n",
              "      <td>2018-12-27</td>\n",
              "      <td>880.22</td>\n",
              "      <td>3</td>\n",
              "      <td>12</td>\n",
              "    </tr>\n",
              "  </tbody>\n",
              "</table>\n",
              "</div>"
            ],
            "text/plain": [
              "         id  user_id session_date  mb_used  session_day_of_week  session_month\n",
              "0   1000_13     1000   2018-12-29    89.86                    5             12\n",
              "1  1000_204     1000   2018-12-31     0.00                    0             12\n",
              "2  1000_379     1000   2018-12-28   660.40                    4             12\n",
              "3  1000_413     1000   2018-12-26   270.99                    2             12\n",
              "4  1000_442     1000   2018-12-27   880.22                    3             12"
            ]
          },
          "execution_count": 61,
          "metadata": {},
          "output_type": "execute_result"
        }
      ],
      "source": [
        "#Informações das datas das sessões\n",
        "internet['session_day_of_week'] = internet['session_date'].dt.day_of_week\n",
        "internet['session_month'] = internet['session_date'].dt.month\n",
        "internet.head()"
      ]
    },
    {
      "cell_type": "code",
      "execution_count": null,
      "metadata": {
        "id": "LkOAzNrAJhT6"
      },
      "outputs": [],
      "source": [
        "#Agregando dados por usuário\n",
        "user_session_stats = internet.groupby('user_id').agg(\n",
        "    total_mb_used=('mb_used', 'sum'),\n",
        "    average_mb_per_session=('mb_used', 'mean'),\n",
        "    total_sessions=('id', 'count')\n",
        ").reset_index()\n"
      ]
    },
    {
      "cell_type": "code",
      "execution_count": null,
      "metadata": {
        "id": "dU2m8-njJhT6",
        "outputId": "0262b7c8-5dd9-406a-d404-1f6da0a16b78"
      },
      "outputs": [
        {
          "data": {
            "text/html": [
              "<div>\n",
              "<style scoped>\n",
              "    .dataframe tbody tr th:only-of-type {\n",
              "        vertical-align: middle;\n",
              "    }\n",
              "\n",
              "    .dataframe tbody tr th {\n",
              "        vertical-align: top;\n",
              "    }\n",
              "\n",
              "    .dataframe thead th {\n",
              "        text-align: right;\n",
              "    }\n",
              "</style>\n",
              "<table border=\"1\" class=\"dataframe\">\n",
              "  <thead>\n",
              "    <tr style=\"text-align: right;\">\n",
              "      <th></th>\n",
              "      <th>id</th>\n",
              "      <th>user_id</th>\n",
              "      <th>session_date</th>\n",
              "      <th>mb_used</th>\n",
              "      <th>session_day_of_week</th>\n",
              "      <th>session_month</th>\n",
              "      <th>total_mb_used</th>\n",
              "      <th>average_mb_per_session</th>\n",
              "      <th>total_sessions</th>\n",
              "    </tr>\n",
              "  </thead>\n",
              "  <tbody>\n",
              "    <tr>\n",
              "      <th>0</th>\n",
              "      <td>1000_13</td>\n",
              "      <td>1000</td>\n",
              "      <td>2018-12-29</td>\n",
              "      <td>89.86</td>\n",
              "      <td>5</td>\n",
              "      <td>12</td>\n",
              "      <td>1901.47</td>\n",
              "      <td>380.294000</td>\n",
              "      <td>5</td>\n",
              "    </tr>\n",
              "    <tr>\n",
              "      <th>1</th>\n",
              "      <td>1000_204</td>\n",
              "      <td>1000</td>\n",
              "      <td>2018-12-31</td>\n",
              "      <td>0.00</td>\n",
              "      <td>0</td>\n",
              "      <td>12</td>\n",
              "      <td>1901.47</td>\n",
              "      <td>380.294000</td>\n",
              "      <td>5</td>\n",
              "    </tr>\n",
              "    <tr>\n",
              "      <th>2</th>\n",
              "      <td>1000_379</td>\n",
              "      <td>1000</td>\n",
              "      <td>2018-12-28</td>\n",
              "      <td>660.40</td>\n",
              "      <td>4</td>\n",
              "      <td>12</td>\n",
              "      <td>1901.47</td>\n",
              "      <td>380.294000</td>\n",
              "      <td>5</td>\n",
              "    </tr>\n",
              "    <tr>\n",
              "      <th>3</th>\n",
              "      <td>1000_413</td>\n",
              "      <td>1000</td>\n",
              "      <td>2018-12-26</td>\n",
              "      <td>270.99</td>\n",
              "      <td>2</td>\n",
              "      <td>12</td>\n",
              "      <td>1901.47</td>\n",
              "      <td>380.294000</td>\n",
              "      <td>5</td>\n",
              "    </tr>\n",
              "    <tr>\n",
              "      <th>4</th>\n",
              "      <td>1000_442</td>\n",
              "      <td>1000</td>\n",
              "      <td>2018-12-27</td>\n",
              "      <td>880.22</td>\n",
              "      <td>3</td>\n",
              "      <td>12</td>\n",
              "      <td>1901.47</td>\n",
              "      <td>380.294000</td>\n",
              "      <td>5</td>\n",
              "    </tr>\n",
              "    <tr>\n",
              "      <th>...</th>\n",
              "      <td>...</td>\n",
              "      <td>...</td>\n",
              "      <td>...</td>\n",
              "      <td>...</td>\n",
              "      <td>...</td>\n",
              "      <td>...</td>\n",
              "      <td>...</td>\n",
              "      <td>...</td>\n",
              "      <td>...</td>\n",
              "    </tr>\n",
              "    <tr>\n",
              "      <th>104820</th>\n",
              "      <td>1499_215</td>\n",
              "      <td>1499</td>\n",
              "      <td>2018-10-20</td>\n",
              "      <td>218.06</td>\n",
              "      <td>5</td>\n",
              "      <td>10</td>\n",
              "      <td>71350.23</td>\n",
              "      <td>324.319227</td>\n",
              "      <td>220</td>\n",
              "    </tr>\n",
              "    <tr>\n",
              "      <th>104821</th>\n",
              "      <td>1499_216</td>\n",
              "      <td>1499</td>\n",
              "      <td>2018-12-30</td>\n",
              "      <td>304.72</td>\n",
              "      <td>6</td>\n",
              "      <td>12</td>\n",
              "      <td>71350.23</td>\n",
              "      <td>324.319227</td>\n",
              "      <td>220</td>\n",
              "    </tr>\n",
              "    <tr>\n",
              "      <th>104822</th>\n",
              "      <td>1499_217</td>\n",
              "      <td>1499</td>\n",
              "      <td>2018-09-22</td>\n",
              "      <td>292.75</td>\n",
              "      <td>5</td>\n",
              "      <td>9</td>\n",
              "      <td>71350.23</td>\n",
              "      <td>324.319227</td>\n",
              "      <td>220</td>\n",
              "    </tr>\n",
              "    <tr>\n",
              "      <th>104823</th>\n",
              "      <td>1499_218</td>\n",
              "      <td>1499</td>\n",
              "      <td>2018-12-07</td>\n",
              "      <td>0.00</td>\n",
              "      <td>4</td>\n",
              "      <td>12</td>\n",
              "      <td>71350.23</td>\n",
              "      <td>324.319227</td>\n",
              "      <td>220</td>\n",
              "    </tr>\n",
              "    <tr>\n",
              "      <th>104824</th>\n",
              "      <td>1499_219</td>\n",
              "      <td>1499</td>\n",
              "      <td>2018-12-24</td>\n",
              "      <td>758.31</td>\n",
              "      <td>0</td>\n",
              "      <td>12</td>\n",
              "      <td>71350.23</td>\n",
              "      <td>324.319227</td>\n",
              "      <td>220</td>\n",
              "    </tr>\n",
              "  </tbody>\n",
              "</table>\n",
              "<p>104825 rows × 9 columns</p>\n",
              "</div>"
            ],
            "text/plain": [
              "              id  user_id session_date  mb_used  session_day_of_week  \\\n",
              "0        1000_13     1000   2018-12-29    89.86                    5   \n",
              "1       1000_204     1000   2018-12-31     0.00                    0   \n",
              "2       1000_379     1000   2018-12-28   660.40                    4   \n",
              "3       1000_413     1000   2018-12-26   270.99                    2   \n",
              "4       1000_442     1000   2018-12-27   880.22                    3   \n",
              "...          ...      ...          ...      ...                  ...   \n",
              "104820  1499_215     1499   2018-10-20   218.06                    5   \n",
              "104821  1499_216     1499   2018-12-30   304.72                    6   \n",
              "104822  1499_217     1499   2018-09-22   292.75                    5   \n",
              "104823  1499_218     1499   2018-12-07     0.00                    4   \n",
              "104824  1499_219     1499   2018-12-24   758.31                    0   \n",
              "\n",
              "        session_month  total_mb_used  average_mb_per_session  total_sessions  \n",
              "0                  12        1901.47              380.294000               5  \n",
              "1                  12        1901.47              380.294000               5  \n",
              "2                  12        1901.47              380.294000               5  \n",
              "3                  12        1901.47              380.294000               5  \n",
              "4                  12        1901.47              380.294000               5  \n",
              "...               ...            ...                     ...             ...  \n",
              "104820             10       71350.23              324.319227             220  \n",
              "104821             12       71350.23              324.319227             220  \n",
              "104822              9       71350.23              324.319227             220  \n",
              "104823             12       71350.23              324.319227             220  \n",
              "104824             12       71350.23              324.319227             220  \n",
              "\n",
              "[104825 rows x 9 columns]"
            ]
          },
          "execution_count": 63,
          "metadata": {},
          "output_type": "execute_result"
        }
      ],
      "source": [
        "enriched_internet = internet.merge(user_session_stats, on='user_id', how='left')\n",
        "enriched_internet"
      ]
    },
    {
      "cell_type": "markdown",
      "metadata": {
        "id": "gE_CeaiLJhT6"
      },
      "source": [
        "- Vamos definir limites para categorizar o uso dos dados de internet: Com base nos dados de uso de internet, podemos estabelecer limites para categorizar o uso em diferentes níveis, como baixo, médio e alto. Essa categorização pode nos ajudar a entender melhor o padrão de consumo dos usuários e identificar aqueles que estão utilizando a internet de forma mais intensa."
      ]
    },
    {
      "cell_type": "code",
      "execution_count": null,
      "metadata": {
        "id": "-XHogIv0JhT7"
      },
      "outputs": [],
      "source": [
        "# Definir os limites para cada categoria\n",
        "limites = {\n",
        "    'Baixo': 100,\n",
        "    'Médio': 500,\n",
        "    'Alto': 1000,\n",
        "    'Muito Alto': np.inf\n",
        "}"
      ]
    },
    {
      "cell_type": "code",
      "execution_count": null,
      "metadata": {
        "id": "Awh5We-rJhT7"
      },
      "outputs": [],
      "source": [
        "# Função para categorizar o volume de dados\n",
        "def categorizar_volume_dados(mb_used):\n",
        "    for categoria, limite in limites.items():\n",
        "        if mb_used <= limite:\n",
        "            return categoria"
      ]
    },
    {
      "cell_type": "code",
      "execution_count": null,
      "metadata": {
        "id": "wAMjFQTcJhT7"
      },
      "outputs": [],
      "source": [
        "# Criar uma nova coluna 'data_usage_category' e aplicar a função de categorização\n",
        "internet['data_usage_category'] = internet['mb_used'].apply(categorizar_volume_dados)"
      ]
    },
    {
      "cell_type": "code",
      "execution_count": null,
      "metadata": {
        "id": "x7KCGr_mJhT7",
        "outputId": "935bb79d-8203-4701-aaa4-a0cb96efe6b1"
      },
      "outputs": [
        {
          "data": {
            "text/html": [
              "<div>\n",
              "<style scoped>\n",
              "    .dataframe tbody tr th:only-of-type {\n",
              "        vertical-align: middle;\n",
              "    }\n",
              "\n",
              "    .dataframe tbody tr th {\n",
              "        vertical-align: top;\n",
              "    }\n",
              "\n",
              "    .dataframe thead th {\n",
              "        text-align: right;\n",
              "    }\n",
              "</style>\n",
              "<table border=\"1\" class=\"dataframe\">\n",
              "  <thead>\n",
              "    <tr style=\"text-align: right;\">\n",
              "      <th></th>\n",
              "      <th>id</th>\n",
              "      <th>user_id</th>\n",
              "      <th>session_date</th>\n",
              "      <th>mb_used</th>\n",
              "      <th>session_day_of_week</th>\n",
              "      <th>session_month</th>\n",
              "      <th>data_usage_category</th>\n",
              "    </tr>\n",
              "  </thead>\n",
              "  <tbody>\n",
              "    <tr>\n",
              "      <th>0</th>\n",
              "      <td>1000_13</td>\n",
              "      <td>1000</td>\n",
              "      <td>2018-12-29</td>\n",
              "      <td>89.86</td>\n",
              "      <td>5</td>\n",
              "      <td>12</td>\n",
              "      <td>Baixo</td>\n",
              "    </tr>\n",
              "    <tr>\n",
              "      <th>1</th>\n",
              "      <td>1000_204</td>\n",
              "      <td>1000</td>\n",
              "      <td>2018-12-31</td>\n",
              "      <td>0.00</td>\n",
              "      <td>0</td>\n",
              "      <td>12</td>\n",
              "      <td>Baixo</td>\n",
              "    </tr>\n",
              "    <tr>\n",
              "      <th>2</th>\n",
              "      <td>1000_379</td>\n",
              "      <td>1000</td>\n",
              "      <td>2018-12-28</td>\n",
              "      <td>660.40</td>\n",
              "      <td>4</td>\n",
              "      <td>12</td>\n",
              "      <td>Alto</td>\n",
              "    </tr>\n",
              "    <tr>\n",
              "      <th>3</th>\n",
              "      <td>1000_413</td>\n",
              "      <td>1000</td>\n",
              "      <td>2018-12-26</td>\n",
              "      <td>270.99</td>\n",
              "      <td>2</td>\n",
              "      <td>12</td>\n",
              "      <td>Médio</td>\n",
              "    </tr>\n",
              "    <tr>\n",
              "      <th>4</th>\n",
              "      <td>1000_442</td>\n",
              "      <td>1000</td>\n",
              "      <td>2018-12-27</td>\n",
              "      <td>880.22</td>\n",
              "      <td>3</td>\n",
              "      <td>12</td>\n",
              "      <td>Alto</td>\n",
              "    </tr>\n",
              "  </tbody>\n",
              "</table>\n",
              "</div>"
            ],
            "text/plain": [
              "         id  user_id session_date  mb_used  session_day_of_week  \\\n",
              "0   1000_13     1000   2018-12-29    89.86                    5   \n",
              "1  1000_204     1000   2018-12-31     0.00                    0   \n",
              "2  1000_379     1000   2018-12-28   660.40                    4   \n",
              "3  1000_413     1000   2018-12-26   270.99                    2   \n",
              "4  1000_442     1000   2018-12-27   880.22                    3   \n",
              "\n",
              "   session_month data_usage_category  \n",
              "0             12               Baixo  \n",
              "1             12               Baixo  \n",
              "2             12                Alto  \n",
              "3             12               Médio  \n",
              "4             12                Alto  "
            ]
          },
          "execution_count": 67,
          "metadata": {},
          "output_type": "execute_result"
        }
      ],
      "source": [
        "#Verificando dataframe com nova coluna\n",
        "internet.head()"
      ]
    },
    {
      "cell_type": "markdown",
      "metadata": {
        "id": "wDDpeCNsJhT8"
      },
      "source": [
        "## Condições do plano"
      ]
    },
    {
      "cell_type": "markdown",
      "metadata": {
        "id": "VEFBq7OGJhT8"
      },
      "source": [
        "É fundamental compreender como os planos funcionam, como os usuários são cobrados com base na assinatura do plano. Assim, sugerimos imprimir as informações do plano para visualizar novamente suas condições."
      ]
    },
    {
      "cell_type": "code",
      "execution_count": null,
      "metadata": {
        "id": "x2YCby9bJhT9",
        "outputId": "9586751b-4134-4e74-f2ec-0125547ff1f5"
      },
      "outputs": [
        {
          "name": "stdout",
          "output_type": "stream",
          "text": [
            "Informações dos Planos:\n"
          ]
        },
        {
          "data": {
            "text/html": [
              "<div>\n",
              "<style scoped>\n",
              "    .dataframe tbody tr th:only-of-type {\n",
              "        vertical-align: middle;\n",
              "    }\n",
              "\n",
              "    .dataframe tbody tr th {\n",
              "        vertical-align: top;\n",
              "    }\n",
              "\n",
              "    .dataframe thead th {\n",
              "        text-align: right;\n",
              "    }\n",
              "</style>\n",
              "<table border=\"1\" class=\"dataframe\">\n",
              "  <thead>\n",
              "    <tr style=\"text-align: right;\">\n",
              "      <th></th>\n",
              "      <th>messages_included</th>\n",
              "      <th>mb_per_month_included</th>\n",
              "      <th>minutes_included</th>\n",
              "      <th>usd_monthly_pay</th>\n",
              "      <th>usd_per_gb</th>\n",
              "      <th>usd_per_message</th>\n",
              "      <th>usd_per_minute</th>\n",
              "      <th>plan_name</th>\n",
              "    </tr>\n",
              "  </thead>\n",
              "  <tbody>\n",
              "    <tr>\n",
              "      <th>0</th>\n",
              "      <td>50</td>\n",
              "      <td>15360</td>\n",
              "      <td>500</td>\n",
              "      <td>20</td>\n",
              "      <td>10</td>\n",
              "      <td>0.03</td>\n",
              "      <td>0.03</td>\n",
              "      <td>surf</td>\n",
              "    </tr>\n",
              "    <tr>\n",
              "      <th>1</th>\n",
              "      <td>1000</td>\n",
              "      <td>30720</td>\n",
              "      <td>3000</td>\n",
              "      <td>70</td>\n",
              "      <td>7</td>\n",
              "      <td>0.01</td>\n",
              "      <td>0.01</td>\n",
              "      <td>ultimate</td>\n",
              "    </tr>\n",
              "  </tbody>\n",
              "</table>\n",
              "</div>"
            ],
            "text/plain": [
              "   messages_included  mb_per_month_included  minutes_included  \\\n",
              "0                 50                  15360               500   \n",
              "1               1000                  30720              3000   \n",
              "\n",
              "   usd_monthly_pay  usd_per_gb  usd_per_message  usd_per_minute plan_name  \n",
              "0               20          10             0.03            0.03      surf  \n",
              "1               70           7             0.01            0.01  ultimate  "
            ]
          },
          "execution_count": 68,
          "metadata": {},
          "output_type": "execute_result"
        }
      ],
      "source": [
        "# Imprime as condições do plano e certifique-se de que estão claras para você\n",
        "print(\"Informações dos Planos:\")\n",
        "plans.head()"
      ]
    },
    {
      "cell_type": "markdown",
      "metadata": {
        "id": "BKXK44dyJhT-"
      },
      "source": [
        "## Dados agregados por usuário\n",
        "\n",
        "Como os dados estão limpos, vamos agregar os dados por usuário por período para ter apenas um registro por usuário por período."
      ]
    },
    {
      "cell_type": "markdown",
      "metadata": {
        "id": "NGpa6I-AJhT-"
      },
      "source": [
        "- Vamos realizar as seguintes modificações:\n",
        "    - Renomear a coluna `id` para `count_calls` para tornar mais claro o que ela representa.\n",
        "    - No agrupamento, já estamos contabilizando a quantidade de minutos por usuário na coluna duration.\n",
        "    \n",
        "    \n",
        "Isso nos permitirá ter uma melhor compreensão dos dados e facilitará futuras análises."
      ]
    },
    {
      "cell_type": "code",
      "execution_count": null,
      "metadata": {
        "id": "eFCMKAYTJhT-",
        "outputId": "32c1f93c-2c77-4096-cf87-26d92fa72b5e"
      },
      "outputs": [
        {
          "data": {
            "text/html": [
              "<div>\n",
              "<style scoped>\n",
              "    .dataframe tbody tr th:only-of-type {\n",
              "        vertical-align: middle;\n",
              "    }\n",
              "\n",
              "    .dataframe tbody tr th {\n",
              "        vertical-align: top;\n",
              "    }\n",
              "\n",
              "    .dataframe thead th {\n",
              "        text-align: right;\n",
              "    }\n",
              "</style>\n",
              "<table border=\"1\" class=\"dataframe\">\n",
              "  <thead>\n",
              "    <tr style=\"text-align: right;\">\n",
              "      <th></th>\n",
              "      <th>user_id</th>\n",
              "      <th>month</th>\n",
              "      <th>duration</th>\n",
              "      <th>count_calls</th>\n",
              "    </tr>\n",
              "  </thead>\n",
              "  <tbody>\n",
              "    <tr>\n",
              "      <th>0</th>\n",
              "      <td>1000</td>\n",
              "      <td>12</td>\n",
              "      <td>116.83</td>\n",
              "      <td>16</td>\n",
              "    </tr>\n",
              "    <tr>\n",
              "      <th>1</th>\n",
              "      <td>1001</td>\n",
              "      <td>8</td>\n",
              "      <td>171.14</td>\n",
              "      <td>27</td>\n",
              "    </tr>\n",
              "    <tr>\n",
              "      <th>2</th>\n",
              "      <td>1001</td>\n",
              "      <td>9</td>\n",
              "      <td>297.69</td>\n",
              "      <td>49</td>\n",
              "    </tr>\n",
              "    <tr>\n",
              "      <th>3</th>\n",
              "      <td>1001</td>\n",
              "      <td>10</td>\n",
              "      <td>374.11</td>\n",
              "      <td>65</td>\n",
              "    </tr>\n",
              "    <tr>\n",
              "      <th>4</th>\n",
              "      <td>1001</td>\n",
              "      <td>11</td>\n",
              "      <td>404.59</td>\n",
              "      <td>64</td>\n",
              "    </tr>\n",
              "    <tr>\n",
              "      <th>...</th>\n",
              "      <td>...</td>\n",
              "      <td>...</td>\n",
              "      <td>...</td>\n",
              "      <td>...</td>\n",
              "    </tr>\n",
              "    <tr>\n",
              "      <th>2253</th>\n",
              "      <td>1498</td>\n",
              "      <td>12</td>\n",
              "      <td>324.77</td>\n",
              "      <td>39</td>\n",
              "    </tr>\n",
              "    <tr>\n",
              "      <th>2254</th>\n",
              "      <td>1499</td>\n",
              "      <td>9</td>\n",
              "      <td>330.37</td>\n",
              "      <td>41</td>\n",
              "    </tr>\n",
              "    <tr>\n",
              "      <th>2255</th>\n",
              "      <td>1499</td>\n",
              "      <td>10</td>\n",
              "      <td>363.28</td>\n",
              "      <td>53</td>\n",
              "    </tr>\n",
              "    <tr>\n",
              "      <th>2256</th>\n",
              "      <td>1499</td>\n",
              "      <td>11</td>\n",
              "      <td>288.56</td>\n",
              "      <td>45</td>\n",
              "    </tr>\n",
              "    <tr>\n",
              "      <th>2257</th>\n",
              "      <td>1499</td>\n",
              "      <td>12</td>\n",
              "      <td>468.10</td>\n",
              "      <td>65</td>\n",
              "    </tr>\n",
              "  </tbody>\n",
              "</table>\n",
              "<p>2258 rows × 4 columns</p>\n",
              "</div>"
            ],
            "text/plain": [
              "      user_id  month  duration  count_calls\n",
              "0        1000     12    116.83           16\n",
              "1        1001      8    171.14           27\n",
              "2        1001      9    297.69           49\n",
              "3        1001     10    374.11           65\n",
              "4        1001     11    404.59           64\n",
              "...       ...    ...       ...          ...\n",
              "2253     1498     12    324.77           39\n",
              "2254     1499      9    330.37           41\n",
              "2255     1499     10    363.28           53\n",
              "2256     1499     11    288.56           45\n",
              "2257     1499     12    468.10           65\n",
              "\n",
              "[2258 rows x 4 columns]"
            ]
          },
          "execution_count": 69,
          "metadata": {},
          "output_type": "execute_result"
        }
      ],
      "source": [
        "# Calcule o número de chamadas feitas por cada usuário por mês. Salve o resultado.\n",
        "calls['month'] = calls['call_date'].dt.month\n",
        "calls_agg = calls.groupby(['user_id', 'month']).agg({'duration':'sum','id':'count'}).reset_index()\n",
        "calls_agg.rename(columns={'id':'count_calls'}, inplace=True)\n",
        "calls_agg"
      ]
    },
    {
      "cell_type": "code",
      "execution_count": null,
      "metadata": {
        "id": "Xu2N2HHlJhT-"
      },
      "outputs": [],
      "source": [
        "# O Cálculo da quantidade de minutos gastos por cada usuário por mês foi feito acima."
      ]
    },
    {
      "cell_type": "code",
      "execution_count": null,
      "metadata": {
        "id": "5kOhDRgIJhT_",
        "outputId": "7232e4e4-f023-4e47-bfa2-70ed08015cd4"
      },
      "outputs": [
        {
          "data": {
            "text/html": [
              "<div>\n",
              "<style scoped>\n",
              "    .dataframe tbody tr th:only-of-type {\n",
              "        vertical-align: middle;\n",
              "    }\n",
              "\n",
              "    .dataframe tbody tr th {\n",
              "        vertical-align: top;\n",
              "    }\n",
              "\n",
              "    .dataframe thead th {\n",
              "        text-align: right;\n",
              "    }\n",
              "</style>\n",
              "<table border=\"1\" class=\"dataframe\">\n",
              "  <thead>\n",
              "    <tr style=\"text-align: right;\">\n",
              "      <th></th>\n",
              "      <th>user_id</th>\n",
              "      <th>month</th>\n",
              "      <th>count_messages</th>\n",
              "    </tr>\n",
              "  </thead>\n",
              "  <tbody>\n",
              "    <tr>\n",
              "      <th>0</th>\n",
              "      <td>1000</td>\n",
              "      <td>12</td>\n",
              "      <td>11</td>\n",
              "    </tr>\n",
              "    <tr>\n",
              "      <th>1</th>\n",
              "      <td>1001</td>\n",
              "      <td>8</td>\n",
              "      <td>30</td>\n",
              "    </tr>\n",
              "    <tr>\n",
              "      <th>2</th>\n",
              "      <td>1001</td>\n",
              "      <td>9</td>\n",
              "      <td>44</td>\n",
              "    </tr>\n",
              "    <tr>\n",
              "      <th>3</th>\n",
              "      <td>1001</td>\n",
              "      <td>10</td>\n",
              "      <td>53</td>\n",
              "    </tr>\n",
              "    <tr>\n",
              "      <th>4</th>\n",
              "      <td>1001</td>\n",
              "      <td>11</td>\n",
              "      <td>36</td>\n",
              "    </tr>\n",
              "    <tr>\n",
              "      <th>...</th>\n",
              "      <td>...</td>\n",
              "      <td>...</td>\n",
              "      <td>...</td>\n",
              "    </tr>\n",
              "    <tr>\n",
              "      <th>1801</th>\n",
              "      <td>1496</td>\n",
              "      <td>9</td>\n",
              "      <td>21</td>\n",
              "    </tr>\n",
              "    <tr>\n",
              "      <th>1802</th>\n",
              "      <td>1496</td>\n",
              "      <td>10</td>\n",
              "      <td>18</td>\n",
              "    </tr>\n",
              "    <tr>\n",
              "      <th>1803</th>\n",
              "      <td>1496</td>\n",
              "      <td>11</td>\n",
              "      <td>13</td>\n",
              "    </tr>\n",
              "    <tr>\n",
              "      <th>1804</th>\n",
              "      <td>1496</td>\n",
              "      <td>12</td>\n",
              "      <td>11</td>\n",
              "    </tr>\n",
              "    <tr>\n",
              "      <th>1805</th>\n",
              "      <td>1497</td>\n",
              "      <td>12</td>\n",
              "      <td>50</td>\n",
              "    </tr>\n",
              "  </tbody>\n",
              "</table>\n",
              "<p>1806 rows × 3 columns</p>\n",
              "</div>"
            ],
            "text/plain": [
              "      user_id  month  count_messages\n",
              "0        1000     12              11\n",
              "1        1001      8              30\n",
              "2        1001      9              44\n",
              "3        1001     10              53\n",
              "4        1001     11              36\n",
              "...       ...    ...             ...\n",
              "1801     1496      9              21\n",
              "1802     1496     10              18\n",
              "1803     1496     11              13\n",
              "1804     1496     12              11\n",
              "1805     1497     12              50\n",
              "\n",
              "[1806 rows x 3 columns]"
            ]
          },
          "execution_count": 71,
          "metadata": {},
          "output_type": "execute_result"
        }
      ],
      "source": [
        "# Calcule o número de mensagens enviadas por cada usuário por mês. Salve o resultado.\n",
        "messages['month'] = messages['message_date'].dt.month\n",
        "messages_agg = messages.groupby(['user_id', 'month']).agg({'id':'count'}).reset_index()\n",
        "messages_agg.rename(columns={'id':'count_messages'}, inplace=True)\n",
        "messages_agg\n"
      ]
    },
    {
      "cell_type": "code",
      "execution_count": null,
      "metadata": {
        "id": "bS3i3FRyJhUA",
        "outputId": "ee9a7500-3c50-4141-a470-38f4bfc743e8"
      },
      "outputs": [
        {
          "data": {
            "text/html": [
              "<div>\n",
              "<style scoped>\n",
              "    .dataframe tbody tr th:only-of-type {\n",
              "        vertical-align: middle;\n",
              "    }\n",
              "\n",
              "    .dataframe tbody tr th {\n",
              "        vertical-align: top;\n",
              "    }\n",
              "\n",
              "    .dataframe thead th {\n",
              "        text-align: right;\n",
              "    }\n",
              "</style>\n",
              "<table border=\"1\" class=\"dataframe\">\n",
              "  <thead>\n",
              "    <tr style=\"text-align: right;\">\n",
              "      <th></th>\n",
              "      <th>user_id</th>\n",
              "      <th>month</th>\n",
              "      <th>mb_used</th>\n",
              "    </tr>\n",
              "  </thead>\n",
              "  <tbody>\n",
              "    <tr>\n",
              "      <th>0</th>\n",
              "      <td>1000</td>\n",
              "      <td>12</td>\n",
              "      <td>1901.47</td>\n",
              "    </tr>\n",
              "    <tr>\n",
              "      <th>1</th>\n",
              "      <td>1001</td>\n",
              "      <td>8</td>\n",
              "      <td>6919.15</td>\n",
              "    </tr>\n",
              "    <tr>\n",
              "      <th>2</th>\n",
              "      <td>1001</td>\n",
              "      <td>9</td>\n",
              "      <td>13314.82</td>\n",
              "    </tr>\n",
              "    <tr>\n",
              "      <th>3</th>\n",
              "      <td>1001</td>\n",
              "      <td>10</td>\n",
              "      <td>22330.49</td>\n",
              "    </tr>\n",
              "    <tr>\n",
              "      <th>4</th>\n",
              "      <td>1001</td>\n",
              "      <td>11</td>\n",
              "      <td>18504.30</td>\n",
              "    </tr>\n",
              "    <tr>\n",
              "      <th>...</th>\n",
              "      <td>...</td>\n",
              "      <td>...</td>\n",
              "      <td>...</td>\n",
              "    </tr>\n",
              "    <tr>\n",
              "      <th>2272</th>\n",
              "      <td>1498</td>\n",
              "      <td>12</td>\n",
              "      <td>23137.69</td>\n",
              "    </tr>\n",
              "    <tr>\n",
              "      <th>2273</th>\n",
              "      <td>1499</td>\n",
              "      <td>9</td>\n",
              "      <td>12984.76</td>\n",
              "    </tr>\n",
              "    <tr>\n",
              "      <th>2274</th>\n",
              "      <td>1499</td>\n",
              "      <td>10</td>\n",
              "      <td>19492.43</td>\n",
              "    </tr>\n",
              "    <tr>\n",
              "      <th>2275</th>\n",
              "      <td>1499</td>\n",
              "      <td>11</td>\n",
              "      <td>16813.83</td>\n",
              "    </tr>\n",
              "    <tr>\n",
              "      <th>2276</th>\n",
              "      <td>1499</td>\n",
              "      <td>12</td>\n",
              "      <td>22059.21</td>\n",
              "    </tr>\n",
              "  </tbody>\n",
              "</table>\n",
              "<p>2277 rows × 3 columns</p>\n",
              "</div>"
            ],
            "text/plain": [
              "      user_id  month   mb_used\n",
              "0        1000     12   1901.47\n",
              "1        1001      8   6919.15\n",
              "2        1001      9  13314.82\n",
              "3        1001     10  22330.49\n",
              "4        1001     11  18504.30\n",
              "...       ...    ...       ...\n",
              "2272     1498     12  23137.69\n",
              "2273     1499      9  12984.76\n",
              "2274     1499     10  19492.43\n",
              "2275     1499     11  16813.83\n",
              "2276     1499     12  22059.21\n",
              "\n",
              "[2277 rows x 3 columns]"
            ]
          },
          "execution_count": 72,
          "metadata": {},
          "output_type": "execute_result"
        }
      ],
      "source": [
        "# Calcule o volume de tráfego de internet usado por cada usuário por mês. Salve o resultado.\n",
        "internet['month'] = internet['session_date'].dt.month\n",
        "internet_agg = internet.groupby(['user_id', 'month']).agg({'mb_used':'sum'}).reset_index()\n",
        "internet_agg"
      ]
    },
    {
      "cell_type": "markdown",
      "metadata": {
        "id": "YPvGyNX3JhUA"
      },
      "source": [
        "Vamos colocar os dados agregados em um Dataframe para que um registro represente o que um usuário único consumiu em um determinado mês."
      ]
    },
    {
      "cell_type": "code",
      "execution_count": null,
      "metadata": {
        "id": "x5I_ZxmgJhUB"
      },
      "outputs": [],
      "source": [
        "# Junte os dados de chamadas, minutos, mensagens, internet com base em user_id e mês\n",
        "user_usage = calls_agg.merge(messages_agg, on=['user_id', 'month'], how='outer')\n",
        "user_usage = user_usage.merge(internet_agg, on=['user_id', 'month'], how='outer')\n",
        "user_usage = user_usage.merge(users, on=['user_id'], how='outer')"
      ]
    },
    {
      "cell_type": "code",
      "execution_count": null,
      "metadata": {
        "id": "-cIWgXdeJhUB",
        "outputId": "abe70fce-a6c4-4dff-fe97-56fab0b82b0c"
      },
      "outputs": [
        {
          "data": {
            "text/html": [
              "<div>\n",
              "<style scoped>\n",
              "    .dataframe tbody tr th:only-of-type {\n",
              "        vertical-align: middle;\n",
              "    }\n",
              "\n",
              "    .dataframe tbody tr th {\n",
              "        vertical-align: top;\n",
              "    }\n",
              "\n",
              "    .dataframe thead th {\n",
              "        text-align: right;\n",
              "    }\n",
              "</style>\n",
              "<table border=\"1\" class=\"dataframe\">\n",
              "  <thead>\n",
              "    <tr style=\"text-align: right;\">\n",
              "      <th></th>\n",
              "      <th>user_id</th>\n",
              "      <th>month</th>\n",
              "      <th>duration</th>\n",
              "      <th>count_calls</th>\n",
              "      <th>count_messages</th>\n",
              "      <th>mb_used</th>\n",
              "      <th>first_name</th>\n",
              "      <th>last_name</th>\n",
              "      <th>age</th>\n",
              "      <th>city</th>\n",
              "      <th>reg_date</th>\n",
              "      <th>plan</th>\n",
              "      <th>churn_date</th>\n",
              "      <th>churn</th>\n",
              "      <th>faixa_etaria</th>\n",
              "    </tr>\n",
              "  </thead>\n",
              "  <tbody>\n",
              "    <tr>\n",
              "      <th>0</th>\n",
              "      <td>1000</td>\n",
              "      <td>12.0</td>\n",
              "      <td>116.83</td>\n",
              "      <td>16.0</td>\n",
              "      <td>11.0</td>\n",
              "      <td>1901.47</td>\n",
              "      <td>Anamaria</td>\n",
              "      <td>Bauer</td>\n",
              "      <td>45</td>\n",
              "      <td>Atlanta-Sandy Springs-Roswell, GA MSA</td>\n",
              "      <td>2018-12-24</td>\n",
              "      <td>ultimate</td>\n",
              "      <td>NaT</td>\n",
              "      <td>False</td>\n",
              "      <td>Adulto</td>\n",
              "    </tr>\n",
              "    <tr>\n",
              "      <th>1</th>\n",
              "      <td>1001</td>\n",
              "      <td>8.0</td>\n",
              "      <td>171.14</td>\n",
              "      <td>27.0</td>\n",
              "      <td>30.0</td>\n",
              "      <td>6919.15</td>\n",
              "      <td>Mickey</td>\n",
              "      <td>Wilkerson</td>\n",
              "      <td>28</td>\n",
              "      <td>Seattle-Tacoma-Bellevue, WA MSA</td>\n",
              "      <td>2018-08-13</td>\n",
              "      <td>surf</td>\n",
              "      <td>NaT</td>\n",
              "      <td>False</td>\n",
              "      <td>Adulto</td>\n",
              "    </tr>\n",
              "    <tr>\n",
              "      <th>2</th>\n",
              "      <td>1001</td>\n",
              "      <td>9.0</td>\n",
              "      <td>297.69</td>\n",
              "      <td>49.0</td>\n",
              "      <td>44.0</td>\n",
              "      <td>13314.82</td>\n",
              "      <td>Mickey</td>\n",
              "      <td>Wilkerson</td>\n",
              "      <td>28</td>\n",
              "      <td>Seattle-Tacoma-Bellevue, WA MSA</td>\n",
              "      <td>2018-08-13</td>\n",
              "      <td>surf</td>\n",
              "      <td>NaT</td>\n",
              "      <td>False</td>\n",
              "      <td>Adulto</td>\n",
              "    </tr>\n",
              "    <tr>\n",
              "      <th>3</th>\n",
              "      <td>1001</td>\n",
              "      <td>10.0</td>\n",
              "      <td>374.11</td>\n",
              "      <td>65.0</td>\n",
              "      <td>53.0</td>\n",
              "      <td>22330.49</td>\n",
              "      <td>Mickey</td>\n",
              "      <td>Wilkerson</td>\n",
              "      <td>28</td>\n",
              "      <td>Seattle-Tacoma-Bellevue, WA MSA</td>\n",
              "      <td>2018-08-13</td>\n",
              "      <td>surf</td>\n",
              "      <td>NaT</td>\n",
              "      <td>False</td>\n",
              "      <td>Adulto</td>\n",
              "    </tr>\n",
              "    <tr>\n",
              "      <th>4</th>\n",
              "      <td>1001</td>\n",
              "      <td>11.0</td>\n",
              "      <td>404.59</td>\n",
              "      <td>64.0</td>\n",
              "      <td>36.0</td>\n",
              "      <td>18504.30</td>\n",
              "      <td>Mickey</td>\n",
              "      <td>Wilkerson</td>\n",
              "      <td>28</td>\n",
              "      <td>Seattle-Tacoma-Bellevue, WA MSA</td>\n",
              "      <td>2018-08-13</td>\n",
              "      <td>surf</td>\n",
              "      <td>NaT</td>\n",
              "      <td>False</td>\n",
              "      <td>Adulto</td>\n",
              "    </tr>\n",
              "  </tbody>\n",
              "</table>\n",
              "</div>"
            ],
            "text/plain": [
              "   user_id  month  duration  count_calls  count_messages   mb_used first_name  \\\n",
              "0     1000   12.0    116.83         16.0            11.0   1901.47   Anamaria   \n",
              "1     1001    8.0    171.14         27.0            30.0   6919.15     Mickey   \n",
              "2     1001    9.0    297.69         49.0            44.0  13314.82     Mickey   \n",
              "3     1001   10.0    374.11         65.0            53.0  22330.49     Mickey   \n",
              "4     1001   11.0    404.59         64.0            36.0  18504.30     Mickey   \n",
              "\n",
              "   last_name  age                                   city   reg_date      plan  \\\n",
              "0      Bauer   45  Atlanta-Sandy Springs-Roswell, GA MSA 2018-12-24  ultimate   \n",
              "1  Wilkerson   28        Seattle-Tacoma-Bellevue, WA MSA 2018-08-13      surf   \n",
              "2  Wilkerson   28        Seattle-Tacoma-Bellevue, WA MSA 2018-08-13      surf   \n",
              "3  Wilkerson   28        Seattle-Tacoma-Bellevue, WA MSA 2018-08-13      surf   \n",
              "4  Wilkerson   28        Seattle-Tacoma-Bellevue, WA MSA 2018-08-13      surf   \n",
              "\n",
              "  churn_date  churn faixa_etaria  \n",
              "0        NaT  False       Adulto  \n",
              "1        NaT  False       Adulto  \n",
              "2        NaT  False       Adulto  \n",
              "3        NaT  False       Adulto  \n",
              "4        NaT  False       Adulto  "
            ]
          },
          "execution_count": 74,
          "metadata": {},
          "output_type": "execute_result"
        }
      ],
      "source": [
        "#Verificando novo dataframe\n",
        "user_usage.head()"
      ]
    },
    {
      "cell_type": "code",
      "execution_count": null,
      "metadata": {
        "id": "gPMxYysIJhUC",
        "outputId": "1a380c22-bee9-4fee-87ef-8e0048710e53"
      },
      "outputs": [
        {
          "data": {
            "text/plain": [
              "user_id              0\n",
              "month               10\n",
              "duration            45\n",
              "count_calls         45\n",
              "count_messages     497\n",
              "mb_used             26\n",
              "first_name           0\n",
              "last_name            0\n",
              "age                  0\n",
              "city                 0\n",
              "reg_date             0\n",
              "plan                 0\n",
              "churn_date        2143\n",
              "churn                0\n",
              "faixa_etaria         0\n",
              "dtype: int64"
            ]
          },
          "execution_count": 75,
          "metadata": {},
          "output_type": "execute_result"
        }
      ],
      "source": [
        "#Verificando ausentes\n",
        "user_usage.isna().sum()"
      ]
    },
    {
      "cell_type": "markdown",
      "metadata": {
        "id": "rqSZ1hCjJhUC"
      },
      "source": [
        "- Os valores ausentes nas colunas mencionadas podem indicar a ausência de registros correspondentes para determinados usuários em um determinado mês. Isso sugere que esses usuários não realizaram chamadas, enviaram mensagens ou usaram dados durante esse período específico. Além disso, os valores ausentes podem indicar que alguns registros presentes no DataFrame ***user_usage*** não possuem correspondência nos DataFrames de chamadas, internet ou mensagens. Isso pode ocorrer quando há usuários ou meses presentes no DataFrame ***user_usage*** que não possuem dados correspondentes nas outras fontes de dados.\n",
        "\n",
        "- Uma abordagem para tratar esses valores ausentes é preenchê-los com o valor zero, assumindo que a ausência indica a falta de registros correspondentes. Preencher com zero indica que não houve nenhuma atividade registrada para chamadas, mensagens ou uso de dados, o que é uma representação válida dessa ausência. Ao preencher os valores ausentes com zero, estamos criando consistência nos dados. Isso facilita a análise e o processamento posterior, pois todos os registros terão valores numéricos válidos, permitindo que realizemos cálculos e manipulações com mais facilidade."
      ]
    },
    {
      "cell_type": "code",
      "execution_count": null,
      "metadata": {
        "id": "YYQXpTWFJhUC"
      },
      "outputs": [],
      "source": [
        "#Corrigindo os ausentes\n",
        "user_usage.fillna(0, inplace=True)"
      ]
    },
    {
      "cell_type": "code",
      "execution_count": null,
      "metadata": {
        "id": "TpbGACbwJhUD",
        "outputId": "5b847703-fe60-4f2f-8320-ae1619597279"
      },
      "outputs": [
        {
          "data": {
            "text/plain": [
              "user_id           0\n",
              "month             0\n",
              "duration          0\n",
              "count_calls       0\n",
              "count_messages    0\n",
              "mb_used           0\n",
              "first_name        0\n",
              "last_name         0\n",
              "age               0\n",
              "city              0\n",
              "reg_date          0\n",
              "plan              0\n",
              "churn_date        0\n",
              "churn             0\n",
              "faixa_etaria      0\n",
              "dtype: int64"
            ]
          },
          "execution_count": 77,
          "metadata": {},
          "output_type": "execute_result"
        }
      ],
      "source": [
        "#Verificando a correção\n",
        "user_usage.isna().sum()"
      ]
    },
    {
      "cell_type": "code",
      "execution_count": null,
      "metadata": {
        "id": "KqANv_I8JhUD",
        "outputId": "58960845-e61c-4b8c-d726-f5957a6d734d"
      },
      "outputs": [
        {
          "data": {
            "text/plain": [
              "0"
            ]
          },
          "execution_count": 78,
          "metadata": {},
          "output_type": "execute_result"
        }
      ],
      "source": [
        "#Verificando duplicados\n",
        "user_usage.duplicated().sum()"
      ]
    },
    {
      "cell_type": "markdown",
      "metadata": {
        "id": "5RK_YCAiJhUD"
      },
      "source": [
        "- Para adicionar as informações do plano ao DataFrame user_usage, podemos realizar um merge entre o DataFrame ***user_usage*** e o DataFrame ***plans***, com base na coluna `plan_name` em ambos os DataFrames. Isso irá adicionar as informações do plano correspondente a cada usuário.\n",
        "\n",
        "- Antes de fazer o merge, vamos renomear a coluna `plan` no DataFrame ***user_usage*** para `plan_name`, para garantir que os dados coincidam corretamente durante a operação de merge. Isso nos permitirá combinar as informações do plano com os dados de uso do usuário de forma adequada."
      ]
    },
    {
      "cell_type": "code",
      "execution_count": null,
      "metadata": {
        "scrolled": true,
        "id": "K0OFghBgJhUD",
        "outputId": "178a1f27-f9a9-4957-d684-78f2badf8312"
      },
      "outputs": [
        {
          "data": {
            "text/plain": [
              "Index(['user_id', 'month', 'duration', 'count_calls', 'count_messages',\n",
              "       'mb_used', 'first_name', 'last_name', 'age', 'city', 'reg_date', 'plan',\n",
              "       'churn_date', 'churn', 'faixa_etaria'],\n",
              "      dtype='object')"
            ]
          },
          "execution_count": 79,
          "metadata": {},
          "output_type": "execute_result"
        }
      ],
      "source": [
        "user_usage.columns"
      ]
    },
    {
      "cell_type": "code",
      "execution_count": null,
      "metadata": {
        "id": "ini-9XuGJhUE"
      },
      "outputs": [],
      "source": [
        "# Adicione as informações do plano\n",
        "user_usage.rename(columns={'plan':'plan_name'}, inplace=True)\n",
        "\n",
        "user_usage_with_plan = user_usage.merge(plans, on='plan_name', how='outer')"
      ]
    },
    {
      "cell_type": "code",
      "execution_count": null,
      "metadata": {
        "scrolled": true,
        "id": "QkoTFv19JhUE",
        "outputId": "8cf1a60a-3937-4fa7-ad98-15fe2cf01739"
      },
      "outputs": [
        {
          "data": {
            "text/html": [
              "<div>\n",
              "<style scoped>\n",
              "    .dataframe tbody tr th:only-of-type {\n",
              "        vertical-align: middle;\n",
              "    }\n",
              "\n",
              "    .dataframe tbody tr th {\n",
              "        vertical-align: top;\n",
              "    }\n",
              "\n",
              "    .dataframe thead th {\n",
              "        text-align: right;\n",
              "    }\n",
              "</style>\n",
              "<table border=\"1\" class=\"dataframe\">\n",
              "  <thead>\n",
              "    <tr style=\"text-align: right;\">\n",
              "      <th></th>\n",
              "      <th>user_id</th>\n",
              "      <th>month</th>\n",
              "      <th>duration</th>\n",
              "      <th>count_calls</th>\n",
              "      <th>count_messages</th>\n",
              "      <th>mb_used</th>\n",
              "      <th>first_name</th>\n",
              "      <th>last_name</th>\n",
              "      <th>age</th>\n",
              "      <th>city</th>\n",
              "      <th>...</th>\n",
              "      <th>churn_date</th>\n",
              "      <th>churn</th>\n",
              "      <th>faixa_etaria</th>\n",
              "      <th>messages_included</th>\n",
              "      <th>mb_per_month_included</th>\n",
              "      <th>minutes_included</th>\n",
              "      <th>usd_monthly_pay</th>\n",
              "      <th>usd_per_gb</th>\n",
              "      <th>usd_per_message</th>\n",
              "      <th>usd_per_minute</th>\n",
              "    </tr>\n",
              "  </thead>\n",
              "  <tbody>\n",
              "    <tr>\n",
              "      <th>0</th>\n",
              "      <td>1000</td>\n",
              "      <td>12.0</td>\n",
              "      <td>116.83</td>\n",
              "      <td>16.0</td>\n",
              "      <td>11.0</td>\n",
              "      <td>1901.47</td>\n",
              "      <td>Anamaria</td>\n",
              "      <td>Bauer</td>\n",
              "      <td>45</td>\n",
              "      <td>Atlanta-Sandy Springs-Roswell, GA MSA</td>\n",
              "      <td>...</td>\n",
              "      <td>0</td>\n",
              "      <td>False</td>\n",
              "      <td>Adulto</td>\n",
              "      <td>1000</td>\n",
              "      <td>30720</td>\n",
              "      <td>3000</td>\n",
              "      <td>70</td>\n",
              "      <td>7</td>\n",
              "      <td>0.01</td>\n",
              "      <td>0.01</td>\n",
              "    </tr>\n",
              "    <tr>\n",
              "      <th>1</th>\n",
              "      <td>1006</td>\n",
              "      <td>11.0</td>\n",
              "      <td>9.32</td>\n",
              "      <td>2.0</td>\n",
              "      <td>15.0</td>\n",
              "      <td>2068.37</td>\n",
              "      <td>Jesusa</td>\n",
              "      <td>Bradford</td>\n",
              "      <td>73</td>\n",
              "      <td>San Francisco-Oakland-Berkeley, CA MSA</td>\n",
              "      <td>...</td>\n",
              "      <td>2018-12-18 00:00:00</td>\n",
              "      <td>True</td>\n",
              "      <td>Idoso</td>\n",
              "      <td>1000</td>\n",
              "      <td>30720</td>\n",
              "      <td>3000</td>\n",
              "      <td>70</td>\n",
              "      <td>7</td>\n",
              "      <td>0.01</td>\n",
              "      <td>0.01</td>\n",
              "    </tr>\n",
              "    <tr>\n",
              "      <th>2</th>\n",
              "      <td>1006</td>\n",
              "      <td>12.0</td>\n",
              "      <td>54.79</td>\n",
              "      <td>9.0</td>\n",
              "      <td>139.0</td>\n",
              "      <td>32118.82</td>\n",
              "      <td>Jesusa</td>\n",
              "      <td>Bradford</td>\n",
              "      <td>73</td>\n",
              "      <td>San Francisco-Oakland-Berkeley, CA MSA</td>\n",
              "      <td>...</td>\n",
              "      <td>2018-12-18 00:00:00</td>\n",
              "      <td>True</td>\n",
              "      <td>Idoso</td>\n",
              "      <td>1000</td>\n",
              "      <td>30720</td>\n",
              "      <td>3000</td>\n",
              "      <td>70</td>\n",
              "      <td>7</td>\n",
              "      <td>0.01</td>\n",
              "      <td>0.01</td>\n",
              "    </tr>\n",
              "    <tr>\n",
              "      <th>3</th>\n",
              "      <td>1008</td>\n",
              "      <td>10.0</td>\n",
              "      <td>450.21</td>\n",
              "      <td>71.0</td>\n",
              "      <td>21.0</td>\n",
              "      <td>17106.99</td>\n",
              "      <td>Emely</td>\n",
              "      <td>Hoffman</td>\n",
              "      <td>53</td>\n",
              "      <td>Orlando-Kissimmee-Sanford, FL MSA</td>\n",
              "      <td>...</td>\n",
              "      <td>0</td>\n",
              "      <td>False</td>\n",
              "      <td>Adulto</td>\n",
              "      <td>1000</td>\n",
              "      <td>30720</td>\n",
              "      <td>3000</td>\n",
              "      <td>70</td>\n",
              "      <td>7</td>\n",
              "      <td>0.01</td>\n",
              "      <td>0.01</td>\n",
              "    </tr>\n",
              "    <tr>\n",
              "      <th>4</th>\n",
              "      <td>1008</td>\n",
              "      <td>11.0</td>\n",
              "      <td>422.81</td>\n",
              "      <td>63.0</td>\n",
              "      <td>37.0</td>\n",
              "      <td>23676.72</td>\n",
              "      <td>Emely</td>\n",
              "      <td>Hoffman</td>\n",
              "      <td>53</td>\n",
              "      <td>Orlando-Kissimmee-Sanford, FL MSA</td>\n",
              "      <td>...</td>\n",
              "      <td>0</td>\n",
              "      <td>False</td>\n",
              "      <td>Adulto</td>\n",
              "      <td>1000</td>\n",
              "      <td>30720</td>\n",
              "      <td>3000</td>\n",
              "      <td>70</td>\n",
              "      <td>7</td>\n",
              "      <td>0.01</td>\n",
              "      <td>0.01</td>\n",
              "    </tr>\n",
              "  </tbody>\n",
              "</table>\n",
              "<p>5 rows × 22 columns</p>\n",
              "</div>"
            ],
            "text/plain": [
              "   user_id  month  duration  count_calls  count_messages   mb_used first_name  \\\n",
              "0     1000   12.0    116.83         16.0            11.0   1901.47   Anamaria   \n",
              "1     1006   11.0      9.32          2.0            15.0   2068.37     Jesusa   \n",
              "2     1006   12.0     54.79          9.0           139.0  32118.82     Jesusa   \n",
              "3     1008   10.0    450.21         71.0            21.0  17106.99      Emely   \n",
              "4     1008   11.0    422.81         63.0            37.0  23676.72      Emely   \n",
              "\n",
              "  last_name  age                                    city  ...  \\\n",
              "0     Bauer   45   Atlanta-Sandy Springs-Roswell, GA MSA  ...   \n",
              "1  Bradford   73  San Francisco-Oakland-Berkeley, CA MSA  ...   \n",
              "2  Bradford   73  San Francisco-Oakland-Berkeley, CA MSA  ...   \n",
              "3   Hoffman   53       Orlando-Kissimmee-Sanford, FL MSA  ...   \n",
              "4   Hoffman   53       Orlando-Kissimmee-Sanford, FL MSA  ...   \n",
              "\n",
              "            churn_date  churn faixa_etaria  messages_included  \\\n",
              "0                    0  False       Adulto               1000   \n",
              "1  2018-12-18 00:00:00   True        Idoso               1000   \n",
              "2  2018-12-18 00:00:00   True        Idoso               1000   \n",
              "3                    0  False       Adulto               1000   \n",
              "4                    0  False       Adulto               1000   \n",
              "\n",
              "  mb_per_month_included  minutes_included  usd_monthly_pay  usd_per_gb  \\\n",
              "0                 30720              3000               70           7   \n",
              "1                 30720              3000               70           7   \n",
              "2                 30720              3000               70           7   \n",
              "3                 30720              3000               70           7   \n",
              "4                 30720              3000               70           7   \n",
              "\n",
              "   usd_per_message  usd_per_minute  \n",
              "0             0.01            0.01  \n",
              "1             0.01            0.01  \n",
              "2             0.01            0.01  \n",
              "3             0.01            0.01  \n",
              "4             0.01            0.01  \n",
              "\n",
              "[5 rows x 22 columns]"
            ]
          },
          "execution_count": 81,
          "metadata": {},
          "output_type": "execute_result"
        }
      ],
      "source": [
        "user_usage_with_plan.head()"
      ]
    },
    {
      "cell_type": "markdown",
      "metadata": {
        "id": "p6Z07CzrJhUG"
      },
      "source": [
        "- Primeiramente, vamos criar um dicionário chamado plans que contém os detalhes dos dois planos disponíveis: \"surf\" e \"ultimate\". Cada plano possui informações como taxa mensal, limites de minutos, limites de mensagens, limites de dados, taxas por minuto, taxas por mensagem e taxas por dado.\n",
        "- Em seguida, definiremos a função **calculate_monthly_revenue**, que será responsável por calcular a receita mensal com base nas informações do plano e nos dados de uso de cada usuário, que serão passados como uma linha do DataFrame. Dentro da função, obteremos os limites e as taxas correspondentes do plano a partir do dicionário plans, com base no nome do plano fornecido. Podemos então aplicar a função **calculate_monthly_revenue** a cada linha do DataFrame para obter a receita mensal para cada usuário.\n"
      ]
    },
    {
      "cell_type": "code",
      "execution_count": null,
      "metadata": {
        "id": "cdLvVwNzJhUH"
      },
      "outputs": [],
      "source": [
        "# Calcule a receita mensal de cada usuário\n",
        "# Criando dicionário com dados dos planos\n",
        "plans = {\n",
        "    'surf': {\n",
        "        'monthly_fee': 20,\n",
        "        'minutes_limit': 500,\n",
        "        'messages_limit': 50,\n",
        "        'data_limit': 15,\n",
        "        'minute_rate': 0.03,\n",
        "        'message_rate': 0.03,\n",
        "        'data_rate': 10\n",
        "    },\n",
        "    'ultimate': {\n",
        "        'monthly_fee': 70,\n",
        "        'minutes_limit': 3000,\n",
        "        'messages_limit': 1000,\n",
        "        'data_limit': 30,\n",
        "        'minute_rate': 0.01,\n",
        "        'message_rate': 0.01,\n",
        "        'data_rate': 7\n",
        "    }\n",
        "}"
      ]
    },
    {
      "cell_type": "code",
      "execution_count": null,
      "metadata": {
        "id": "Gnb5M6hAJhUI"
      },
      "outputs": [],
      "source": [
        "#Function\n",
        "def calculate_monthly_revenue(row):\n",
        "    plan = row['plan_name']\n",
        "    minutes = math.ceil(row['duration'])\n",
        "    messages = row['count_messages']\n",
        "    data = row['mb_used']\n",
        "    rates = plans[plan]['minute_rate'], plans[plan]['message_rate'], plans[plan]['data_rate']\n",
        "\n",
        "    # Converter MB para GB e arredondar para cima\n",
        "    data_gb = math.ceil(data / 1024)\n",
        "\n",
        "    limit = plans[plan]['minutes_limit'], plans[plan]['messages_limit'], plans[plan]['data_limit']\n",
        "    rate = plans[plan]['minute_rate'], plans[plan]['message_rate'], plans[plan]['data_rate']\n",
        "\n",
        "    over_limit = [max(usage - lim, 0) for usage, lim in zip([minutes, messages, data_gb], limit)]\n",
        "    bill = sum([usage * rate for usage, rate in zip(over_limit, rates)]) + plans[plan]['monthly_fee']\n",
        "\n",
        "\n",
        "    return bill"
      ]
    },
    {
      "cell_type": "code",
      "execution_count": null,
      "metadata": {
        "id": "Tda71Em7JhUJ"
      },
      "outputs": [],
      "source": [
        "#Aplicando a function\n",
        "user_usage_with_plan['monthly_revenue'] = user_usage_with_plan.apply(calculate_monthly_revenue, axis=1)"
      ]
    },
    {
      "cell_type": "code",
      "execution_count": null,
      "metadata": {
        "id": "69tX1fjsJhUJ",
        "outputId": "79f971c7-da77-426a-ae3d-6b51554ef555"
      },
      "outputs": [
        {
          "data": {
            "text/html": [
              "<div>\n",
              "<style scoped>\n",
              "    .dataframe tbody tr th:only-of-type {\n",
              "        vertical-align: middle;\n",
              "    }\n",
              "\n",
              "    .dataframe tbody tr th {\n",
              "        vertical-align: top;\n",
              "    }\n",
              "\n",
              "    .dataframe thead th {\n",
              "        text-align: right;\n",
              "    }\n",
              "</style>\n",
              "<table border=\"1\" class=\"dataframe\">\n",
              "  <thead>\n",
              "    <tr style=\"text-align: right;\">\n",
              "      <th></th>\n",
              "      <th>user_id</th>\n",
              "      <th>month</th>\n",
              "      <th>duration</th>\n",
              "      <th>count_calls</th>\n",
              "      <th>count_messages</th>\n",
              "      <th>mb_used</th>\n",
              "      <th>first_name</th>\n",
              "      <th>last_name</th>\n",
              "      <th>age</th>\n",
              "      <th>city</th>\n",
              "      <th>...</th>\n",
              "      <th>churn</th>\n",
              "      <th>faixa_etaria</th>\n",
              "      <th>messages_included</th>\n",
              "      <th>mb_per_month_included</th>\n",
              "      <th>minutes_included</th>\n",
              "      <th>usd_monthly_pay</th>\n",
              "      <th>usd_per_gb</th>\n",
              "      <th>usd_per_message</th>\n",
              "      <th>usd_per_minute</th>\n",
              "      <th>monthly_revenue</th>\n",
              "    </tr>\n",
              "  </thead>\n",
              "  <tbody>\n",
              "    <tr>\n",
              "      <th>0</th>\n",
              "      <td>1000</td>\n",
              "      <td>12.0</td>\n",
              "      <td>116.83</td>\n",
              "      <td>16.0</td>\n",
              "      <td>11.0</td>\n",
              "      <td>1901.47</td>\n",
              "      <td>Anamaria</td>\n",
              "      <td>Bauer</td>\n",
              "      <td>45</td>\n",
              "      <td>Atlanta-Sandy Springs-Roswell, GA MSA</td>\n",
              "      <td>...</td>\n",
              "      <td>False</td>\n",
              "      <td>Adulto</td>\n",
              "      <td>1000</td>\n",
              "      <td>30720</td>\n",
              "      <td>3000</td>\n",
              "      <td>70</td>\n",
              "      <td>7</td>\n",
              "      <td>0.01</td>\n",
              "      <td>0.01</td>\n",
              "      <td>70.0</td>\n",
              "    </tr>\n",
              "    <tr>\n",
              "      <th>1</th>\n",
              "      <td>1006</td>\n",
              "      <td>11.0</td>\n",
              "      <td>9.32</td>\n",
              "      <td>2.0</td>\n",
              "      <td>15.0</td>\n",
              "      <td>2068.37</td>\n",
              "      <td>Jesusa</td>\n",
              "      <td>Bradford</td>\n",
              "      <td>73</td>\n",
              "      <td>San Francisco-Oakland-Berkeley, CA MSA</td>\n",
              "      <td>...</td>\n",
              "      <td>True</td>\n",
              "      <td>Idoso</td>\n",
              "      <td>1000</td>\n",
              "      <td>30720</td>\n",
              "      <td>3000</td>\n",
              "      <td>70</td>\n",
              "      <td>7</td>\n",
              "      <td>0.01</td>\n",
              "      <td>0.01</td>\n",
              "      <td>70.0</td>\n",
              "    </tr>\n",
              "    <tr>\n",
              "      <th>2</th>\n",
              "      <td>1006</td>\n",
              "      <td>12.0</td>\n",
              "      <td>54.79</td>\n",
              "      <td>9.0</td>\n",
              "      <td>139.0</td>\n",
              "      <td>32118.82</td>\n",
              "      <td>Jesusa</td>\n",
              "      <td>Bradford</td>\n",
              "      <td>73</td>\n",
              "      <td>San Francisco-Oakland-Berkeley, CA MSA</td>\n",
              "      <td>...</td>\n",
              "      <td>True</td>\n",
              "      <td>Idoso</td>\n",
              "      <td>1000</td>\n",
              "      <td>30720</td>\n",
              "      <td>3000</td>\n",
              "      <td>70</td>\n",
              "      <td>7</td>\n",
              "      <td>0.01</td>\n",
              "      <td>0.01</td>\n",
              "      <td>84.0</td>\n",
              "    </tr>\n",
              "    <tr>\n",
              "      <th>3</th>\n",
              "      <td>1008</td>\n",
              "      <td>10.0</td>\n",
              "      <td>450.21</td>\n",
              "      <td>71.0</td>\n",
              "      <td>21.0</td>\n",
              "      <td>17106.99</td>\n",
              "      <td>Emely</td>\n",
              "      <td>Hoffman</td>\n",
              "      <td>53</td>\n",
              "      <td>Orlando-Kissimmee-Sanford, FL MSA</td>\n",
              "      <td>...</td>\n",
              "      <td>False</td>\n",
              "      <td>Adulto</td>\n",
              "      <td>1000</td>\n",
              "      <td>30720</td>\n",
              "      <td>3000</td>\n",
              "      <td>70</td>\n",
              "      <td>7</td>\n",
              "      <td>0.01</td>\n",
              "      <td>0.01</td>\n",
              "      <td>70.0</td>\n",
              "    </tr>\n",
              "    <tr>\n",
              "      <th>4</th>\n",
              "      <td>1008</td>\n",
              "      <td>11.0</td>\n",
              "      <td>422.81</td>\n",
              "      <td>63.0</td>\n",
              "      <td>37.0</td>\n",
              "      <td>23676.72</td>\n",
              "      <td>Emely</td>\n",
              "      <td>Hoffman</td>\n",
              "      <td>53</td>\n",
              "      <td>Orlando-Kissimmee-Sanford, FL MSA</td>\n",
              "      <td>...</td>\n",
              "      <td>False</td>\n",
              "      <td>Adulto</td>\n",
              "      <td>1000</td>\n",
              "      <td>30720</td>\n",
              "      <td>3000</td>\n",
              "      <td>70</td>\n",
              "      <td>7</td>\n",
              "      <td>0.01</td>\n",
              "      <td>0.01</td>\n",
              "      <td>70.0</td>\n",
              "    </tr>\n",
              "  </tbody>\n",
              "</table>\n",
              "<p>5 rows × 23 columns</p>\n",
              "</div>"
            ],
            "text/plain": [
              "   user_id  month  duration  count_calls  count_messages   mb_used first_name  \\\n",
              "0     1000   12.0    116.83         16.0            11.0   1901.47   Anamaria   \n",
              "1     1006   11.0      9.32          2.0            15.0   2068.37     Jesusa   \n",
              "2     1006   12.0     54.79          9.0           139.0  32118.82     Jesusa   \n",
              "3     1008   10.0    450.21         71.0            21.0  17106.99      Emely   \n",
              "4     1008   11.0    422.81         63.0            37.0  23676.72      Emely   \n",
              "\n",
              "  last_name  age                                    city  ...  churn  \\\n",
              "0     Bauer   45   Atlanta-Sandy Springs-Roswell, GA MSA  ...  False   \n",
              "1  Bradford   73  San Francisco-Oakland-Berkeley, CA MSA  ...   True   \n",
              "2  Bradford   73  San Francisco-Oakland-Berkeley, CA MSA  ...   True   \n",
              "3   Hoffman   53       Orlando-Kissimmee-Sanford, FL MSA  ...  False   \n",
              "4   Hoffman   53       Orlando-Kissimmee-Sanford, FL MSA  ...  False   \n",
              "\n",
              "  faixa_etaria messages_included  mb_per_month_included minutes_included  \\\n",
              "0       Adulto              1000                  30720             3000   \n",
              "1        Idoso              1000                  30720             3000   \n",
              "2        Idoso              1000                  30720             3000   \n",
              "3       Adulto              1000                  30720             3000   \n",
              "4       Adulto              1000                  30720             3000   \n",
              "\n",
              "   usd_monthly_pay  usd_per_gb  usd_per_message  usd_per_minute  \\\n",
              "0               70           7             0.01            0.01   \n",
              "1               70           7             0.01            0.01   \n",
              "2               70           7             0.01            0.01   \n",
              "3               70           7             0.01            0.01   \n",
              "4               70           7             0.01            0.01   \n",
              "\n",
              "   monthly_revenue  \n",
              "0             70.0  \n",
              "1             70.0  \n",
              "2             84.0  \n",
              "3             70.0  \n",
              "4             70.0  \n",
              "\n",
              "[5 rows x 23 columns]"
            ]
          },
          "execution_count": 85,
          "metadata": {},
          "output_type": "execute_result"
        }
      ],
      "source": [
        "#Verificando a receita\n",
        "user_usage_with_plan.head()"
      ]
    },
    {
      "cell_type": "code",
      "execution_count": null,
      "metadata": {
        "id": "3xvPMYUTJhUK",
        "outputId": "6ef29fc9-4411-4b98-b709-b0fbf1d1a9c3"
      },
      "outputs": [
        {
          "data": {
            "image/png": "[encoded data removed]",
            "text/plain": [
              "<Figure size 432x288 with 1 Axes>"
            ]
          },
          "metadata": {
            "needs_background": "light"
          },
          "output_type": "display_data"
        }
      ],
      "source": [
        "#Verficando outliers\n",
        "user_usage_with_plan[['monthly_revenue']].boxplot()\n",
        "plt.show()"
      ]
    },
    {
      "cell_type": "code",
      "execution_count": null,
      "metadata": {
        "id": "16Tsw8EKJhUL"
      },
      "outputs": [],
      "source": [
        "#removendo os outliers\n",
        "Q1 = user_usage_with_plan['monthly_revenue'].quantile(0.25)\n",
        "Q3 = user_usage_with_plan['monthly_revenue'].quantile(0.75)\n",
        "IQR = Q3 - Q1\n",
        "lower_limit = Q1 - 1.5 * IQR\n",
        "upper_limit = Q3 + 1.5 * IQR\n",
        "outliers = user_usage_with_plan[(user_usage_with_plan['monthly_revenue'] < lower_limit) | (user_usage_with_plan['monthly_revenue'] > upper_limit)]\n",
        "user_usage_with_plan_filtered = user_usage_with_plan[(user_usage_with_plan['monthly_revenue'] >= lower_limit) & (user_usage_with_plan['monthly_revenue'] <= upper_limit)]\n"
      ]
    },
    {
      "cell_type": "code",
      "execution_count": null,
      "metadata": {
        "scrolled": true,
        "id": "aBNy_p9TJhUT",
        "outputId": "4ec4d265-bdca-43f1-c38a-a4295e8ca14a"
      },
      "outputs": [
        {
          "data": {
            "text/html": [
              "<div>\n",
              "<style scoped>\n",
              "    .dataframe tbody tr th:only-of-type {\n",
              "        vertical-align: middle;\n",
              "    }\n",
              "\n",
              "    .dataframe tbody tr th {\n",
              "        vertical-align: top;\n",
              "    }\n",
              "\n",
              "    .dataframe thead th {\n",
              "        text-align: right;\n",
              "    }\n",
              "</style>\n",
              "<table border=\"1\" class=\"dataframe\">\n",
              "  <thead>\n",
              "    <tr style=\"text-align: right;\">\n",
              "      <th></th>\n",
              "      <th>user_id</th>\n",
              "      <th>month</th>\n",
              "      <th>duration</th>\n",
              "      <th>count_calls</th>\n",
              "      <th>count_messages</th>\n",
              "      <th>mb_used</th>\n",
              "      <th>first_name</th>\n",
              "      <th>last_name</th>\n",
              "      <th>age</th>\n",
              "      <th>city</th>\n",
              "      <th>...</th>\n",
              "      <th>churn</th>\n",
              "      <th>faixa_etaria</th>\n",
              "      <th>messages_included</th>\n",
              "      <th>mb_per_month_included</th>\n",
              "      <th>minutes_included</th>\n",
              "      <th>usd_monthly_pay</th>\n",
              "      <th>usd_per_gb</th>\n",
              "      <th>usd_per_message</th>\n",
              "      <th>usd_per_minute</th>\n",
              "      <th>monthly_revenue</th>\n",
              "    </tr>\n",
              "  </thead>\n",
              "  <tbody>\n",
              "    <tr>\n",
              "      <th>0</th>\n",
              "      <td>1000</td>\n",
              "      <td>12.0</td>\n",
              "      <td>116.83</td>\n",
              "      <td>16.0</td>\n",
              "      <td>11.0</td>\n",
              "      <td>1901.47</td>\n",
              "      <td>Anamaria</td>\n",
              "      <td>Bauer</td>\n",
              "      <td>45</td>\n",
              "      <td>Atlanta-Sandy Springs-Roswell, GA MSA</td>\n",
              "      <td>...</td>\n",
              "      <td>False</td>\n",
              "      <td>Adulto</td>\n",
              "      <td>1000</td>\n",
              "      <td>30720</td>\n",
              "      <td>3000</td>\n",
              "      <td>70</td>\n",
              "      <td>7</td>\n",
              "      <td>0.01</td>\n",
              "      <td>0.01</td>\n",
              "      <td>70.0</td>\n",
              "    </tr>\n",
              "    <tr>\n",
              "      <th>1</th>\n",
              "      <td>1006</td>\n",
              "      <td>11.0</td>\n",
              "      <td>9.32</td>\n",
              "      <td>2.0</td>\n",
              "      <td>15.0</td>\n",
              "      <td>2068.37</td>\n",
              "      <td>Jesusa</td>\n",
              "      <td>Bradford</td>\n",
              "      <td>73</td>\n",
              "      <td>San Francisco-Oakland-Berkeley, CA MSA</td>\n",
              "      <td>...</td>\n",
              "      <td>True</td>\n",
              "      <td>Idoso</td>\n",
              "      <td>1000</td>\n",
              "      <td>30720</td>\n",
              "      <td>3000</td>\n",
              "      <td>70</td>\n",
              "      <td>7</td>\n",
              "      <td>0.01</td>\n",
              "      <td>0.01</td>\n",
              "      <td>70.0</td>\n",
              "    </tr>\n",
              "    <tr>\n",
              "      <th>2</th>\n",
              "      <td>1006</td>\n",
              "      <td>12.0</td>\n",
              "      <td>54.79</td>\n",
              "      <td>9.0</td>\n",
              "      <td>139.0</td>\n",
              "      <td>32118.82</td>\n",
              "      <td>Jesusa</td>\n",
              "      <td>Bradford</td>\n",
              "      <td>73</td>\n",
              "      <td>San Francisco-Oakland-Berkeley, CA MSA</td>\n",
              "      <td>...</td>\n",
              "      <td>True</td>\n",
              "      <td>Idoso</td>\n",
              "      <td>1000</td>\n",
              "      <td>30720</td>\n",
              "      <td>3000</td>\n",
              "      <td>70</td>\n",
              "      <td>7</td>\n",
              "      <td>0.01</td>\n",
              "      <td>0.01</td>\n",
              "      <td>84.0</td>\n",
              "    </tr>\n",
              "    <tr>\n",
              "      <th>3</th>\n",
              "      <td>1008</td>\n",
              "      <td>10.0</td>\n",
              "      <td>450.21</td>\n",
              "      <td>71.0</td>\n",
              "      <td>21.0</td>\n",
              "      <td>17106.99</td>\n",
              "      <td>Emely</td>\n",
              "      <td>Hoffman</td>\n",
              "      <td>53</td>\n",
              "      <td>Orlando-Kissimmee-Sanford, FL MSA</td>\n",
              "      <td>...</td>\n",
              "      <td>False</td>\n",
              "      <td>Adulto</td>\n",
              "      <td>1000</td>\n",
              "      <td>30720</td>\n",
              "      <td>3000</td>\n",
              "      <td>70</td>\n",
              "      <td>7</td>\n",
              "      <td>0.01</td>\n",
              "      <td>0.01</td>\n",
              "      <td>70.0</td>\n",
              "    </tr>\n",
              "    <tr>\n",
              "      <th>4</th>\n",
              "      <td>1008</td>\n",
              "      <td>11.0</td>\n",
              "      <td>422.81</td>\n",
              "      <td>63.0</td>\n",
              "      <td>37.0</td>\n",
              "      <td>23676.72</td>\n",
              "      <td>Emely</td>\n",
              "      <td>Hoffman</td>\n",
              "      <td>53</td>\n",
              "      <td>Orlando-Kissimmee-Sanford, FL MSA</td>\n",
              "      <td>...</td>\n",
              "      <td>False</td>\n",
              "      <td>Adulto</td>\n",
              "      <td>1000</td>\n",
              "      <td>30720</td>\n",
              "      <td>3000</td>\n",
              "      <td>70</td>\n",
              "      <td>7</td>\n",
              "      <td>0.01</td>\n",
              "      <td>0.01</td>\n",
              "      <td>70.0</td>\n",
              "    </tr>\n",
              "    <tr>\n",
              "      <th>...</th>\n",
              "      <td>...</td>\n",
              "      <td>...</td>\n",
              "      <td>...</td>\n",
              "      <td>...</td>\n",
              "      <td>...</td>\n",
              "      <td>...</td>\n",
              "      <td>...</td>\n",
              "      <td>...</td>\n",
              "      <td>...</td>\n",
              "      <td>...</td>\n",
              "      <td>...</td>\n",
              "      <td>...</td>\n",
              "      <td>...</td>\n",
              "      <td>...</td>\n",
              "      <td>...</td>\n",
              "      <td>...</td>\n",
              "      <td>...</td>\n",
              "      <td>...</td>\n",
              "      <td>...</td>\n",
              "      <td>...</td>\n",
              "      <td>...</td>\n",
              "    </tr>\n",
              "    <tr>\n",
              "      <th>2298</th>\n",
              "      <td>1143</td>\n",
              "      <td>0.0</td>\n",
              "      <td>0.00</td>\n",
              "      <td>0.0</td>\n",
              "      <td>0.0</td>\n",
              "      <td>0.00</td>\n",
              "      <td>Lorina</td>\n",
              "      <td>Stevens</td>\n",
              "      <td>69</td>\n",
              "      <td>Cincinnati, OH-KY-IN MSA</td>\n",
              "      <td>...</td>\n",
              "      <td>False</td>\n",
              "      <td>Idoso</td>\n",
              "      <td>50</td>\n",
              "      <td>15360</td>\n",
              "      <td>500</td>\n",
              "      <td>20</td>\n",
              "      <td>10</td>\n",
              "      <td>0.03</td>\n",
              "      <td>0.03</td>\n",
              "      <td>20.0</td>\n",
              "    </tr>\n",
              "    <tr>\n",
              "      <th>2299</th>\n",
              "      <td>1307</td>\n",
              "      <td>0.0</td>\n",
              "      <td>0.00</td>\n",
              "      <td>0.0</td>\n",
              "      <td>0.0</td>\n",
              "      <td>0.00</td>\n",
              "      <td>Kristopher</td>\n",
              "      <td>Lang</td>\n",
              "      <td>28</td>\n",
              "      <td>Boston-Cambridge-Newton, MA-NH MSA</td>\n",
              "      <td>...</td>\n",
              "      <td>False</td>\n",
              "      <td>Adulto</td>\n",
              "      <td>50</td>\n",
              "      <td>15360</td>\n",
              "      <td>500</td>\n",
              "      <td>20</td>\n",
              "      <td>10</td>\n",
              "      <td>0.03</td>\n",
              "      <td>0.03</td>\n",
              "      <td>20.0</td>\n",
              "    </tr>\n",
              "    <tr>\n",
              "      <th>2300</th>\n",
              "      <td>1319</td>\n",
              "      <td>0.0</td>\n",
              "      <td>0.00</td>\n",
              "      <td>0.0</td>\n",
              "      <td>0.0</td>\n",
              "      <td>0.00</td>\n",
              "      <td>Eliseo</td>\n",
              "      <td>Carson</td>\n",
              "      <td>21</td>\n",
              "      <td>Colorado Springs, CO MSA</td>\n",
              "      <td>...</td>\n",
              "      <td>False</td>\n",
              "      <td>Jovem</td>\n",
              "      <td>50</td>\n",
              "      <td>15360</td>\n",
              "      <td>500</td>\n",
              "      <td>20</td>\n",
              "      <td>10</td>\n",
              "      <td>0.03</td>\n",
              "      <td>0.03</td>\n",
              "      <td>20.0</td>\n",
              "    </tr>\n",
              "    <tr>\n",
              "      <th>2301</th>\n",
              "      <td>1378</td>\n",
              "      <td>0.0</td>\n",
              "      <td>0.00</td>\n",
              "      <td>0.0</td>\n",
              "      <td>0.0</td>\n",
              "      <td>0.00</td>\n",
              "      <td>Mckinley</td>\n",
              "      <td>Clayton</td>\n",
              "      <td>22</td>\n",
              "      <td>Denver-Aurora-Lakewood, CO MSA</td>\n",
              "      <td>...</td>\n",
              "      <td>False</td>\n",
              "      <td>Jovem</td>\n",
              "      <td>50</td>\n",
              "      <td>15360</td>\n",
              "      <td>500</td>\n",
              "      <td>20</td>\n",
              "      <td>10</td>\n",
              "      <td>0.03</td>\n",
              "      <td>0.03</td>\n",
              "      <td>20.0</td>\n",
              "    </tr>\n",
              "    <tr>\n",
              "      <th>2302</th>\n",
              "      <td>1473</td>\n",
              "      <td>0.0</td>\n",
              "      <td>0.00</td>\n",
              "      <td>0.0</td>\n",
              "      <td>0.0</td>\n",
              "      <td>0.00</td>\n",
              "      <td>Kirk</td>\n",
              "      <td>Velez</td>\n",
              "      <td>61</td>\n",
              "      <td>Louisville/Jefferson County, KY-IN MSA</td>\n",
              "      <td>...</td>\n",
              "      <td>False</td>\n",
              "      <td>Idoso</td>\n",
              "      <td>50</td>\n",
              "      <td>15360</td>\n",
              "      <td>500</td>\n",
              "      <td>20</td>\n",
              "      <td>10</td>\n",
              "      <td>0.03</td>\n",
              "      <td>0.03</td>\n",
              "      <td>20.0</td>\n",
              "    </tr>\n",
              "  </tbody>\n",
              "</table>\n",
              "<p>2178 rows × 23 columns</p>\n",
              "</div>"
            ],
            "text/plain": [
              "      user_id  month  duration  count_calls  count_messages   mb_used  \\\n",
              "0        1000   12.0    116.83         16.0            11.0   1901.47   \n",
              "1        1006   11.0      9.32          2.0            15.0   2068.37   \n",
              "2        1006   12.0     54.79          9.0           139.0  32118.82   \n",
              "3        1008   10.0    450.21         71.0            21.0  17106.99   \n",
              "4        1008   11.0    422.81         63.0            37.0  23676.72   \n",
              "...       ...    ...       ...          ...             ...       ...   \n",
              "2298     1143    0.0      0.00          0.0             0.0      0.00   \n",
              "2299     1307    0.0      0.00          0.0             0.0      0.00   \n",
              "2300     1319    0.0      0.00          0.0             0.0      0.00   \n",
              "2301     1378    0.0      0.00          0.0             0.0      0.00   \n",
              "2302     1473    0.0      0.00          0.0             0.0      0.00   \n",
              "\n",
              "      first_name last_name  age                                    city  ...  \\\n",
              "0       Anamaria     Bauer   45   Atlanta-Sandy Springs-Roswell, GA MSA  ...   \n",
              "1         Jesusa  Bradford   73  San Francisco-Oakland-Berkeley, CA MSA  ...   \n",
              "2         Jesusa  Bradford   73  San Francisco-Oakland-Berkeley, CA MSA  ...   \n",
              "3          Emely   Hoffman   53       Orlando-Kissimmee-Sanford, FL MSA  ...   \n",
              "4          Emely   Hoffman   53       Orlando-Kissimmee-Sanford, FL MSA  ...   \n",
              "...          ...       ...  ...                                     ...  ...   \n",
              "2298      Lorina   Stevens   69                Cincinnati, OH-KY-IN MSA  ...   \n",
              "2299  Kristopher      Lang   28      Boston-Cambridge-Newton, MA-NH MSA  ...   \n",
              "2300      Eliseo    Carson   21                Colorado Springs, CO MSA  ...   \n",
              "2301    Mckinley   Clayton   22          Denver-Aurora-Lakewood, CO MSA  ...   \n",
              "2302        Kirk     Velez   61  Louisville/Jefferson County, KY-IN MSA  ...   \n",
              "\n",
              "      churn faixa_etaria messages_included  mb_per_month_included  \\\n",
              "0     False       Adulto              1000                  30720   \n",
              "1      True        Idoso              1000                  30720   \n",
              "2      True        Idoso              1000                  30720   \n",
              "3     False       Adulto              1000                  30720   \n",
              "4     False       Adulto              1000                  30720   \n",
              "...     ...          ...               ...                    ...   \n",
              "2298  False        Idoso                50                  15360   \n",
              "2299  False       Adulto                50                  15360   \n",
              "2300  False        Jovem                50                  15360   \n",
              "2301  False        Jovem                50                  15360   \n",
              "2302  False        Idoso                50                  15360   \n",
              "\n",
              "     minutes_included  usd_monthly_pay  usd_per_gb  usd_per_message  \\\n",
              "0                3000               70           7             0.01   \n",
              "1                3000               70           7             0.01   \n",
              "2                3000               70           7             0.01   \n",
              "3                3000               70           7             0.01   \n",
              "4                3000               70           7             0.01   \n",
              "...               ...              ...         ...              ...   \n",
              "2298              500               20          10             0.03   \n",
              "2299              500               20          10             0.03   \n",
              "2300              500               20          10             0.03   \n",
              "2301              500               20          10             0.03   \n",
              "2302              500               20          10             0.03   \n",
              "\n",
              "      usd_per_minute  monthly_revenue  \n",
              "0               0.01             70.0  \n",
              "1               0.01             70.0  \n",
              "2               0.01             84.0  \n",
              "3               0.01             70.0  \n",
              "4               0.01             70.0  \n",
              "...              ...              ...  \n",
              "2298            0.03             20.0  \n",
              "2299            0.03             20.0  \n",
              "2300            0.03             20.0  \n",
              "2301            0.03             20.0  \n",
              "2302            0.03             20.0  \n",
              "\n",
              "[2178 rows x 23 columns]"
            ]
          },
          "execution_count": 88,
          "metadata": {},
          "output_type": "execute_result"
        }
      ],
      "source": [
        "#Verificando dataframe sem outliers\n",
        "user_usage_with_plan_filtered"
      ]
    },
    {
      "cell_type": "markdown",
      "metadata": {
        "id": "vbaa6sTlJhUZ"
      },
      "source": [
        "## Estudar o comportamento do usuário"
      ]
    },
    {
      "cell_type": "markdown",
      "metadata": {
        "id": "QwfQkzVzJhUa"
      },
      "source": [
        "Vamos calcular algumas estatísticas descritivas úteis para os dados agregados e unidos, que geralmente revelam uma imagem geral capturada pelos dados.\n"
      ]
    },
    {
      "cell_type": "markdown",
      "metadata": {
        "id": "HpELaKKOJhUa"
      },
      "source": [
        "- Para calcular estatísticas descritivas e plotar gráficos úteis para os dados agregados e unidos, iremos considerar os três tipos de dados: `chamadas`, `mensagens` e `internet`. O objetivo é comparar os planos e determinar qual é mais rentável. As estatísticas e os gráficos devem ser calculados separadamente para cada plano."
      ]
    },
    {
      "cell_type": "markdown",
      "metadata": {
        "id": "ppGrY_UZJhUb"
      },
      "source": [
        "### Chamadas"
      ]
    },
    {
      "cell_type": "code",
      "execution_count": null,
      "metadata": {
        "id": "6JwukLJIJhUb"
      },
      "outputs": [],
      "source": [
        "# Comparando a duração média das ligações de cada plano para cada mês distinto. Faça um gráfico de barras para visualizá-lo.\n",
        "# Agrupando os dados por plano e mês e calculando a média da duração das ligações\n",
        "average_duration = user_usage_with_plan.groupby(['plan_name', 'month'])['duration'].mean().reset_index()\n"
      ]
    },
    {
      "cell_type": "code",
      "execution_count": null,
      "metadata": {
        "id": "4-j9P1JaJhUb",
        "outputId": "0b874198-c27f-405b-f12f-cbf5c6525b87"
      },
      "outputs": [
        {
          "data": {
            "image/png": "[encoded data removed]",
            "text/plain": [
              "<Figure size 720x432 with 1 Axes>"
            ]
          },
          "metadata": {
            "needs_background": "light"
          },
          "output_type": "display_data"
        }
      ],
      "source": [
        "# Criando gráfico de barras para visualizar a comparação da duração média das ligações entre os planos para cada mês\n",
        "plt.figure(figsize=(10, 6))\n",
        "sns.barplot(data=average_duration, x='month', y='duration', hue='plan_name')\n",
        "\n",
        "plt.xlabel('Mês')\n",
        "plt.ylabel('Duração Média das Ligações')\n",
        "plt.title('Comparação da Duração Média das Ligações por Plano')\n",
        "\n",
        "plt.show()"
      ]
    },
    {
      "cell_type": "code",
      "execution_count": null,
      "metadata": {
        "id": "zLmDsCOHJhUc"
      },
      "outputs": [],
      "source": [
        "# Compare o número de minutos que os usuários de cada plano requerem a cada mês. Construa um histograma.\n",
        "# Agrupando os dados por plano e mês e calculando o total de minutos usados\n",
        "total_minutes = user_usage_with_plan.groupby(['plan_name', 'month'])['duration'].sum()\n"
      ]
    },
    {
      "cell_type": "code",
      "execution_count": null,
      "metadata": {
        "id": "NXs2UfSWJhUd",
        "outputId": "9bfc9cb5-a5ea-44dc-9024-66b0b3a4fe43"
      },
      "outputs": [
        {
          "data": {
            "image/png": "[encoded data removed]",
            "text/plain": [
              "<Figure size 720x432 with 1 Axes>"
            ]
          },
          "metadata": {
            "needs_background": "light"
          },
          "output_type": "display_data"
        }
      ],
      "source": [
        "# Criando um histograma para cada plano\n",
        "plt.figure(figsize=(10, 6))\n",
        "for plan in plans:\n",
        "    plt.hist(total_minutes[plan], bins=10, alpha=0.5, label=plan)\n",
        "\n",
        "plt.xlabel('Número de Minutos')\n",
        "plt.ylabel('Frequência')\n",
        "plt.legend(title='Plano')\n",
        "plt.title('Número de Minutos Requeridos por Plano')\n",
        "plt.show()\n"
      ]
    },
    {
      "cell_type": "markdown",
      "metadata": {
        "id": "v9ohD_DAJhUd"
      },
      "source": [
        "- Com base nos gráficos acima, essas análises indicam que o plano ***Ultimate*** tende a ter uma demanda maior por minutos, enquanto o plano ***Surf*** é mais estável em relação à duração média das ligações. No entanto, é importante considerar outras métricas, como o número de mensagens e o uso de dados, para uma análise completa da rentabilidade de cada plano."
      ]
    },
    {
      "cell_type": "markdown",
      "metadata": {
        "id": "QgcU5zyaJhUd"
      },
      "source": [
        "Vamos calcular a média e a variável da duração da chamada para raciocinar se os usuários de diferentes planos possuem comportamentos diferentes em suas chamadas."
      ]
    },
    {
      "cell_type": "code",
      "execution_count": null,
      "metadata": {
        "id": "KuKX-M5KJhUe",
        "outputId": "00b4487e-81c8-4ac9-9264-7ffe847d2d92"
      },
      "outputs": [
        {
          "data": {
            "text/html": [
              "<div>\n",
              "<style scoped>\n",
              "    .dataframe tbody tr th:only-of-type {\n",
              "        vertical-align: middle;\n",
              "    }\n",
              "\n",
              "    .dataframe tbody tr th {\n",
              "        vertical-align: top;\n",
              "    }\n",
              "\n",
              "    .dataframe thead th {\n",
              "        text-align: right;\n",
              "    }\n",
              "</style>\n",
              "<table border=\"1\" class=\"dataframe\">\n",
              "  <thead>\n",
              "    <tr style=\"text-align: right;\">\n",
              "      <th></th>\n",
              "      <th>mean</th>\n",
              "      <th>var</th>\n",
              "    </tr>\n",
              "    <tr>\n",
              "      <th>plan_name</th>\n",
              "      <th></th>\n",
              "      <th></th>\n",
              "    </tr>\n",
              "  </thead>\n",
              "  <tbody>\n",
              "    <tr>\n",
              "      <th>surf</th>\n",
              "      <td>403.224345</td>\n",
              "      <td>49568.849927</td>\n",
              "    </tr>\n",
              "    <tr>\n",
              "      <th>ultimate</th>\n",
              "      <td>403.948923</td>\n",
              "      <td>52263.047679</td>\n",
              "    </tr>\n",
              "  </tbody>\n",
              "</table>\n",
              "</div>"
            ],
            "text/plain": [
              "                 mean           var\n",
              "plan_name                          \n",
              "surf       403.224345  49568.849927\n",
              "ultimate   403.948923  52263.047679"
            ]
          },
          "execution_count": 93,
          "metadata": {},
          "output_type": "execute_result"
        }
      ],
      "source": [
        "# Calcule a média e a variação da duração mensal das chamadas\n",
        "call_duration_stats = user_usage_with_plan.groupby('plan_name')['duration'].agg(['mean', 'var'])\n",
        "call_duration_stats"
      ]
    },
    {
      "cell_type": "markdown",
      "metadata": {
        "id": "lOko8-i4JhUf"
      },
      "source": [
        "- Vamos criar um diagrama de caixa com os valores da duração das chamadas para cada mês, permitindo visualizar a distribuição e identificar possíveis padrões ou variações ao longo do tempo."
      ]
    },
    {
      "cell_type": "code",
      "execution_count": null,
      "metadata": {
        "id": "PvkXifJMJhUg"
      },
      "outputs": [],
      "source": [
        "# Faça um diagrama de caixa para visualizar a distribuição da duração mensal das chamadas\n",
        "# Agrupando os dados por mês e obtendo a duração das chamadas\n",
        "monthly_call_duration = user_usage_with_plan.groupby('month')['duration'].apply(list)"
      ]
    },
    {
      "cell_type": "code",
      "execution_count": null,
      "metadata": {
        "id": "u6fy2lvxJhUg",
        "outputId": "27254d5e-7700-4850-dc64-329071f63634"
      },
      "outputs": [
        {
          "data": {
            "image/png": "[encoded data removed]",
            "text/plain": [
              "<Figure size 720x432 with 1 Axes>"
            ]
          },
          "metadata": {
            "needs_background": "light"
          },
          "output_type": "display_data"
        }
      ],
      "source": [
        "# Criando o diagrama de caixa\n",
        "plt.figure(figsize=(10, 6))\n",
        "plt.boxplot(monthly_call_duration, labels=monthly_call_duration.index)\n",
        "plt.xlabel('Mês')\n",
        "plt.ylabel('Duração da Chamada')\n",
        "plt.title('Distribuição da Duração Mensal das Chamadas')\n",
        "plt.show()"
      ]
    },
    {
      "cell_type": "markdown",
      "metadata": {
        "id": "FeEeCg5yJhUh"
      },
      "source": [
        "- Com base na análise da média e variabilidade da duração das chamadas, assim como no diagrama de caixa da duração mensal das chamadas, podemos formular algumas conclusões sobre o comportamento dos usuários em termos de chamadas:\n",
        "    - Observamos que os usuários do plano ***surf*** têm uma média de duração de chamada menor em comparação com os usuários do plano ***ultimate***. Isso sugere que os usuários do plano ***surf*** tendem a realizar chamadas mais curtas em média.\n",
        "\n",
        "    - A variabilidade da duração das chamadas é maior para os usuários do plano ***ultimate*** em comparação com os usuários do plano ***surf***. Isso indica que os usuários do plano ***ultimate*** têm uma variedade mais ampla de durações de chamadas, abrangendo desde chamadas curtas até chamadas mais longas.\n",
        "\n",
        "    - O diagrama de caixa mostra a distribuição da duração mensal das chamadas para cada plano. Podemos observar que, em geral, os usuários do plano ***ultimate*** apresentam uma maior dispersão nos valores da duração das chamadas, com alguns meses apresentando chamadas de curta duração e outros meses apresentando chamadas mais longas. Já os usuários do plano ***surf*** mostram uma menor dispersão e uma tendência a ter chamadas de duração mais consistente ao longo dos meses.\n",
        "\n",
        "- Com base nessas conclusões, podemos dizer que os usuários dos diferentes planos possuem comportamentos diferentes em termos de chamadas. Os usuários do plano ***surf*** tendem a realizar chamadas mais curtas em média, enquanto os usuários do plano ***ultimate*** têm uma maior variabilidade na duração das chamadas, abrangendo desde chamadas curtas até chamadas mais longas. Essas diferenças podem ser influenciadas pelas características e restrições dos planos, bem como pelas preferências e necessidades individuais dos usuários."
      ]
    },
    {
      "cell_type": "code",
      "execution_count": null,
      "metadata": {
        "id": "TC0tu1osJhUj"
      },
      "outputs": [],
      "source": [
        "# Compare o número de mensagens que os usuários de cada plano tendem a enviar a cada mês\n",
        "#Agrupando os dados por plano e mês e calculando a contagem de mensagens\n",
        "message_count = user_usage_with_plan.groupby(['plan_name', 'month'])['count_messages'].count().reset_index()\n"
      ]
    },
    {
      "cell_type": "code",
      "execution_count": null,
      "metadata": {
        "id": "i7qbnvwPJhUj",
        "outputId": "89328f1a-7386-4c65-bf98-45168fdaa99e"
      },
      "outputs": [
        {
          "data": {
            "image/png": "[encoded data removed]",
            "text/plain": [
              "<Figure size 720x432 with 1 Axes>"
            ]
          },
          "metadata": {
            "needs_background": "light"
          },
          "output_type": "display_data"
        }
      ],
      "source": [
        "#Criando gráfico de barras\n",
        "plt.figure(figsize=(10, 6))\n",
        "sns.barplot(data=message_count, x='month', y='count_messages', hue='plan_name')\n",
        "\n",
        "plt.xlabel('Mês')\n",
        "plt.ylabel('Contagem de Mensagens')\n",
        "plt.legend(title='Plano')\n",
        "plt.title('Comparação da Contagem de Mensagens por Plano')\n",
        "plt.show()"
      ]
    },
    {
      "cell_type": "markdown",
      "metadata": {
        "id": "iKsRTlrnJhUl"
      },
      "source": [
        "- Com base na comparação da contagem de mensagens por plano, podemos formular algumas conclusões sobre o comportamento dos usuários em termos de mensagens:\n",
        "    - O plano ***ultimate*** geralmente apresenta uma contagem de mensagens maior do que o plano ***surf*** em todos os meses. Isso indica que os usuários do plano ***ultimate*** tendem a enviar mais mensagens em média do que os usuários do plano ***surf***.\n",
        "\n",
        "    - Ao longo dos meses, podemos observar variações na contagem de mensagens para ambos os planos. Por exemplo, no primeiro mês, a contagem de mensagens do plano ***ultimate*** é significativamente maior do que nos meses subsequentes. Isso pode indicar um comportamento inicial mais ativo dos usuários do plano ***ultimate*** em termos de envio de mensagens.\n",
        "\n",
        "    - O plano ***surf*** apresenta uma contagem de mensagens relativamente estável ao longo dos meses, com variações menores. Isso pode indicar um padrão de comportamento mais consistente dos usuários desse plano em relação ao envio de mensagens.\n",
        "\n",
        "- Com base nessas conclusões, podemos afirmar que o comportamento dos usuários em termos de mensagens é diferente entre os planos. Os usuários do plano ***ultimate*** tendem a enviar mais mensagens em média do que os usuários do plano ***surf***. No entanto, é importante ressaltar que essas conclusões são baseadas nos dados fornecidos e podem variar dependendo de outros fatores não considerados."
      ]
    },
    {
      "cell_type": "markdown",
      "metadata": {
        "id": "xfvgrCvRJhUm"
      },
      "source": [
        "### Internet"
      ]
    },
    {
      "cell_type": "code",
      "execution_count": null,
      "metadata": {
        "id": "W19YzfNkJhUn"
      },
      "outputs": [],
      "source": [
        "# Compare a quantidade de tráfego de internet consumido pelos usuários por plano\n",
        "# Agrupando os dados por plano e mês e calculando a soma do tráfego de internet consumido\n",
        "internet_traffic = user_usage_with_plan.groupby(['plan_name', 'month'])['mb_used'].sum().reset_index()\n"
      ]
    },
    {
      "cell_type": "code",
      "execution_count": null,
      "metadata": {
        "scrolled": true,
        "id": "Zi8Z2e02JhUn",
        "outputId": "7afa478b-6350-49ef-ec68-af6127b726bd"
      },
      "outputs": [
        {
          "data": {
            "image/png": "[encoded data removed]",
            "text/plain": [
              "<Figure size 720x432 with 1 Axes>"
            ]
          },
          "metadata": {
            "needs_background": "light"
          },
          "output_type": "display_data"
        }
      ],
      "source": [
        "# Criando gráfico de barras\n",
        "plt.figure(figsize=(10, 6))\n",
        "sns.barplot(data=internet_traffic, x='month', y='mb_used', hue='plan_name')\n",
        "\n",
        "plt.xlabel('Mês')\n",
        "plt.ylabel('Tráfego de Internet Consumido (MB)')\n",
        "plt.title('Comparação do Tráfego de Internet Consumido por Plano')\n",
        "plt.legend(title='Plano')\n",
        "plt.show()"
      ]
    },
    {
      "cell_type": "markdown",
      "metadata": {
        "id": "SBr7KlARJhUo"
      },
      "source": [
        "- Com base na análise do tráfego de internet consumido pelos usuários em diferentes planos, podemos formular algumas conclusões:\n",
        "    - O plano ***Surf*** geralmente apresenta um menor consumo de tráfego de internet em comparação com o plano ***Ultimate***. Isso indica que os usuários do plano ***Surf*** tendem a utilizar menos dados da internet.\n",
        "    \n",
        "    - Ao longo dos meses, observa-se um aumento geral no consumo de tráfego de internet para ambos os planos. Isso sugere que os usuários estão gradualmente utilizando mais dados da internet ao longo do tempo.\n",
        "\n",
        "    - O comportamento de consumo de tráfego de internet varia entre os planos. Enquanto os usuários do plano ***Surf*** geralmente mantêm um nível de consumo mais baixo e estável, os usuários do plano ***Ultimate*** tendem a consumir mais dados, com variações mais significativas entre os meses.\n",
        "\n",
        "- Essas conclusões indicam que os usuários de diferentes planos têm comportamentos distintos em termos de consumo de tráfego de internet. Essas informações podem ser úteis para aprimorar os planos existentes, ajustando as ofertas de dados da internet de acordo com as necessidades e preferências dos usuários de cada plano."
      ]
    },
    {
      "cell_type": "markdown",
      "metadata": {
        "id": "qmd24s3LJhUp"
      },
      "source": [
        "## Receita"
      ]
    },
    {
      "cell_type": "markdown",
      "metadata": {
        "id": "ZhClnmx-JhUq"
      },
      "source": [
        "Assim como, estudamos o comportamento do usuário, vamos descrever estatisticamente a receita entre os planos."
      ]
    },
    {
      "cell_type": "code",
      "execution_count": null,
      "metadata": {
        "scrolled": true,
        "id": "J2Cx2wUWJhUq",
        "outputId": "74730d34-3187-4303-f36f-343c9a162742"
      },
      "outputs": [
        {
          "data": {
            "text/html": [
              "<div>\n",
              "<style scoped>\n",
              "    .dataframe tbody tr th:only-of-type {\n",
              "        vertical-align: middle;\n",
              "    }\n",
              "\n",
              "    .dataframe tbody tr th {\n",
              "        vertical-align: top;\n",
              "    }\n",
              "\n",
              "    .dataframe thead th {\n",
              "        text-align: right;\n",
              "    }\n",
              "</style>\n",
              "<table border=\"1\" class=\"dataframe\">\n",
              "  <thead>\n",
              "    <tr style=\"text-align: right;\">\n",
              "      <th></th>\n",
              "      <th>plan_name</th>\n",
              "      <th>month</th>\n",
              "      <th>monthly_revenue</th>\n",
              "    </tr>\n",
              "  </thead>\n",
              "  <tbody>\n",
              "    <tr>\n",
              "      <th>0</th>\n",
              "      <td>surf</td>\n",
              "      <td>0.0</td>\n",
              "      <td>120.00</td>\n",
              "    </tr>\n",
              "    <tr>\n",
              "      <th>1</th>\n",
              "      <td>surf</td>\n",
              "      <td>1.0</td>\n",
              "      <td>40.00</td>\n",
              "    </tr>\n",
              "    <tr>\n",
              "      <th>2</th>\n",
              "      <td>surf</td>\n",
              "      <td>2.0</td>\n",
              "      <td>308.34</td>\n",
              "    </tr>\n",
              "    <tr>\n",
              "      <th>3</th>\n",
              "      <td>surf</td>\n",
              "      <td>3.0</td>\n",
              "      <td>1053.23</td>\n",
              "    </tr>\n",
              "    <tr>\n",
              "      <th>4</th>\n",
              "      <td>surf</td>\n",
              "      <td>4.0</td>\n",
              "      <td>2022.93</td>\n",
              "    </tr>\n",
              "    <tr>\n",
              "      <th>5</th>\n",
              "      <td>surf</td>\n",
              "      <td>5.0</td>\n",
              "      <td>3637.49</td>\n",
              "    </tr>\n",
              "    <tr>\n",
              "      <th>6</th>\n",
              "      <td>surf</td>\n",
              "      <td>6.0</td>\n",
              "      <td>4746.71</td>\n",
              "    </tr>\n",
              "    <tr>\n",
              "      <th>7</th>\n",
              "      <td>surf</td>\n",
              "      <td>7.0</td>\n",
              "      <td>7529.41</td>\n",
              "    </tr>\n",
              "    <tr>\n",
              "      <th>8</th>\n",
              "      <td>surf</td>\n",
              "      <td>8.0</td>\n",
              "      <td>10299.43</td>\n",
              "    </tr>\n",
              "    <tr>\n",
              "      <th>9</th>\n",
              "      <td>surf</td>\n",
              "      <td>9.0</td>\n",
              "      <td>11242.75</td>\n",
              "    </tr>\n",
              "    <tr>\n",
              "      <th>10</th>\n",
              "      <td>surf</td>\n",
              "      <td>10.0</td>\n",
              "      <td>15417.11</td>\n",
              "    </tr>\n",
              "    <tr>\n",
              "      <th>11</th>\n",
              "      <td>surf</td>\n",
              "      <td>11.0</td>\n",
              "      <td>16310.30</td>\n",
              "    </tr>\n",
              "    <tr>\n",
              "      <th>12</th>\n",
              "      <td>surf</td>\n",
              "      <td>12.0</td>\n",
              "      <td>22294.43</td>\n",
              "    </tr>\n",
              "    <tr>\n",
              "      <th>13</th>\n",
              "      <td>ultimate</td>\n",
              "      <td>0.0</td>\n",
              "      <td>280.00</td>\n",
              "    </tr>\n",
              "    <tr>\n",
              "      <th>14</th>\n",
              "      <td>ultimate</td>\n",
              "      <td>1.0</td>\n",
              "      <td>280.00</td>\n",
              "    </tr>\n",
              "    <tr>\n",
              "      <th>15</th>\n",
              "      <td>ultimate</td>\n",
              "      <td>2.0</td>\n",
              "      <td>490.00</td>\n",
              "    </tr>\n",
              "    <tr>\n",
              "      <th>16</th>\n",
              "      <td>ultimate</td>\n",
              "      <td>3.0</td>\n",
              "      <td>896.00</td>\n",
              "    </tr>\n",
              "    <tr>\n",
              "      <th>17</th>\n",
              "      <td>ultimate</td>\n",
              "      <td>4.0</td>\n",
              "      <td>1533.00</td>\n",
              "    </tr>\n",
              "    <tr>\n",
              "      <th>18</th>\n",
              "      <td>ultimate</td>\n",
              "      <td>5.0</td>\n",
              "      <td>2051.00</td>\n",
              "    </tr>\n",
              "    <tr>\n",
              "      <th>19</th>\n",
              "      <td>ultimate</td>\n",
              "      <td>6.0</td>\n",
              "      <td>3367.00</td>\n",
              "    </tr>\n",
              "    <tr>\n",
              "      <th>20</th>\n",
              "      <td>ultimate</td>\n",
              "      <td>7.0</td>\n",
              "      <td>4242.00</td>\n",
              "    </tr>\n",
              "    <tr>\n",
              "      <th>21</th>\n",
              "      <td>ultimate</td>\n",
              "      <td>8.0</td>\n",
              "      <td>5173.00</td>\n",
              "    </tr>\n",
              "    <tr>\n",
              "      <th>22</th>\n",
              "      <td>ultimate</td>\n",
              "      <td>9.0</td>\n",
              "      <td>6195.00</td>\n",
              "    </tr>\n",
              "    <tr>\n",
              "      <th>23</th>\n",
              "      <td>ultimate</td>\n",
              "      <td>10.0</td>\n",
              "      <td>7665.00</td>\n",
              "    </tr>\n",
              "    <tr>\n",
              "      <th>24</th>\n",
              "      <td>ultimate</td>\n",
              "      <td>11.0</td>\n",
              "      <td>9107.00</td>\n",
              "    </tr>\n",
              "    <tr>\n",
              "      <th>25</th>\n",
              "      <td>ultimate</td>\n",
              "      <td>12.0</td>\n",
              "      <td>11067.00</td>\n",
              "    </tr>\n",
              "  </tbody>\n",
              "</table>\n",
              "</div>"
            ],
            "text/plain": [
              "   plan_name  month  monthly_revenue\n",
              "0       surf    0.0           120.00\n",
              "1       surf    1.0            40.00\n",
              "2       surf    2.0           308.34\n",
              "3       surf    3.0          1053.23\n",
              "4       surf    4.0          2022.93\n",
              "5       surf    5.0          3637.49\n",
              "6       surf    6.0          4746.71\n",
              "7       surf    7.0          7529.41\n",
              "8       surf    8.0         10299.43\n",
              "9       surf    9.0         11242.75\n",
              "10      surf   10.0         15417.11\n",
              "11      surf   11.0         16310.30\n",
              "12      surf   12.0         22294.43\n",
              "13  ultimate    0.0           280.00\n",
              "14  ultimate    1.0           280.00\n",
              "15  ultimate    2.0           490.00\n",
              "16  ultimate    3.0           896.00\n",
              "17  ultimate    4.0          1533.00\n",
              "18  ultimate    5.0          2051.00\n",
              "19  ultimate    6.0          3367.00\n",
              "20  ultimate    7.0          4242.00\n",
              "21  ultimate    8.0          5173.00\n",
              "22  ultimate    9.0          6195.00\n",
              "23  ultimate   10.0          7665.00\n",
              "24  ultimate   11.0          9107.00\n",
              "25  ultimate   12.0         11067.00"
            ]
          },
          "execution_count": 100,
          "metadata": {},
          "output_type": "execute_result"
        }
      ],
      "source": [
        "# Agrupando os dados por plano e mês e calculando a receita total mensal\n",
        "revenue = user_usage_with_plan.groupby(['plan_name', 'month'])['monthly_revenue'].sum().reset_index()\n",
        "revenue"
      ]
    },
    {
      "cell_type": "code",
      "execution_count": null,
      "metadata": {
        "id": "fHgCLRpWJhUr",
        "outputId": "e443e81c-31cc-4870-c269-443c1ccddb9a"
      },
      "outputs": [
        {
          "data": {
            "image/png": "[encoded data removed]",
            "text/plain": [
              "<Figure size 720x432 with 1 Axes>"
            ]
          },
          "metadata": {
            "needs_background": "light"
          },
          "output_type": "display_data"
        }
      ],
      "source": [
        "# Criando gráfico de barras\n",
        "plt.figure(figsize=(10, 6))\n",
        "sns.barplot(data=revenue, x='month', y='monthly_revenue', hue='plan_name')\n",
        "\n",
        "plt.xlabel('Mês')\n",
        "plt.ylabel('Receita Mensal (USD)')\n",
        "plt.title('Receita Mensal por Plano')\n",
        "plt.legend(title='Plano')\n",
        "plt.show()"
      ]
    },
    {
      "cell_type": "code",
      "execution_count": null,
      "metadata": {
        "id": "Phnx01LZJhUs",
        "outputId": "9a2caae2-73bf-46a1-f832-dfe09bfcd648"
      },
      "outputs": [
        {
          "data": {
            "text/html": [
              "<div>\n",
              "<style scoped>\n",
              "    .dataframe tbody tr th:only-of-type {\n",
              "        vertical-align: middle;\n",
              "    }\n",
              "\n",
              "    .dataframe tbody tr th {\n",
              "        vertical-align: top;\n",
              "    }\n",
              "\n",
              "    .dataframe thead th {\n",
              "        text-align: right;\n",
              "    }\n",
              "</style>\n",
              "<table border=\"1\" class=\"dataframe\">\n",
              "  <thead>\n",
              "    <tr style=\"text-align: right;\">\n",
              "      <th></th>\n",
              "      <th>count</th>\n",
              "      <th>mean</th>\n",
              "      <th>std</th>\n",
              "      <th>min</th>\n",
              "      <th>25%</th>\n",
              "      <th>50%</th>\n",
              "      <th>75%</th>\n",
              "      <th>max</th>\n",
              "    </tr>\n",
              "    <tr>\n",
              "      <th>plan_name</th>\n",
              "      <th></th>\n",
              "      <th></th>\n",
              "      <th></th>\n",
              "      <th></th>\n",
              "      <th></th>\n",
              "      <th></th>\n",
              "      <th></th>\n",
              "      <th></th>\n",
              "    </tr>\n",
              "  </thead>\n",
              "  <tbody>\n",
              "    <tr>\n",
              "      <th>surf</th>\n",
              "      <td>13.0</td>\n",
              "      <td>7309.394615</td>\n",
              "      <td>7282.658818</td>\n",
              "      <td>40.0</td>\n",
              "      <td>1053.23</td>\n",
              "      <td>4746.71</td>\n",
              "      <td>11242.75</td>\n",
              "      <td>22294.43</td>\n",
              "    </tr>\n",
              "    <tr>\n",
              "      <th>ultimate</th>\n",
              "      <td>13.0</td>\n",
              "      <td>4026.615385</td>\n",
              "      <td>3601.117501</td>\n",
              "      <td>280.0</td>\n",
              "      <td>896.00</td>\n",
              "      <td>3367.00</td>\n",
              "      <td>6195.00</td>\n",
              "      <td>11067.00</td>\n",
              "    </tr>\n",
              "  </tbody>\n",
              "</table>\n",
              "</div>"
            ],
            "text/plain": [
              "           count         mean          std    min      25%      50%       75%  \\\n",
              "plan_name                                                                       \n",
              "surf        13.0  7309.394615  7282.658818   40.0  1053.23  4746.71  11242.75   \n",
              "ultimate    13.0  4026.615385  3601.117501  280.0   896.00  3367.00   6195.00   \n",
              "\n",
              "                max  \n",
              "plan_name            \n",
              "surf       22294.43  \n",
              "ultimate   11067.00  "
            ]
          },
          "execution_count": 102,
          "metadata": {},
          "output_type": "execute_result"
        }
      ],
      "source": [
        "# Calculando as estatísticas descritivas da receita para cada plano\n",
        "stats_by_plan = revenue.groupby('plan_name')['monthly_revenue'].describe()\n",
        "stats_by_plan"
      ]
    },
    {
      "cell_type": "code",
      "execution_count": null,
      "metadata": {
        "id": "YM0pNihxJhUt",
        "outputId": "ad6168a4-9a21-4404-b3a7-bef0e77dc59a"
      },
      "outputs": [
        {
          "data": {
            "text/plain": [
              "plan_name\n",
              "surf        4746.71\n",
              "ultimate    3367.00\n",
              "Name: monthly_revenue, dtype: float64"
            ]
          },
          "execution_count": 103,
          "metadata": {},
          "output_type": "execute_result"
        }
      ],
      "source": [
        "# Calculando a mediana da receita para cada plano\n",
        "median_by_plan = revenue.groupby('plan_name')['monthly_revenue'].median()\n",
        "median_by_plan"
      ]
    },
    {
      "cell_type": "code",
      "execution_count": null,
      "metadata": {
        "id": "eInaiZAKJhUt",
        "outputId": "36d1746f-edda-4cb0-e453-26a0167b60a7"
      },
      "outputs": [
        {
          "data": {
            "text/plain": [
              "plan_name\n",
              "surf        7282.658818\n",
              "ultimate    3601.117501\n",
              "Name: monthly_revenue, dtype: float64"
            ]
          },
          "execution_count": 104,
          "metadata": {},
          "output_type": "execute_result"
        }
      ],
      "source": [
        "#Calculando a variancia e desvio padrao\n",
        "variance_by_plan = revenue.groupby('plan_name')['monthly_revenue'].var()\n",
        "std_by_plan = revenue.groupby('plan_name')['monthly_revenue'].std()\n",
        "variance_by_plan\n",
        "std_by_plan"
      ]
    },
    {
      "cell_type": "code",
      "execution_count": null,
      "metadata": {
        "id": "PKNiv2i-JhUu",
        "outputId": "cff7aede-8e61-49e3-d2c0-c7912aaad4a4"
      },
      "outputs": [
        {
          "data": {
            "text/plain": [
              "plan_name      \n",
              "surf       0.25     1053.23\n",
              "           0.50     4746.71\n",
              "           0.75    11242.75\n",
              "ultimate   0.25      896.00\n",
              "           0.50     3367.00\n",
              "           0.75     6195.00\n",
              "Name: monthly_revenue, dtype: float64"
            ]
          },
          "execution_count": 105,
          "metadata": {},
          "output_type": "execute_result"
        }
      ],
      "source": [
        "# Calculando os quartis da receita para cada plano\n",
        "quartiles_by_plan = revenue.groupby('plan_name')['monthly_revenue'].quantile([0.25, 0.5, 0.75])\n",
        "quartiles_by_plan"
      ]
    },
    {
      "cell_type": "code",
      "execution_count": null,
      "metadata": {
        "id": "cNw_WQ9UJhUu",
        "outputId": "4f44de2f-8245-4be6-de0c-94e2292886e5"
      },
      "outputs": [
        {
          "name": "stdout",
          "output_type": "stream",
          "text": [
            "Estatísticas Descritivas da Receita por Plano:\n",
            "           count         mean          std    min      25%      50%       75%  \\\n",
            "plan_name                                                                       \n",
            "surf        13.0  7309.394615  7282.658818   40.0  1053.23  4746.71  11242.75   \n",
            "ultimate    13.0  4026.615385  3601.117501  280.0   896.00  3367.00   6195.00   \n",
            "\n",
            "                max  \n",
            "plan_name            \n",
            "surf       22294.43  \n",
            "ultimate   11067.00  \n",
            "\n",
            "Mediana da Receita por Plano:\n",
            "plan_name\n",
            "surf        4746.71\n",
            "ultimate    3367.00\n",
            "Name: monthly_revenue, dtype: float64\n",
            "\n",
            "Variância da Receita por Plano:\n",
            "plan_name\n",
            "surf        5.303712e+07\n",
            "ultimate    1.296805e+07\n",
            "Name: monthly_revenue, dtype: float64\n",
            "\n",
            "Desvio Padrão da Receita por Plano:\n",
            "plan_name\n",
            "surf        7282.658818\n",
            "ultimate    3601.117501\n",
            "Name: monthly_revenue, dtype: float64\n",
            "\n",
            "Quartis da Receita por Plano:\n",
            "plan_name      \n",
            "surf       0.25     1053.23\n",
            "           0.50     4746.71\n",
            "           0.75    11242.75\n",
            "ultimate   0.25      896.00\n",
            "           0.50     3367.00\n",
            "           0.75     6195.00\n",
            "Name: monthly_revenue, dtype: float64\n"
          ]
        }
      ],
      "source": [
        "# Imprimindo as estatísticas descritivas\n",
        "print(\"Estatísticas Descritivas da Receita por Plano:\")\n",
        "print(stats_by_plan)\n",
        "\n",
        "print(\"\\nMediana da Receita por Plano:\")\n",
        "print(median_by_plan)\n",
        "\n",
        "print(\"\\nVariância da Receita por Plano:\")\n",
        "print(variance_by_plan)\n",
        "\n",
        "print(\"\\nDesvio Padrão da Receita por Plano:\")\n",
        "print(std_by_plan)\n",
        "\n",
        "print(\"\\nQuartis da Receita por Plano:\")\n",
        "print(quartiles_by_plan)"
      ]
    },
    {
      "cell_type": "markdown",
      "metadata": {
        "id": "96wh-wCYJhUv"
      },
      "source": [
        "- O plano ***Surf*** tem uma média de receita mais alta  em comparação com o plano ***Ultimate***.\n",
        "- O plano ***Surf*** também apresenta um desvio padrão maior, indicando uma variabilidade maior na receita em comparação com o plano ***Ultimate***.\n",
        "- A mediana da receita mostra que a receita mediana do plano ***Surf*** é maior do que a do plano ***Ultimate***.\n",
        "- Os quartis da receita mostram que o plano ***Surf*** possui uma faixa mais ampla de valores de receita, com valores mínimos e máximos mais altos em comparação com o plano ***Ultimate***.\n",
        "\n",
        "\n",
        "- Com base nessas estatísticas, podemos concluir que o plano ***Surf*** tende a gerar uma receita média mais alta, mas também possui uma maior variabilidade nos valores de receita. Por outro lado, o plano \"Ultimate\" apresenta uma receita média mais baixa, porém com uma variabilidade menor. A escolha do plano mais rentável dependerá dos objetivos da empresa e das preferências dos clientes em relação às características de cada plano.\n"
      ]
    },
    {
      "cell_type": "markdown",
      "metadata": {
        "id": "Wjw7F6SeJhUw"
      },
      "source": [
        "## Testar hipóteses estatísticas"
      ]
    },
    {
      "cell_type": "markdown",
      "metadata": {
        "id": "XrwF7zJaJhUw"
      },
      "source": [
        "Vamos testar a hipótese de que a receita média dos usuários dos planos de chamadas Ultimate e Surf é diferente."
      ]
    },
    {
      "cell_type": "markdown",
      "metadata": {
        "id": "jrAPr9txJhUx"
      },
      "source": [
        "- **Hipótese Nula (H0):** A receita média dos usuários dos planos de chamadas Ultimate e Surf é igual.\n",
        "\n",
        "- **Hipótese Alternativa (H1):** A receita média dos usuários dos planos de chamadas Ultimate e Surf é diferente.\n",
        "\n",
        "- **Teste Estatístico:** Para testar essa hipótese, podemos usar um teste de hipótese conhecido como Teste t independente. Esse teste é apropriado quando queremos comparar as médias de duas amostras independentes para determinar se há diferença significativa entre elas.\n",
        "\n",
        "- **O valor alfa**, que representa o nível de significância do teste, é uma escolha do pesquisador. Geralmente, valores comuns para alfa são 0.05 (5%) ou 0.01 (1%). É o valor que determina o quão raro o resultado deve ser, para que possamos rejeitar a hipótese nula."
      ]
    },
    {
      "cell_type": "code",
      "execution_count": null,
      "metadata": {
        "id": "z0eADovfJhUx"
      },
      "outputs": [],
      "source": [
        "# Teste as hipóteses\n",
        "# Filtrar as receitas dos usuários dos planos Ultimate e Surf\n",
        "revenue_ultimate = user_usage_with_plan[user_usage_with_plan['plan_name'] == 'ultimate']['monthly_revenue']\n",
        "revenue_surf = user_usage_with_plan[user_usage_with_plan['plan_name'] == 'surf']['monthly_revenue']"
      ]
    },
    {
      "cell_type": "code",
      "execution_count": null,
      "metadata": {
        "id": "izvYwZsEJhUx"
      },
      "outputs": [],
      "source": [
        "# Realizar o teste t independente\n",
        "alpha = 0.05  # Valor alfa\n",
        "t_statistic, p_value = stats.ttest_ind(revenue_ultimate, revenue_surf)"
      ]
    },
    {
      "cell_type": "code",
      "execution_count": null,
      "metadata": {
        "id": "bj2QoNRQJhUy",
        "outputId": "d8830eff-18e7-41d7-f835-7942bdcd8356"
      },
      "outputs": [
        {
          "name": "stdout",
          "output_type": "stream",
          "text": [
            "Rejeitar a hipótese nula. Há evidências estatísticas de diferença na receita média dos planos Ultimate e Surf.\n"
          ]
        }
      ],
      "source": [
        "# Comparar o p-valor com o valor alfa\n",
        "if p_value < alpha:\n",
        "    print(\"Rejeitar a hipótese nula. Há evidências estatísticas de diferença na receita média dos planos Ultimate e Surf.\")\n",
        "else:\n",
        "    print(\"Não há evidência para rejeitar a hipótese nula.\")"
      ]
    },
    {
      "cell_type": "markdown",
      "metadata": {
        "id": "jvliLsxjJhUy"
      },
      "source": [
        "- Isso significa que, com base nos dados analisados, encontramos evidências estatísticas de uma diferença significativa nas receitas médias entre os dois planos. A receita média dos usuários do plano ***Ultimate*** é significativamente diferente da receita média dos usuários do plano ***Surf***.\n",
        "\n",
        "- Essa informação pode ser útil para a empresa tomar decisões estratégicas, como ajustar os preços dos planos, segmentar melhor o público-alvo ou oferecer benefícios adicionais para os usuários de determinado plano.\n"
      ]
    },
    {
      "cell_type": "markdown",
      "metadata": {
        "id": "80FlJ3I3JhU0"
      },
      "source": [
        "Vamos testar a hipótese de que a receita média dos usuários da área de NY-NJ difere da dos usuários das demais regiões."
      ]
    },
    {
      "cell_type": "markdown",
      "metadata": {
        "id": "bM49LgzaJhU0"
      },
      "source": [
        "- **Hipótese nula (H0):** A receita média dos usuários da área de NY-NJ é igual à receita média dos usuários das demais regiões.\n",
        "\n",
        "- **Hipótese alternativa (H1):** A receita média dos usuários da área de NY-NJ difere da receita média dos usuários das demais regiões.\n",
        "\n",
        "- Para testar essas hipóteses, podemos utilizar um teste de hipótese paramétrico, como o teste t de duas amostras independentes. O valor alfa, que representa o nível de significância do teste, deve ser escolhido de acordo com o contexto do problema e a tolerância a erros do tipo I.\n",
        "\n",
        "- Vamos supor um valor alfa de 0,05, o que é comumente utilizado para testes de hipóteses."
      ]
    },
    {
      "cell_type": "code",
      "execution_count": null,
      "metadata": {
        "id": "PAdElRpCJhU0"
      },
      "outputs": [],
      "source": [
        "# Teste as hipóteses\n",
        "# Filtrando os dados dos usuários da área de NY-NJ\n",
        "ny_nj_revenue = user_usage_with_plan[user_usage_with_plan['city'].str.contains(\"NY-NJ\")]['monthly_revenue']\n"
      ]
    },
    {
      "cell_type": "code",
      "execution_count": null,
      "metadata": {
        "id": "FsrkGCNHJhU1",
        "outputId": "4ec4cd49-4925-4e4c-c000-6908b362fc52"
      },
      "outputs": [
        {
          "name": "stdout",
          "output_type": "stream",
          "text": [
            "O filtro retornou observações.\n"
          ]
        }
      ],
      "source": [
        "# Verificando se o filtro retorna algum valor\n",
        "if ny_nj_revenue.any():\n",
        "    print(\"O filtro retornou observações.\")\n",
        "else:\n",
        "    print(\"O filtro não retornou nenhuma observação. Verifique se o filtro está correto.\")"
      ]
    },
    {
      "cell_type": "code",
      "execution_count": null,
      "metadata": {
        "id": "9Ba3XSfcJhU1"
      },
      "outputs": [],
      "source": [
        "# Filtrando os dados dos usuários das demais regiões\n",
        "other_regions_revenue = user_usage_with_plan[~user_usage_with_plan['city'].str.contains(\"NY-NJ\")]['monthly_revenue']\n"
      ]
    },
    {
      "cell_type": "code",
      "execution_count": null,
      "metadata": {
        "id": "QD1C2ReQJhU2"
      },
      "outputs": [],
      "source": [
        "# Realizando o teste t de duas amostras independentes\n",
        "t_statistic, p_value = stats.ttest_ind(ny_nj_revenue, other_regions_revenue)\n"
      ]
    },
    {
      "cell_type": "code",
      "execution_count": null,
      "metadata": {
        "scrolled": true,
        "id": "Q4YPr4dpJhU2",
        "outputId": "4ba50a1c-71bf-4794-c0a3-55d8438a3fa8"
      },
      "outputs": [
        {
          "name": "stdout",
          "output_type": "stream",
          "text": [
            "Rejeitar a hipótese nula. Há evidências estatísticas de diferença na receita média entre NY-NJ e outras regiões.\n"
          ]
        }
      ],
      "source": [
        "# Comparar o p-valor com o valor alfa\n",
        "alpha = 0.05\n",
        "if p_value < alpha:\n",
        "    print(\"Rejeitar a hipótese nula. Há evidências estatísticas de diferença na receita média entre NY-NJ e outras regiões.\")\n",
        "else:\n",
        "    print(\"Não há evidência para rejeitar a hipótese nula. Não há evidências estatísticas de diferença na receita média entre NY-NJ e outras regiões.\")\n"
      ]
    },
    {
      "cell_type": "markdown",
      "metadata": {
        "id": "HwvMsDP4JhU4"
      },
      "source": [
        "## Conclusão geral"
      ]
    },
    {
      "cell_type": "markdown",
      "metadata": {
        "id": "gRdyXUoHJhU4"
      },
      "source": [
        "Ao concluir esta análise de dados, foram tomadas várias decisões importantes que influenciaram a forma como os dados foram processados e analisados. Vamos resumir essas decisões e suas consequências:\n",
        "\n",
        "1. **Exploração e Limpeza dos Dados:** Iniciamos o projeto explorando cada tabela individualmente, examinando sua estrutura, colunas e tipos de dados. Realizamos uma análise de valores nulos e tratamos esses valores de acordo com o contexto dos dados. Verificamos a consistência dos tipos de dados em cada coluna e corrigimos quaisquer erros ou inconsistências identificadas. Fizemos ajustes e limpeza nos dados para remover informações irrelevantes ou incorretas que poderiam afetar a análise posterior.\n",
        "\n",
        "2. **Integração dos Dados:** Após a preparação dos dados em cada tabela, integramos as informações relevantes em uma única estrutura, utilizando colunas chave para realizar a junção adequada.Isso nos permitiu ter uma visão consolidada dos dados, facilitando a análise comparativa entre diferentes variáveis.\n",
        "\n",
        "3. **Análise Exploratória:** Realizamos uma análise exploratória dos dados, calculando estatísticas descritivas, como média, mediana e desvio padrão, para entender melhor as características e distribuição dos dados. Utilizamos gráficos, como histogramas, diagramas de caixa e gráficos de barras, para visualizar as distribuições e identificar padrões ou diferenças entre os grupos de dados.\n",
        "\n",
        "4. **Testes de Hipóteses:** Formulamos hipóteses nulas e alternativas relacionadas a diferentes aspectos dos dados, como receita média entre os planos e diferença na receita entre regiões. Escolhemos o teste estatístico adequado para cada hipótese e definimos um valor alfa para determinar o nível de significância. Realizamos os testes estatísticos apropriados, comparando os dados amostrais e avaliando se havia evidências suficientes para rejeitar ou não a hipótese nula.\n",
        "\n",
        "Com base nessas etapas, chegamos a várias conclusões importantes:\n",
        "\n",
        "- Identificamos diferenças significativas na duração média das chamadas entre os planos ***Ultimate e Surf***, indicando que os usuários desses planos têm comportamentos distintos em relação às chamadas. Os usuários dos planos ***Ultimate e Surf*** apresentaram durações médias de chamadas diferentes ao longo dos meses. Os usuários do plano ***Ultimate*** tendem a fazer chamadas mais longas em comparação com os usuários do plano ***Surf***.\n",
        "- Observamos diferenças nas contagens médias de mensagens enviadas por mês entre os planos, sugerindo que os usuários de diferentes planos têm comportamentos distintos em relação ao envio de mensagens. Os usuários dos planos Ultimate e Surf apresentaram contagens de mensagens diferentes ao longo dos meses. Não há diferença significativa na contagem média de mensagens entre os planos Ultimate e Surf.\n",
        "- Identificamos diferenças na quantidade média de tráfego de internet consumido pelos usuários de diferentes planos, indicando que os usuários de cada plano têm padrões distintos de consumo de dados. Os usuários dos planos ***Ultimate e Surf*** consumiram quantidades diferentes de tráfego de internet ao longo dos meses. Os usuários do plano ***Ultimate*** consumiram mais tráfego de internet em comparação com os usuários do plano ***Surf.***\n",
        "- Não encontramos evidências estatísticas de diferença na receita média entre a região NY-NJ e as demais regiões, sugerindo que a localização geográfica dos usuários não tem um impacto significativo na receita.\n",
        "\n",
        "Essas conclusões são baseadas nas análises realizadas e nas decisões tomadas ao longo do processo de processamento e análise dos dados. As suposições foram consideradas e as técnicas estatísticas apropriadas foram aplicadas para garantir"
      ]
    }
  ],
  "metadata": {
    "ExecuteTimeLog": [
      {
        "duration": 828,
        "start_time": "2021-11-16T09:21:11.304Z"
      },
      {
        "duration": 893,
        "start_time": "2021-11-16T09:21:17.728Z"
      },
      {
        "duration": 1150,
        "start_time": "2021-11-16T09:21:29.568Z"
      },
      {
        "duration": 3,
        "start_time": "2021-11-16T09:24:14.495Z"
      },
      {
        "duration": 120,
        "start_time": "2021-11-16T09:24:46.630Z"
      },
      {
        "duration": 3,
        "start_time": "2021-11-16T09:28:27.882Z"
      },
      {
        "duration": 4,
        "start_time": "2021-11-16T09:29:54.281Z"
      },
      {
        "duration": 3,
        "start_time": "2021-11-16T09:30:45.936Z"
      },
      {
        "duration": 4,
        "start_time": "2021-11-16T09:31:06.300Z"
      },
      {
        "duration": 113,
        "start_time": "2021-11-16T09:31:37.208Z"
      },
      {
        "duration": 143,
        "start_time": "2021-11-16T09:31:48.656Z"
      },
      {
        "duration": 98,
        "start_time": "2021-11-16T09:31:55.678Z"
      },
      {
        "duration": 3,
        "start_time": "2021-11-16T09:32:08.535Z"
      },
      {
        "duration": 111,
        "start_time": "2021-11-16T09:32:10.120Z"
      },
      {
        "duration": 3,
        "start_time": "2021-11-16T09:32:15.732Z"
      },
      {
        "duration": 4,
        "start_time": "2021-11-16T09:32:29.423Z"
      },
      {
        "duration": 3,
        "start_time": "2021-11-16T10:03:03.074Z"
      },
      {
        "duration": 3,
        "start_time": "2021-11-16T10:10:01.288Z"
      },
      {
        "duration": 3,
        "start_time": "2021-11-16T10:10:46.923Z"
      },
      {
        "duration": 121,
        "start_time": "2021-11-16T10:37:46.494Z"
      },
      {
        "duration": 125,
        "start_time": "2021-11-16T10:38:20.632Z"
      },
      {
        "duration": 112,
        "start_time": "2021-11-16T10:46:53.001Z"
      },
      {
        "duration": 110,
        "start_time": "2021-11-16T10:48:25.775Z"
      },
      {
        "duration": 3,
        "start_time": "2021-11-16T10:50:18.720Z"
      },
      {
        "duration": 4,
        "start_time": "2021-11-16T10:50:37.649Z"
      },
      {
        "duration": 2,
        "start_time": "2021-11-16T10:50:51.884Z"
      },
      {
        "duration": 3,
        "start_time": "2021-11-16T10:51:56.237Z"
      },
      {
        "duration": 101,
        "start_time": "2021-11-16T10:53:13.791Z"
      },
      {
        "duration": 3,
        "start_time": "2021-11-16T10:55:59.186Z"
      },
      {
        "duration": 3,
        "start_time": "2021-11-16T10:56:10.751Z"
      },
      {
        "duration": 3,
        "start_time": "2021-11-16T10:56:49.038Z"
      },
      {
        "duration": 3,
        "start_time": "2021-11-16T10:56:49.174Z"
      },
      {
        "duration": 4,
        "start_time": "2021-11-16T10:56:49.414Z"
      },
      {
        "duration": 3,
        "start_time": "2021-11-16T10:56:49.680Z"
      },
      {
        "duration": 3,
        "start_time": "2021-11-16T10:56:50.370Z"
      },
      {
        "duration": 114,
        "start_time": "2021-11-16T10:59:34.518Z"
      },
      {
        "duration": 3,
        "start_time": "2021-11-16T11:01:41.201Z"
      },
      {
        "duration": 116,
        "start_time": "2021-11-16T11:01:48.754Z"
      },
      {
        "duration": 3,
        "start_time": "2021-11-16T11:02:16.685Z"
      },
      {
        "duration": 3,
        "start_time": "2021-11-16T11:02:19.479Z"
      },
      {
        "duration": 3,
        "start_time": "2021-11-16T11:02:47.067Z"
      },
      {
        "duration": 3,
        "start_time": "2021-11-16T11:02:49.353Z"
      },
      {
        "duration": 3,
        "start_time": "2021-11-16T11:03:07.835Z"
      },
      {
        "duration": 3,
        "start_time": "2021-11-16T11:03:07.953Z"
      },
      {
        "duration": 112,
        "start_time": "2021-11-16T11:07:52.072Z"
      },
      {
        "duration": 187,
        "start_time": "2021-11-16T11:09:23.468Z"
      },
      {
        "duration": 4,
        "start_time": "2021-11-16T11:10:01.455Z"
      },
      {
        "duration": 3,
        "start_time": "2021-11-16T11:10:05.069Z"
      },
      {
        "duration": 4,
        "start_time": "2021-11-16T11:10:13.376Z"
      },
      {
        "duration": 3,
        "start_time": "2021-11-16T11:10:14.434Z"
      },
      {
        "duration": 3,
        "start_time": "2021-11-16T11:10:22.853Z"
      },
      {
        "duration": 4,
        "start_time": "2021-11-16T11:27:29.279Z"
      },
      {
        "duration": 4,
        "start_time": "2021-11-16T11:29:08.919Z"
      },
      {
        "duration": 118,
        "start_time": "2021-11-16T11:29:46.703Z"
      },
      {
        "duration": 437,
        "start_time": "2021-11-16T11:36:02.181Z"
      },
      {
        "duration": 157,
        "start_time": "2021-11-16T11:36:14.388Z"
      },
      {
        "duration": 207,
        "start_time": "2021-11-16T11:47:15.898Z"
      },
      {
        "duration": 3,
        "start_time": "2021-11-16T11:53:52.092Z"
      },
      {
        "duration": 3,
        "start_time": "2021-11-16T11:53:52.236Z"
      },
      {
        "duration": 3,
        "start_time": "2021-11-16T11:59:12.005Z"
      },
      {
        "duration": 112,
        "start_time": "2021-11-16T12:00:33.446Z"
      },
      {
        "duration": 3,
        "start_time": "2021-11-16T12:02:14.453Z"
      },
      {
        "duration": 3,
        "start_time": "2021-11-16T12:02:39.512Z"
      },
      {
        "duration": 106,
        "start_time": "2021-11-16T12:03:03.460Z"
      },
      {
        "duration": 3,
        "start_time": "2021-11-17T20:37:21.139Z"
      },
      {
        "duration": 3,
        "start_time": "2021-11-17T20:37:22.229Z"
      },
      {
        "duration": 3,
        "start_time": "2021-11-17T20:38:38.806Z"
      },
      {
        "duration": 3,
        "start_time": "2021-11-17T20:38:41.958Z"
      },
      {
        "duration": 3,
        "start_time": "2021-11-17T20:43:46.551Z"
      },
      {
        "duration": 4,
        "start_time": "2021-11-17T20:58:21.835Z"
      },
      {
        "duration": 3,
        "start_time": "2021-11-17T20:59:21.872Z"
      },
      {
        "duration": 4,
        "start_time": "2021-11-17T20:59:45.352Z"
      },
      {
        "duration": 4,
        "start_time": "2021-11-17T20:59:49.646Z"
      },
      {
        "duration": 159,
        "start_time": "2021-11-17T21:02:26.949Z"
      },
      {
        "duration": 3,
        "start_time": "2021-11-17T21:03:53.461Z"
      },
      {
        "duration": 3,
        "start_time": "2021-11-17T21:03:53.694Z"
      },
      {
        "duration": 3,
        "start_time": "2021-11-17T21:05:28.145Z"
      },
      {
        "duration": 116,
        "start_time": "2021-11-17T21:05:57.787Z"
      },
      {
        "duration": 3,
        "start_time": "2021-11-17T21:06:37.993Z"
      },
      {
        "duration": 3,
        "start_time": "2021-11-17T21:06:38.261Z"
      },
      {
        "duration": 3,
        "start_time": "2021-11-17T21:11:54.358Z"
      },
      {
        "duration": 3,
        "start_time": "2021-11-17T21:12:43.846Z"
      },
      {
        "duration": 4,
        "start_time": "2021-11-17T21:13:08.773Z"
      },
      {
        "duration": 3,
        "start_time": "2021-11-17T21:14:44.441Z"
      },
      {
        "duration": 3,
        "start_time": "2021-11-17T21:15:42.059Z"
      },
      {
        "duration": 4,
        "start_time": "2021-11-17T21:15:51.995Z"
      },
      {
        "duration": 3,
        "start_time": "2021-11-17T21:15:53.923Z"
      },
      {
        "duration": 3,
        "start_time": "2021-11-17T21:15:55.282Z"
      },
      {
        "duration": 3,
        "start_time": "2021-11-17T21:16:28.492Z"
      },
      {
        "duration": 3,
        "start_time": "2021-11-17T21:16:32.603Z"
      },
      {
        "duration": 3,
        "start_time": "2021-11-17T21:17:06.941Z"
      },
      {
        "duration": 98,
        "start_time": "2021-11-17T21:18:05.733Z"
      },
      {
        "duration": 4,
        "start_time": "2021-11-17T21:21:35.255Z"
      },
      {
        "duration": 3,
        "start_time": "2021-11-17T21:21:37.804Z"
      },
      {
        "duration": 4,
        "start_time": "2021-11-17T21:23:06.071Z"
      },
      {
        "duration": 3,
        "start_time": "2021-11-17T21:23:24.799Z"
      },
      {
        "duration": 3,
        "start_time": "2021-11-17T21:23:32.591Z"
      },
      {
        "duration": 98,
        "start_time": "2021-11-17T21:28:31.559Z"
      },
      {
        "duration": 3,
        "start_time": "2021-11-17T21:28:45.448Z"
      },
      {
        "duration": 3,
        "start_time": "2021-11-17T21:29:17.303Z"
      },
      {
        "duration": 3,
        "start_time": "2021-11-17T21:29:29.617Z"
      },
      {
        "duration": 3,
        "start_time": "2021-11-17T21:29:32.681Z"
      },
      {
        "duration": 3,
        "start_time": "2021-11-17T21:36:11.474Z"
      },
      {
        "duration": 3,
        "start_time": "2021-11-17T21:36:14.791Z"
      },
      {
        "duration": 3,
        "start_time": "2021-11-17T21:36:53.943Z"
      },
      {
        "duration": 3,
        "start_time": "2021-11-17T21:36:56.165Z"
      },
      {
        "duration": 4,
        "start_time": "2021-11-17T21:37:16.590Z"
      },
      {
        "duration": 3,
        "start_time": "2021-11-17T21:37:22.702Z"
      },
      {
        "duration": 4,
        "start_time": "2021-11-17T21:38:03.479Z"
      },
      {
        "duration": 3,
        "start_time": "2021-11-17T21:38:08.601Z"
      },
      {
        "duration": 3,
        "start_time": "2021-11-17T21:38:12.928Z"
      },
      {
        "duration": 3,
        "start_time": "2021-11-17T21:38:48.896Z"
      },
      {
        "duration": 2,
        "start_time": "2021-11-17T21:38:49.171Z"
      },
      {
        "duration": 4,
        "start_time": "2021-11-17T21:39:57.889Z"
      },
      {
        "duration": 3,
        "start_time": "2021-11-17T21:39:58.057Z"
      },
      {
        "duration": 3,
        "start_time": "2021-11-17T21:41:20.108Z"
      },
      {
        "duration": 3,
        "start_time": "2021-11-17T21:41:20.629Z"
      },
      {
        "duration": 3,
        "start_time": "2021-11-17T21:42:49.136Z"
      },
      {
        "duration": 3,
        "start_time": "2021-11-17T21:43:15.137Z"
      },
      {
        "duration": 4,
        "start_time": "2021-11-17T21:43:16.766Z"
      },
      {
        "duration": 4,
        "start_time": "2021-11-17T21:43:31.711Z"
      },
      {
        "duration": 3,
        "start_time": "2021-11-17T21:43:36.312Z"
      },
      {
        "duration": 4,
        "start_time": "2021-11-17T21:45:08.825Z"
      },
      {
        "duration": 4,
        "start_time": "2021-11-17T21:45:10.119Z"
      },
      {
        "duration": 4,
        "start_time": "2021-11-17T21:45:13.748Z"
      },
      {
        "duration": 3,
        "start_time": "2021-11-17T21:45:22.219Z"
      },
      {
        "duration": 3,
        "start_time": "2021-11-17T21:45:33.412Z"
      },
      {
        "duration": 2,
        "start_time": "2021-11-17T21:46:01.885Z"
      },
      {
        "duration": 3,
        "start_time": "2021-11-17T21:46:03.628Z"
      },
      {
        "duration": 107,
        "start_time": "2021-11-17T21:47:32.512Z"
      },
      {
        "duration": 103,
        "start_time": "2021-11-17T21:50:36.243Z"
      },
      {
        "duration": 3,
        "start_time": "2021-11-18T06:28:31.440Z"
      },
      {
        "duration": 3,
        "start_time": "2021-11-18T06:29:00.168Z"
      },
      {
        "duration": 3,
        "start_time": "2021-11-18T06:31:27.008Z"
      },
      {
        "duration": 2,
        "start_time": "2021-11-18T06:35:34.288Z"
      },
      {
        "duration": 2,
        "start_time": "2021-11-18T06:38:04.527Z"
      }
    ],
    "kernelspec": {
      "display_name": "Python 3 (ipykernel)",
      "language": "python",
      "name": "python3"
    },
    "language_info": {
      "codemirror_mode": {
        "name": "ipython",
        "version": 3
      },
      "file_extension": ".py",
      "mimetype": "text/x-python",
      "name": "python",
      "nbconvert_exporter": "python",
      "pygments_lexer": "ipython3",
      "version": "3.9.5"
    },
    "toc": {
      "base_numbering": 1,
      "nav_menu": {},
      "number_sections": true,
      "sideBar": true,
      "skip_h1_title": false,
      "title_cell": "Table of Contents",
      "title_sidebar": "Contents",
      "toc_cell": false,
      "toc_position": {
        "height": "calc(100% - 180px)",
        "left": "10px",
        "top": "150px",
        "width": "280px"
      },
      "toc_section_display": true,
      "toc_window_display": false
    },
    "colab": {
      "provenance": [],
      "include_colab_link": true
    }
  },
  "nbformat": 4,
  "nbformat_minor": 0
}